{
 "cells": [
  {
   "cell_type": "code",
   "execution_count": 69,
   "metadata": {},
   "outputs": [
    {
     "name": "stderr",
     "output_type": "stream",
     "text": [
      "[nltk_data] Downloading package stopwords to /home/jstet/nltk_data...\n",
      "[nltk_data]   Package stopwords is already up-to-date!\n"
     ]
    },
    {
     "data": {
      "text/plain": [
       "True"
      ]
     },
     "execution_count": 69,
     "metadata": {},
     "output_type": "execute_result"
    }
   ],
   "source": [
    "from bertopic import BERTopic\n",
    "import pandas as pd\n",
    "import numpy as np\n",
    "from transformers.pipelines import pipeline\n",
    "import matplotlib.pyplot as plt\n",
    "from bertopic.representation import TextGeneration\n",
    "from tqdm import tqdm\n",
    "from nltk.corpus import stopwords\n",
    "import nltk\n",
    "from sklearn.feature_extraction.text import CountVectorizer\n",
    "from sentence_transformers import SentenceTransformer\n",
    "from umap import UMAP\n",
    "from unidecode import unidecode\n",
    "import re\n",
    "nltk.download(\"stopwords\")\n"
   ]
  },
  {
   "cell_type": "code",
   "execution_count": 70,
   "metadata": {},
   "outputs": [],
   "source": [
    "df = pd.read_csv(\"./data/sample.csv\")"
   ]
  },
  {
   "cell_type": "code",
   "execution_count": 71,
   "metadata": {},
   "outputs": [
    {
     "name": "stdout",
     "output_type": "stream",
     "text": [
      "count    399.000000\n",
      "mean      86.330827\n",
      "std      103.213302\n",
      "min        4.000000\n",
      "25%       26.000000\n",
      "50%       49.000000\n",
      "75%       99.000000\n",
      "max      661.000000\n",
      "Name: length, dtype: float64\n"
     ]
    }
   ],
   "source": [
    "# calculate mean length of text in words\n",
    "df[\"length\"] = df[\"description\"].apply(lambda x: len(x.split()))\n",
    "print(df[\"length\"].describe())"
   ]
  },
  {
   "cell_type": "code",
   "execution_count": 72,
   "metadata": {},
   "outputs": [
    {
     "data": {
      "image/png": "[encoded data removed]",
      "text/plain": [
       "<Figure size 640x480 with 1 Axes>"
      ]
     },
     "metadata": {},
     "output_type": "display_data"
    }
   ],
   "source": [
    "plt.hist(df[\"length\"], bins=100)\n",
    "\n",
    "mean = df[\"length\"].mean()\n",
    "median = df[\"length\"].median()\n",
    "\n",
    "plt.axvline(mean, color='red', linestyle='--')\n",
    "plt.axvline(median, color='green', linestyle='--')\n",
    "\n",
    "plt.xlabel(\"Description Length\")\n",
    "plt.ylabel(\"Frequency\")\n",
    "plt.title(\"Distribution of Description Lengths\")\n",
    "\n",
    "plt.legend([f\"Mean: {mean:.2f}\", f\"Median: {median:.2f}\"])\n",
    "\n",
    "plt.show()"
   ]
  },
  {
   "cell_type": "code",
   "execution_count": 73,
   "metadata": {},
   "outputs": [
    {
     "data": {
      "text/plain": [
       "266    Datenschutzfolgeabschätzung zur elektronischen...\n",
       "Name: description, dtype: object"
      ]
     },
     "execution_count": 73,
     "metadata": {},
     "output_type": "execute_result"
    }
   ],
   "source": [
    "# display text with smallest length\n",
    "df[df[\"length\"] == df[\"length\"].min()][\"description\"]\n"
   ]
  },
  {
   "cell_type": "code",
   "execution_count": 74,
   "metadata": {},
   "outputs": [
    {
     "name": "stderr",
     "output_type": "stream",
     "text": [
      "Calculating embeddings: 100%|█████████████████| 399/399 [00:53<00:00,  7.49it/s]\n"
     ]
    }
   ],
   "source": [
    "# Convert the descriptions to a list\n",
    "docs = df[\"description\"].tolist()\n",
    "\n",
    "# Initialize the SentenceTransformer model with the desired pre-trained model\n",
    "embedding_model = SentenceTransformer('distiluse-base-multilingual-cased-v1')\n",
    "\n",
    "# Calculate embeddings\n",
    "embeddings = []\n",
    "\n",
    "with tqdm(total=len(docs), ncols=80, desc=\"Calculating embeddings\") as pbar:\n",
    "    for doc in docs:\n",
    "        embedding = embedding_model.encode([doc])[0]\n",
    "        embeddings.append(embedding)\n",
    "        pbar.update(1)\n",
    "\n",
    "embeddings = np.stack(embeddings)"
   ]
  },
  {
   "cell_type": "code",
   "execution_count": 97,
   "metadata": {},
   "outputs": [],
   "source": [
    "\n",
    "\n",
    "# prompt = \"I have the following documents: [DOCUMENTS] \\nThese documents are about the following topic: '\"\n",
    "\n",
    "# generator = pipeline('text2text-generation', model='google/flan-t5-base')\n",
    "# representation_model = TextGeneration(generator)\n",
    "\n",
    "\n",
    "german_stop_words = stopwords.words('german')\n",
    "english_stop_words = stopwords.words('english')\n",
    "\n",
    "\n",
    "# Define a custom preprocessor function\n",
    "def custom_preprocessor(text):\n",
    "    for word in text.split():\n",
    "        if word == \"fr\":\n",
    "            text = text.replace(\"fr\", \"für\")\n",
    "    text = \" \".join([word for word in text.split() if word.lower() not in german_stop_words + [\"bitte\"] + english_stop_words])\n",
    "    return text\n",
    "\n",
    "\n",
    "# Create the CountVectorizer with the custom preprocessor\n",
    "vectorizer = CountVectorizer(preprocessor=custom_preprocessor)\n",
    "\n",
    "topic_model = BERTopic(vectorizer_model=vectorizer)\n",
    "\n",
    "topics, probs = topic_model.fit_transform(docs, embeddings)"
   ]
  },
  {
   "cell_type": "code",
   "execution_count": 76,
   "metadata": {},
   "outputs": [
    {
     "data": {
      "text/plain": [
       "True"
      ]
     },
     "execution_count": 76,
     "metadata": {},
     "output_type": "execute_result"
    }
   ],
   "source": [
    "\"für\" in german_stop_words"
   ]
  },
  {
   "cell_type": "code",
   "execution_count": 98,
   "metadata": {},
   "outputs": [
    {
     "data": {
      "text/html": [
       "<div>\n",
       "<style scoped>\n",
       "    .dataframe tbody tr th:only-of-type {\n",
       "        vertical-align: middle;\n",
       "    }\n",
       "\n",
       "    .dataframe tbody tr th {\n",
       "        vertical-align: top;\n",
       "    }\n",
       "\n",
       "    .dataframe thead th {\n",
       "        text-align: right;\n",
       "    }\n",
       "</style>\n",
       "<table border=\"1\" class=\"dataframe\">\n",
       "  <thead>\n",
       "    <tr style=\"text-align: right;\">\n",
       "      <th></th>\n",
       "      <th>Topic</th>\n",
       "      <th>Count</th>\n",
       "      <th>Name</th>\n",
       "      <th>Representation</th>\n",
       "      <th>Representative_Docs</th>\n",
       "    </tr>\n",
       "  </thead>\n",
       "  <tbody>\n",
       "    <tr>\n",
       "      <th>0</th>\n",
       "      <td>-1</td>\n",
       "      <td>114</td>\n",
       "      <td>-1_ber_Kosten_Abs_sowie</td>\n",
       "      <td>[ber, Kosten, Abs, sowie, Informationen, bzw, ...</td>\n",
       "      <td>[Antrag nach dem IFG\\r\\n\\r\\nSehr geehrte Damen...</td>\n",
       "    </tr>\n",
       "    <tr>\n",
       "      <th>1</th>\n",
       "      <td>0</td>\n",
       "      <td>69</td>\n",
       "      <td>0_wurde_Verkehr_100_Informationen</td>\n",
       "      <td>[wurde, Verkehr, 100, Informationen, ber, Bere...</td>\n",
       "      <td>[Hallo,\\r\\n\\r\\nDie DB Fernverkehr AG, dessen E...</td>\n",
       "    </tr>\n",
       "    <tr>\n",
       "      <th>2</th>\n",
       "      <td>1</td>\n",
       "      <td>57</td>\n",
       "      <td>1_Abs_Antrag_IFG_NRW</td>\n",
       "      <td>[Abs, Antrag, IFG, NRW, Informationen, betroff...</td>\n",
       "      <td>[Antrag nach dem IFG/UIG/VIG\\r\\n\\r\\nSehr geehr...</td>\n",
       "    </tr>\n",
       "    <tr>\n",
       "      <th>3</th>\n",
       "      <td>2</td>\n",
       "      <td>45</td>\n",
       "      <td>2_Daten_Dokumente_zB_internen</td>\n",
       "      <td>[Daten, Dokumente, zB, internen, Umgang, Weisu...</td>\n",
       "      <td>[Sämtliche internen Dokumente zum Umgang mit R...</td>\n",
       "    </tr>\n",
       "    <tr>\n",
       "      <th>4</th>\n",
       "      <td>3</td>\n",
       "      <td>41</td>\n",
       "      <td>3_Urteil_Dokumenten_documents_Anfürage</td>\n",
       "      <td>[Urteil, Dokumenten, documents, Anfürage, ange...</td>\n",
       "      <td>[Ich bitte um Übersendung des Gutachtens \"Rech...</td>\n",
       "    </tr>\n",
       "    <tr>\n",
       "      <th>5</th>\n",
       "      <td>4</td>\n",
       "      <td>26</td>\n",
       "      <td>4_SARSCoV2_Infektion_Tests_Tage</td>\n",
       "      <td>[SARSCoV2, Infektion, Tests, Tage, Anzahl, wur...</td>\n",
       "      <td>[Ich bitte im Zusammenhang der Corona Pandemie...</td>\n",
       "    </tr>\n",
       "    <tr>\n",
       "      <th>6</th>\n",
       "      <td>5</td>\n",
       "      <td>19</td>\n",
       "      <td>5_wievielen_viele_Fllen_Wieviele</td>\n",
       "      <td>[wievielen, viele, Fllen, Wieviele, Prfung, je...</td>\n",
       "      <td>[Anzahl der suspendierten Polizisten mit Grund...</td>\n",
       "    </tr>\n",
       "    <tr>\n",
       "      <th>7</th>\n",
       "      <td>6</td>\n",
       "      <td>15</td>\n",
       "      <td>6_Mathematik_Fach_Abituraufgaben_Aufgaben</td>\n",
       "      <td>[Mathematik, Fach, Abituraufgaben, Aufgaben, E...</td>\n",
       "      <td>[Sowohl die Übungsaufgaben für die Prüfungen s...</td>\n",
       "    </tr>\n",
       "    <tr>\n",
       "      <th>8</th>\n",
       "      <td>7</td>\n",
       "      <td>13</td>\n",
       "      <td>7_Einsparungen_Geschftsbetrieb_laufenden_Home</td>\n",
       "      <td>[Einsparungen, Geschftsbetrieb, laufenden, Hom...</td>\n",
       "      <td>[Wie hoch waren die Einsparungen im laufenden ...</td>\n",
       "    </tr>\n",
       "  </tbody>\n",
       "</table>\n",
       "</div>"
      ],
      "text/plain": [
       "   Topic  Count                                           Name  \\\n",
       "0     -1    114                        -1_ber_Kosten_Abs_sowie   \n",
       "1      0     69              0_wurde_Verkehr_100_Informationen   \n",
       "2      1     57                           1_Abs_Antrag_IFG_NRW   \n",
       "3      2     45                  2_Daten_Dokumente_zB_internen   \n",
       "4      3     41         3_Urteil_Dokumenten_documents_Anfürage   \n",
       "5      4     26                4_SARSCoV2_Infektion_Tests_Tage   \n",
       "6      5     19               5_wievielen_viele_Fllen_Wieviele   \n",
       "7      6     15      6_Mathematik_Fach_Abituraufgaben_Aufgaben   \n",
       "8      7     13  7_Einsparungen_Geschftsbetrieb_laufenden_Home   \n",
       "\n",
       "                                      Representation  \\\n",
       "0  [ber, Kosten, Abs, sowie, Informationen, bzw, ...   \n",
       "1  [wurde, Verkehr, 100, Informationen, ber, Bere...   \n",
       "2  [Abs, Antrag, IFG, NRW, Informationen, betroff...   \n",
       "3  [Daten, Dokumente, zB, internen, Umgang, Weisu...   \n",
       "4  [Urteil, Dokumenten, documents, Anfürage, ange...   \n",
       "5  [SARSCoV2, Infektion, Tests, Tage, Anzahl, wur...   \n",
       "6  [wievielen, viele, Fllen, Wieviele, Prfung, je...   \n",
       "7  [Mathematik, Fach, Abituraufgaben, Aufgaben, E...   \n",
       "8  [Einsparungen, Geschftsbetrieb, laufenden, Hom...   \n",
       "\n",
       "                                 Representative_Docs  \n",
       "0  [Antrag nach dem IFG\\r\\n\\r\\nSehr geehrte Damen...  \n",
       "1  [Hallo,\\r\\n\\r\\nDie DB Fernverkehr AG, dessen E...  \n",
       "2  [Antrag nach dem IFG/UIG/VIG\\r\\n\\r\\nSehr geehr...  \n",
       "3  [Sämtliche internen Dokumente zum Umgang mit R...  \n",
       "4  [Ich bitte um Übersendung des Gutachtens \"Rech...  \n",
       "5  [Ich bitte im Zusammenhang der Corona Pandemie...  \n",
       "6  [Anzahl der suspendierten Polizisten mit Grund...  \n",
       "7  [Sowohl die Übungsaufgaben für die Prüfungen s...  \n",
       "8  [Wie hoch waren die Einsparungen im laufenden ...  "
      ]
     },
     "execution_count": 98,
     "metadata": {},
     "output_type": "execute_result"
    }
   ],
   "source": [
    "topic_model.get_topic_info()"
   ]
  },
  {
   "cell_type": "code",
   "execution_count": 78,
   "metadata": {},
   "outputs": [
    {
     "data": {
      "text/html": [
       "<div>\n",
       "<style scoped>\n",
       "    .dataframe tbody tr th:only-of-type {\n",
       "        vertical-align: middle;\n",
       "    }\n",
       "\n",
       "    .dataframe tbody tr th {\n",
       "        vertical-align: top;\n",
       "    }\n",
       "\n",
       "    .dataframe thead th {\n",
       "        text-align: right;\n",
       "    }\n",
       "</style>\n",
       "<table border=\"1\" class=\"dataframe\">\n",
       "  <thead>\n",
       "    <tr style=\"text-align: right;\">\n",
       "      <th></th>\n",
       "      <th>Document</th>\n",
       "      <th>Topic</th>\n",
       "      <th>Name</th>\n",
       "      <th>Representation</th>\n",
       "      <th>Representative_Docs</th>\n",
       "      <th>Top_n_words</th>\n",
       "      <th>Probability</th>\n",
       "      <th>Representative_document</th>\n",
       "    </tr>\n",
       "  </thead>\n",
       "  <tbody>\n",
       "    <tr>\n",
       "      <th>0</th>\n",
       "      <td>Antrag nach dem Informationsfreiheitsgesetz NR...</td>\n",
       "      <td>1</td>\n",
       "      <td>1_und_ich_nach_bitte</td>\n",
       "      <td>[und, ich, nach, bitte, die, sie, abs, der, de...</td>\n",
       "      <td>[Antrag nach dem Informationsfreiheitsgesetz N...</td>\n",
       "      <td>und - ich - nach - bitte - die - sie - abs - d...</td>\n",
       "      <td>0.987637</td>\n",
       "      <td>True</td>\n",
       "    </tr>\n",
       "    <tr>\n",
       "      <th>1</th>\n",
       "      <td>Antrag nach dem IFG/UIG/VIG\\r\\n\\r\\nSehr geehrt...</td>\n",
       "      <td>1</td>\n",
       "      <td>1_und_ich_nach_bitte</td>\n",
       "      <td>[und, ich, nach, bitte, die, sie, abs, der, de...</td>\n",
       "      <td>[Antrag nach dem Informationsfreiheitsgesetz N...</td>\n",
       "      <td>und - ich - nach - bitte - die - sie - abs - d...</td>\n",
       "      <td>0.818884</td>\n",
       "      <td>False</td>\n",
       "    </tr>\n",
       "    <tr>\n",
       "      <th>2</th>\n",
       "      <td>Standortbescheinigung aus EMF-Datenbank Nr. 88...</td>\n",
       "      <td>-1</td>\n",
       "      <td>-1_der_die_und_in</td>\n",
       "      <td>[der, die, und, in, fr, sie, des, zu, von, ich]</td>\n",
       "      <td>[Antrag nach dem IFG/UIG/VIG\\r\\n\\r\\nSehr geehr...</td>\n",
       "      <td>der - die - und - in - fr - sie - des - zu - v...</td>\n",
       "      <td>0.000000</td>\n",
       "      <td>False</td>\n",
       "    </tr>\n",
       "    <tr>\n",
       "      <th>3</th>\n",
       "      <td>Ausgaben in Millionen für Bildung und Teilhabe...</td>\n",
       "      <td>1</td>\n",
       "      <td>1_und_ich_nach_bitte</td>\n",
       "      <td>[und, ich, nach, bitte, die, sie, abs, der, de...</td>\n",
       "      <td>[Antrag nach dem Informationsfreiheitsgesetz N...</td>\n",
       "      <td>und - ich - nach - bitte - die - sie - abs - d...</td>\n",
       "      <td>0.837348</td>\n",
       "      <td>False</td>\n",
       "    </tr>\n",
       "    <tr>\n",
       "      <th>4</th>\n",
       "      <td>den Endbericht bzw. das Gutachten zum Projekt ...</td>\n",
       "      <td>-1</td>\n",
       "      <td>-1_der_die_und_in</td>\n",
       "      <td>[der, die, und, in, fr, sie, des, zu, von, ich]</td>\n",
       "      <td>[Antrag nach dem IFG/UIG/VIG\\r\\n\\r\\nSehr geehr...</td>\n",
       "      <td>der - die - und - in - fr - sie - des - zu - v...</td>\n",
       "      <td>0.000000</td>\n",
       "      <td>False</td>\n",
       "    </tr>\n",
       "    <tr>\n",
       "      <th>...</th>\n",
       "      <td>...</td>\n",
       "      <td>...</td>\n",
       "      <td>...</td>\n",
       "      <td>...</td>\n",
       "      <td>...</td>\n",
       "      <td>...</td>\n",
       "      <td>...</td>\n",
       "      <td>...</td>\n",
       "    </tr>\n",
       "    <tr>\n",
       "      <th>394</th>\n",
       "      <td>Wie hoch waren die Einsparungen im laufenden G...</td>\n",
       "      <td>8</td>\n",
       "      <td>8_einsparungen_durch_geschftsbetrieb_laufenden</td>\n",
       "      <td>[einsparungen, durch, geschftsbetrieb, laufend...</td>\n",
       "      <td>[Wie hoch waren die Einsparungen im laufenden ...</td>\n",
       "      <td>einsparungen - durch - geschftsbetrieb - laufe...</td>\n",
       "      <td>1.000000</td>\n",
       "      <td>True</td>\n",
       "    </tr>\n",
       "    <tr>\n",
       "      <th>395</th>\n",
       "      <td>Bei der Sendung \"Wetten dass\" am 08.06.2013 wu...</td>\n",
       "      <td>-1</td>\n",
       "      <td>-1_der_die_und_in</td>\n",
       "      <td>[der, die, und, in, fr, sie, des, zu, von, ich]</td>\n",
       "      <td>[Antrag nach dem IFG/UIG/VIG\\r\\n\\r\\nSehr geehr...</td>\n",
       "      <td>der - die - und - in - fr - sie - des - zu - v...</td>\n",
       "      <td>0.000000</td>\n",
       "      <td>False</td>\n",
       "    </tr>\n",
       "    <tr>\n",
       "      <th>396</th>\n",
       "      <td>1. Protokoll der Bohrlochbegehungen Düste14 un...</td>\n",
       "      <td>-1</td>\n",
       "      <td>-1_der_die_und_in</td>\n",
       "      <td>[der, die, und, in, fr, sie, des, zu, von, ich]</td>\n",
       "      <td>[Antrag nach dem IFG/UIG/VIG\\r\\n\\r\\nSehr geehr...</td>\n",
       "      <td>der - die - und - in - fr - sie - des - zu - v...</td>\n",
       "      <td>0.000000</td>\n",
       "      <td>False</td>\n",
       "    </tr>\n",
       "    <tr>\n",
       "      <th>397</th>\n",
       "      <td>Für den Betrieb einer jeden offiziellen Dokume...</td>\n",
       "      <td>2</td>\n",
       "      <td>2_daten_der_und_oder</td>\n",
       "      <td>[daten, der, und, oder, zum, dokumente, zb, di...</td>\n",
       "      <td>[Sämtliche internen Dokumente zum Umgang mit R...</td>\n",
       "      <td>daten - der - und - oder - zum - dokumente - z...</td>\n",
       "      <td>0.930024</td>\n",
       "      <td>False</td>\n",
       "    </tr>\n",
       "    <tr>\n",
       "      <th>398</th>\n",
       "      <td>Antrag nach dem IFG/UIG/VIG\\r\\n\\r\\nSehr geehrt...</td>\n",
       "      <td>-1</td>\n",
       "      <td>-1_der_die_und_in</td>\n",
       "      <td>[der, die, und, in, fr, sie, des, zu, von, ich]</td>\n",
       "      <td>[Antrag nach dem IFG/UIG/VIG\\r\\n\\r\\nSehr geehr...</td>\n",
       "      <td>der - die - und - in - fr - sie - des - zu - v...</td>\n",
       "      <td>0.000000</td>\n",
       "      <td>True</td>\n",
       "    </tr>\n",
       "  </tbody>\n",
       "</table>\n",
       "<p>399 rows × 8 columns</p>\n",
       "</div>"
      ],
      "text/plain": [
       "                                              Document  Topic  \\\n",
       "0    Antrag nach dem Informationsfreiheitsgesetz NR...      1   \n",
       "1    Antrag nach dem IFG/UIG/VIG\\r\\n\\r\\nSehr geehrt...      1   \n",
       "2    Standortbescheinigung aus EMF-Datenbank Nr. 88...     -1   \n",
       "3    Ausgaben in Millionen für Bildung und Teilhabe...      1   \n",
       "4    den Endbericht bzw. das Gutachten zum Projekt ...     -1   \n",
       "..                                                 ...    ...   \n",
       "394  Wie hoch waren die Einsparungen im laufenden G...      8   \n",
       "395  Bei der Sendung \"Wetten dass\" am 08.06.2013 wu...     -1   \n",
       "396  1. Protokoll der Bohrlochbegehungen Düste14 un...     -1   \n",
       "397  Für den Betrieb einer jeden offiziellen Dokume...      2   \n",
       "398  Antrag nach dem IFG/UIG/VIG\\r\\n\\r\\nSehr geehrt...     -1   \n",
       "\n",
       "                                               Name  \\\n",
       "0                              1_und_ich_nach_bitte   \n",
       "1                              1_und_ich_nach_bitte   \n",
       "2                                 -1_der_die_und_in   \n",
       "3                              1_und_ich_nach_bitte   \n",
       "4                                 -1_der_die_und_in   \n",
       "..                                              ...   \n",
       "394  8_einsparungen_durch_geschftsbetrieb_laufenden   \n",
       "395                               -1_der_die_und_in   \n",
       "396                               -1_der_die_und_in   \n",
       "397                            2_daten_der_und_oder   \n",
       "398                               -1_der_die_und_in   \n",
       "\n",
       "                                        Representation  \\\n",
       "0    [und, ich, nach, bitte, die, sie, abs, der, de...   \n",
       "1    [und, ich, nach, bitte, die, sie, abs, der, de...   \n",
       "2      [der, die, und, in, fr, sie, des, zu, von, ich]   \n",
       "3    [und, ich, nach, bitte, die, sie, abs, der, de...   \n",
       "4      [der, die, und, in, fr, sie, des, zu, von, ich]   \n",
       "..                                                 ...   \n",
       "394  [einsparungen, durch, geschftsbetrieb, laufend...   \n",
       "395    [der, die, und, in, fr, sie, des, zu, von, ich]   \n",
       "396    [der, die, und, in, fr, sie, des, zu, von, ich]   \n",
       "397  [daten, der, und, oder, zum, dokumente, zb, di...   \n",
       "398    [der, die, und, in, fr, sie, des, zu, von, ich]   \n",
       "\n",
       "                                   Representative_Docs  \\\n",
       "0    [Antrag nach dem Informationsfreiheitsgesetz N...   \n",
       "1    [Antrag nach dem Informationsfreiheitsgesetz N...   \n",
       "2    [Antrag nach dem IFG/UIG/VIG\\r\\n\\r\\nSehr geehr...   \n",
       "3    [Antrag nach dem Informationsfreiheitsgesetz N...   \n",
       "4    [Antrag nach dem IFG/UIG/VIG\\r\\n\\r\\nSehr geehr...   \n",
       "..                                                 ...   \n",
       "394  [Wie hoch waren die Einsparungen im laufenden ...   \n",
       "395  [Antrag nach dem IFG/UIG/VIG\\r\\n\\r\\nSehr geehr...   \n",
       "396  [Antrag nach dem IFG/UIG/VIG\\r\\n\\r\\nSehr geehr...   \n",
       "397  [Sämtliche internen Dokumente zum Umgang mit R...   \n",
       "398  [Antrag nach dem IFG/UIG/VIG\\r\\n\\r\\nSehr geehr...   \n",
       "\n",
       "                                           Top_n_words  Probability  \\\n",
       "0    und - ich - nach - bitte - die - sie - abs - d...     0.987637   \n",
       "1    und - ich - nach - bitte - die - sie - abs - d...     0.818884   \n",
       "2    der - die - und - in - fr - sie - des - zu - v...     0.000000   \n",
       "3    und - ich - nach - bitte - die - sie - abs - d...     0.837348   \n",
       "4    der - die - und - in - fr - sie - des - zu - v...     0.000000   \n",
       "..                                                 ...          ...   \n",
       "394  einsparungen - durch - geschftsbetrieb - laufe...     1.000000   \n",
       "395  der - die - und - in - fr - sie - des - zu - v...     0.000000   \n",
       "396  der - die - und - in - fr - sie - des - zu - v...     0.000000   \n",
       "397  daten - der - und - oder - zum - dokumente - z...     0.930024   \n",
       "398  der - die - und - in - fr - sie - des - zu - v...     0.000000   \n",
       "\n",
       "     Representative_document  \n",
       "0                       True  \n",
       "1                      False  \n",
       "2                      False  \n",
       "3                      False  \n",
       "4                      False  \n",
       "..                       ...  \n",
       "394                     True  \n",
       "395                    False  \n",
       "396                    False  \n",
       "397                    False  \n",
       "398                     True  \n",
       "\n",
       "[399 rows x 8 columns]"
      ]
     },
     "execution_count": 78,
     "metadata": {},
     "output_type": "execute_result"
    }
   ],
   "source": [
    "topic_model.get_document_info(docs)"
   ]
  },
  {
   "cell_type": "code",
   "execution_count": 79,
   "metadata": {},
   "outputs": [
    {
     "data": {
      "text/plain": [
       "id                                                          9169\n",
       "description    Antrag nach dem Informationsfreiheitsgesetz NR...\n",
       "title                                Schließung diverser Schulen\n",
       "length                                                       295\n",
       "Name: 0, dtype: object"
      ]
     },
     "execution_count": 79,
     "metadata": {},
     "output_type": "execute_result"
    }
   ],
   "source": [
    "df.iloc[0]"
   ]
  },
  {
   "cell_type": "code",
   "execution_count": 85,
   "metadata": {},
   "outputs": [],
   "source": [
    "# make a list of objects with df id and df title\n",
    "hover_lst = df[[\"id\", \"description\"]]\n",
    "# convert to list of concatenated columns\n",
    "hover_lst = [f\"{x[0]}: {x[1][:100]}\" for x in hover_lst.values]\n"
   ]
  },
  {
   "cell_type": "code",
   "execution_count": 99,
   "metadata": {},
   "outputs": [
    {
     "data": {
      "application/vnd.plotly.v1+json": {
       "config": {
        "plotlyServerURL": "https://plot.ly"
       },
       "data": [
        {
         "hoverinfo": "text",
         "hovertext": [
          "172437: Die Alternative für Deutschland hält am 25. und 26. April 2020 ihren Parteitag in Offenburg in der B",
          "5673: - wie viele einfache Melderegisterauskünfte in den Jahren ,2011,2012,2013 durch die Stadt Gütersloh ",
          "9595: Sehr geehrte Damen und Herren,\r\n\r\nzu wissenschaftlichen Zwecken bitte ich Sie um die Beantwortung de",
          "253509: - den Referentenentwurf des LNG-Beschleunigungsgesetzes (LNGG)\r\n- alle Stellungnahmen von Verbänden,",
          "11621: Antrag nach dem IFG/UIG/VIG\r\n\r\nSehr geehrte Damen und Herren, \r\n\r\nbitte senden Sie mir Folgendes zu:",
          "182989: Weshalb gibt es keine Anordnung zur Schliessung von  WfbM's in Rheinland-Pfalz? \r\nMenschen, die in e",
          "187320: Anzahl der Wohnberechtigungsscheine, mit einer Wartezeit von über 10 Jahren.",
          "229606: den Vertrag zwischen dem Bundesamt für Ausrüstung, Informationstechnik und Nutzung der Bundeswehr (B",
          "266355: Alle schriftlichen Korrespondenzen zwischen dem schleswig-holsteinischen Wirtschaftsministerium und ",
          "141594: Eine möglichst detaillierte Auflistung der steuerfreien Sachbezüge (bis zu 44€ mtl. pro Arbeitsstell",
          "173544: Eine Aufstellung aller im Einsatz oder in Ausbildung befindlichen Polizeihunde Hessens unter Angabe ",
          "223642: eine Auflistung aller Fälle, in denen Strafen nach der Wohnraumschutzsatzung verhängt wurden (also z",
          "11604: Antrag nach dem IFG/UIG/VIG\r\n\r\nSehr geehrte Damen und Herren, \r\n\r\nbitte senden Sie mir Folgendes zu:",
          "194135: Eine Übersicht, aus der ersichtlich ist, welche Summe dem Landeshaushalt seit 2008 jährlich in Folge",
          "193272: Sämtliche Dokumente, die abweichende Zuständigkeiten von Polizeibehörden im Rheinischen Braunkohlenr",
          "191752: 1. Dokumente und Verträge die im Zusammenhang mit der Videoplattform Zoom stehen. \r\n\r\n2. Dokumente u",
          "3554: Bitte senden Sie mir alle Dokumente zu, die Verträge, Abmachungen mit Unternehmen und Anfragen von U",
          "265411: Speisepläne der Kalenderwoche 17 ihrer Anstalt im Jahre 2022 in digitaler Form.",
          "145627: Bitte teilen sie mir mit , welche baulichen Veränderungen am oben genannten Objekt geplant sind. Ist",
          "250040: - Einen Datensatz mit Bewilligungen von geförderten Wohnraum, unterschieden nach Miete & Eigentum, j",
          "10170: der Volksfreund hat heute getitelt:\r\n\r\nTäglich 200.000 Angriffe aus dem Internet auf Landesbehörden\r",
          "237276: Wie zahlreichen Pressemeldungen zu entnehmen war, hat das Robert Koch-Institut von der Gates Foundat",
          "7083: 1.\tWelche Kosten welcher Art entstanden für die Vorbereitung, Durchführung und Nachbereitung der Ver",
          "185408: Ich möchte mich hiermit einer bereits gestellten Anfrage einer besorgten Bürgerin anschließen.\r\nDer ",
          "8147: Alle Dokumente und Protokolle zu den wöchentlichen »Jours fixes« auf Leitungsebene, den sogenannten ",
          "189488: Ihre Handreichung/Beschreibung der Vorgehensweise zur Prüfung von IFG Anträgen. Insbesondere zu den ",
          "267752: Vom 12.01. bis 14.01.23 fand der Fachkongress „Forschung für den Bevölkerungsschutz“ in Bonn statt.\r",
          "140977: In Kapitel 1602, Titel 53102 werden \"Maßnahmen zur Klimaneutralisierung von Dienstreisenund Dienstfa",
          "264659: für alle genehmigten Projekte der Bund-Länder-Förderinitivative \"Künstliche Intelligenz in der Hochs",
          "189503: Nach aktueller Gesetzeslage gelten im Sektor \"Wasser\" die Bereiche \"Trinkwasser\" und \"Abwasser\" als ",
          "195446: Laut des Auswärtigen Amts gilt die Provinz Antalya nicht mehr als Risikogebiet..ich habe persönlich ",
          "208023: Folgende Unterlagen das unten genannte sich im Einfluss ihrer Gewerbeaufsicht befindliche Unternehme",
          "26553: Auf meine Anfrage hat Statistisches Bundesamt geantwortet, dass Rundfunkbeitrag in der Bundes- und L",
          "221688: ich würde zunächst gerne bei Ihnen vorstellen: ich bin Student der Politikwissenschaften (Bereich Um",
          "283075: \"Der Bund hat dieses Jahr 2,75 Milliarden Euro zugesagt, damit Länder und Kommunen Flüchtlinge verso",
          "8182: Antwortschreiben vom 26.08.2005 an das Forum Contracting e. V.\r\n\r\nIn besagtem Schreiben nehmen Sie S",
          "269790: Bitte übermitteln Sie aus dem Verwaltungsvorgang bzw. den Verwaltungsvorgängen, die Bezüge \r\nzur Rüc",
          "20761: - Zahlen zu Flüchtlingskinder, besonders Kinder unter 10 Jahre alt.  Wie viel sie sind, wie viel sin",
          "172711: - Auskunft, ob von der Möglichkeit zur Einführung des elektronischen Rechtsverkehrs zum 1.1.2020 bzw",
          "131923: die Verträge der Stadt Heidenheim mit der Apcoa Tochter Park & Control zur Bewirtschaftung des Parkp",
          "23664: Ich benötige eine Liste aller WahlLOKALE von der Bundestagswahl 2013 und 2017 für das gesamte Bundes",
          "202949: im Entscheiderbrief 10/2020 des Bundesamts für Migration und Flüchtlinge ist eine \"Evaluation der Gr",
          "201192: Informationen zum Hintergrund für die jetzige Handhabung des Bezeichnugs-Felds im EÜR-Formular von E",
          "151553: - Eine Auflistung aller Kosten, die dem Staat / Steuerzahler insgesamt für Planung, Gutachten, Geric",
          "30446: Sämtliche Weisungen und Arbeitshilfen bezüglich der Handhabe von Mietkautionen bei Umzügen von Leist",
          "259910: das Datenblatt der Funkstandorte der folgenden STOB-Nummern:\r\n\r\n660969\r\n660563\r\n660591\r\n660970\r\n6608",
          "56276: Sehr << Antragsteller:in >>\n\r\nich hatte Sie in folgender Anfrage um Vermittlung gebeten: \r\nhttps://f",
          "274208: die Standortbescheinigungen 680079, 680620 und 69018907 und falls vorhanden, jeweils das technische ",
          "264428: alle Allgemeinverfügungen des Landkreises Heinsberg betreffend die Corona-Pandemie im Februar und Mä",
          "265912: Die Ziele der WfbM ergeben sich aus § 56 SGB IX:\r\n„Leistungen in anerkannten Werkstätten für behinde",
          "275459: Antrag nach dem IZG-SH/VIG\r\n\r\nGuten Tag, \r\n\r\nIch bitte um Auskunft über die Kosten, die der Polizei ",
          "4376: Bei der Sendung \"Wetten dass\" am 08.06.2013 wurde unter den anwesenden Zuschauern eine Reise nach Ha",
          "252060: Geschäftsberichte 2019, 2020\r\nHaushaltsplan 2021, 2022",
          "24500: Genehmigungsbescheid des Betriebes Cityboys (http://www.cityboys.eu/) als Betrieb des Prostitutionsg",
          "32077: Die Vorlage für den Rahmenvertrag IKT-Basisdienste (vgl. AGH-Drs. 18/15410)",
          "212258: Wie erklären Sie sich den Anstieg der Sterblichkeit um 6,5 % von 2014 auf 2015? Davon wurde nicht in",
          "60865: 1. Protokoll der Bohrlochbegehungen Düste14 und Düste10 am 30.1.2019\r\n2. GGf Stellungnahmen der Wint",
          "26211: Die Bundesregierung will die Aufrüstung türkischer Leopard-Panzer genehmigen. In welchem Umfang und ",
          "275057: Datenschutzfolgeabschätzung zur elektronischen Patientenakte.",
          "139874: An den Landkreis Nordwestmecklenburg\r\n\r\nAntrag nach dem IFG M-V\r\n\r\nSehr geehrte Damen und Herren, \r\n",
          "23714: alle Unterlagen (oder Links/Hinweise auf entsprechende Veröffentlichungen) zu Planungen und Beschlüs",
          "3622: Sehr geehrte Damen und Herren der Handwerkskammer Hamburg.\r\n\r\nUnter der Schirmherrschaft der  Handwe",
          "162698: - Bei wie vielen Rückführungen Frontex unterstützend tätig wurde und aus welchen Herkunftsländern di",
          "214765: Antrag nach dem IFG\r\n\r\nSehr geehrte Damen und Herren, \r\n\r\nbitte senden Sie mir Folgendes zu:\r\n\r\nEine",
          "200529: Bitte übermitteln Sie mir die Daten des Sentinelsystems ICD10-Code basierte KH-Surveillance ICOSARI ",
          "221654: Eine Aufstellung der Rechts- und Beratungskosten der Gemeinde Michendorf zur Verhinderung der Deponi",
          "260232: Bei der Betrachtung ihres Webauftrittes fällt (neben einiger technischer Mängel) auf, dass dieser we",
          "8067: Mir ist aufgefallen, dass sich BKKs und Innungskrankenkassen sich nicht an die gesetzlichen Vorgaben",
          "288144: Die verfügbaren Daten zur Entwicklung der Preise der im Sinne des § 28 SGB XII regelbedarfsrelevante",
          "237870: Jegliche Anträge und oder Schriftverkehr bezüglich Überfluggenehmigungen für den 17.01.2022 bezogen ",
          "31046: Kopie der Ausschreibungen und Verträge zwischen Landkreis und mit dem ÖPNV durch den Landkreis beauf",
          "173618: Die „Sonderwagen 4“ (SW 4) der Polizeien von Bund und Ländern werden durch „Sonderwagen 5“ ersetzt. ",
          "219412: Sie üben als Aufsichtsbehörde die Rechtsaufsicht über den MDK Bremen aus und sind dabei auch für die",
          "28060: * Sicherheitsaudit / Analyse von 18 Kryptobibliotheken, die im Rahmen des o.g. Projekts durchgeführt",
          "199411: Dokumente zur Neugestaltung der Formulare für Steuererklärungen (z. B. Zeitplanung, Drucksachen, Vor",
          "18074: wie viele Mitteln sind seit dem 1. Projektantrag von GATE im Jahre 2002 in diese vom DLR und BMWi ge",
          "265429: Speisepläne der Kalenderwoche 17 ihrer Anstalt im Jahre 2022 in digitaler Form.",
          "218174: Standortbescheinigungen Nr.: 064192, 064098, 060990, 061268 und die techn. Datenblätter",
          "56665: Wegen Räude, verfaulten Hufen, Liegeschwielen, Unterernährung etc. wurden mehrere Tiere des Zirkus \"",
          "187559: Nach dem Beschluss 6 C 6/18 des VGH Kassel ist es zulässig, den Rundfunkbeitrag bar zu entrichten. W",
          "284464: - Beschlussfassung der KSt-Referatsleiter des Bundes und der Länder am 14.-16.09.2021 (KSt/GewSt II/",
          "17975: Informationen über Prof. Dr. Heinrich Kunstmann (Politiker, 09.12.1900 bis 02.03.1964): \r\nVerantwort",
          "271429: Fragen an die Autorisierte Stelle Digitalfunk:\r\n\r\nUnter\r\nhttps://www.feuerwehrmagazin.de/nachrichten",
          "9586: Alle Dokumente zu finanziellen Zuschüssen an den IN-City e.V. oder für Projekte an denen der IN-City",
          "16921: Wie viel Geld wurde vom Land Berlin an die Clubcommission Berlin, Verband der Berliner Club-, Party-",
          "265474: Speisepläne der Kalenderwoche 17 ihrer Anstalt im Jahre 2022 in digitaler Form.",
          "27113: -  Den Bewirtschaftungsplan des FFH-Gebietes  \t3825-331 \" Beuster (mit NSG 'Am roten Steine')\"\r\n- Di",
          "205304: Der Entwurf einer Satzung zur Konkretisierung der Bestimmungen für Medienintermediäre nach §§ 91-96 ",
          "185231: Antrag nach dem IFG\r\n\r\nSehr geehrte Damen und Herren, \r\nlaut Medienbericht\r\nhttps://www.welt.de/deba",
          "189379: Laut §20 Abs. 2 Nr. 1 SOG LSA ist eine Personalienkontrolle möglich, sobald sich eine Person an eine",
          "223913: Ich habe am 25.10.2020 für meinen Firmenwagen einen Antrag auf Förderung der Unterhaltungs- bzw. Lad",
          "28488: * Sicherheitsaudit / Analyse von 18 Kryptobibliotheken, die im Rahmen des o.g. Projekts durchgeführt",
          "268807: Die 10. Seite des interne Auslösekonzept, welches im Vorfeld des bundesweiten Warntags 2022 an die L",
          "253109: Bitte senden Sie mir die Vorschriften (Rechtsnormen und/oder Verwaltungsvorschriften, aber auch Eins",
          "12468: 1. Dokumente aus denen die Kosten für die  Schaltung der Werbeanzeige des Bundesministeriums für Ver",
          "167948: Einwohnerzahlen der amtlichen Ortsteile im Zeitverlauf seit 1987. Gerne auch als Veröffentlichung au",
          "201092: Übersicht über alle IFG-Anfragen des Jahres 2020 bis zum 16. Oktober 2020 mit Angabe des Rubrums, Ih",
          "56660: den Endbericht bzw. das Gutachten zum Projekt \"Analyse und Modellierung der Energieverbrauchsentwick",
          "244517: - Verträge, Rechtsgutachten, Stellungnahmen, Protokolle und alle weiteren angefallenen Dokumente zu ",
          "288683: Sämtliche im Rahmen der kommunalen (Haushalts- / und Rechnungsprüfungs-)Aufsicht bei der die Stadt A",
          "9545: Das Projekt- & Informationsmanagementmodul besteht aus 3 Klausurteilen.\r\nBitte senden Sie mir alle a",
          "210356: - Aufzeichnungen, Emails, Unterlagen und Notizen über Kommunikation des BSI mit dem ITZBund, in dene",
          "272253: Die Rechtsgrundlage, die die Reduzierung der Schlaf-, Wohnfläche in BW (von 7m² auf 4,5m²) bei der v",
          "152779: Gutachten und Messwerte von Bundeswehrstandorten die eine PFC-Verunreinigungen des Grundwassers, Erd",
          "279769: Standortbescheinigung aus EMF-Datenbank Nr. 882069 inkl. technischer Datenblätter.\r\nVielen Dank!",
          "11685: Ich bitte um Zusendung\r\n1) einer Übersicht über die Auslandsreisen der Mitglieder des Landesparlamen",
          "271164: Der Bonner Generalanzeiger berichtete am 21.12.2022 wie folgt:\r\n\r\n\"Polizeipräsident Frank Hoever hat",
          "183949: Die interne Liste der Bundespolizei, die aufschlüsselt, in welche Staaten derzeit abgeschoben werden",
          "212377: Stundenabrechnungen der in der SKA 22/2020, Frage 23 benannten Berater für die Monate 12/2020 und 01",
          "266424: Unterlagen im Zusammenhang mit der Versammlung \"Heibo bleibt – Unser Wald bleibt und wir auch!“ im W",
          "236901: die Standortbescheinigung 060354. Ich als Anwohner möchte diese gerne einmal sehen.\r\nÜber entstanden",
          "257746: - Wann haben die beiden letzten veterinäramtlichen Kontrollen des Zirkus \"Circus Krone\" in Hamburg s",
          "162047: Den Quellcode für den Wahl-O-Mat.",
          "136547: Alle Informationen (ggf. auch durch Hotspots) über Tracking durch die WLAN / Bluetooth Funktion von ",
          null
         ],
         "marker": {
          "color": "#CFD8DC",
          "opacity": 0.5,
          "size": 5
         },
         "mode": "markers+text",
         "name": "other",
         "showlegend": false,
         "type": "scattergl",
         "x": [
          -1.501503825187683,
          2.2331464290618896,
          2.1967389583587646,
          0.4775661528110504,
          2.6091465950012207,
          0.7617303729057312,
          1.660802960395813,
          0.8623889088630676,
          -0.6145145297050476,
          1.964334487915039,
          1.8007569313049316,
          1.655219316482544,
          2.2912416458129883,
          2.0626938343048096,
          1.7897660732269287,
          -0.5512062907218933,
          -0.59495609998703,
          0.8405141830444336,
          0.7925652861595154,
          1.4453974962234497,
          -0.20608492195606232,
          0.37205156683921814,
          0.48288843035697937,
          0.7410073280334473,
          2.01377534866333,
          1.6476694345474243,
          0.5170344710350037,
          2.7141242027282715,
          -0.6091766953468323,
          1.6567530632019043,
          1.973231554031372,
          2.74477481842041,
          2.381148099899292,
          1.4877521991729736,
          2.072038173675537,
          -0.26614823937416077,
          1.4174522161483765,
          2.1143248081207275,
          0.34264546632766724,
          0.5291755199432373,
          -1.5395604372024536,
          2.1514008045196533,
          1.5545239448547363,
          1.2922409772872925,
          0.11232104152441025,
          1.4826743602752686,
          2.2703967094421387,
          1.488775610923767,
          0.061216991394758224,
          0.6387718915939331,
          1.2105234861373901,
          1.1049455404281616,
          0.8608358502388,
          2.2224314212799072,
          -0.1793597787618637,
          3.2997047901153564,
          -0.0519636794924736,
          0.819756805896759,
          -0.5149406790733337,
          -1.4092488288879395,
          0.48859718441963196,
          1.2017476558685303,
          -0.5491077303886414,
          1.34685218334198,
          0.1960953325033188,
          0.4664533734321594,
          0.48539918661117554,
          2.656648635864258,
          -0.12201111018657684,
          2.013669490814209,
          -0.5443315505981445,
          1.2631291151046753,
          0.916319727897644,
          0.0499371737241745,
          -0.20801657438278198,
          0.5335641503334045,
          0.8391620516777039,
          1.4847285747528076,
          2.2775774002075195,
          2.491070032119751,
          -0.08873377740383148,
          1.1653860807418823,
          -0.18942038714885712,
          0.0650452971458435,
          0.32776233553886414,
          0.8264183402061462,
          0.5708966255187988,
          0.8959023356437683,
          0.9680654406547546,
          1.9829732179641724,
          1.53743577003479,
          -0.00044639603584073484,
          0.8000940680503845,
          1.1224164962768555,
          0.5993624329566956,
          2.231229782104492,
          0.05125892534852028,
          0.9196019768714905,
          0.8903053998947144,
          1.0169651508331299,
          0.0514821819961071,
          0.0336630754172802,
          1.6627033948898315,
          1.7166619300842285,
          1.4877889156341553,
          1.061673641204834,
          1.8125921487808228,
          2.009746551513672,
          0.7587124109268188,
          1.7220362424850464,
          1.518735408782959,
          2.414475202560425,
          -1.4902451038360596,
          -0.2729998230934143,
          0.9706206321716309
         ],
         "y": [
          11.291958808898926,
          12.754850387573242,
          11.659369468688965,
          10.863299369812012,
          12.14648151397705,
          10.413582801818848,
          10.614542961120605,
          10.703972816467285,
          12.57497501373291,
          12.588153839111328,
          10.812407493591309,
          10.340115547180176,
          11.894947052001953,
          12.537056922912598,
          10.703612327575684,
          9.788870811462402,
          10.083192825317383,
          13.981451988220215,
          9.519441604614258,
          10.375200271606445,
          10.705499649047852,
          9.86620807647705,
          9.526881217956543,
          13.157333374023438,
          11.54320240020752,
          12.14753532409668,
          11.277851104736328,
          9.585946083068848,
          10.341361999511719,
          9.78292179107666,
          10.465993881225586,
          12.016287803649902,
          12.88749885559082,
          12.261192321777344,
          11.590021133422852,
          9.703024864196777,
          10.654610633850098,
          11.604227066040039,
          11.953592300415039,
          9.190006256103516,
          11.569906234741211,
          11.664886474609375,
          12.409329414367676,
          9.567325592041016,
          10.225234031677246,
          12.982560157775879,
          11.947976112365723,
          12.976879119873047,
          12.73880386352539,
          10.492090225219727,
          9.32217025756836,
          11.413378715515137,
          13.971019744873047,
          12.727185249328613,
          9.795453071594238,
          11.523314476013184,
          12.643451690673828,
          10.82250690460205,
          12.761627197265625,
          11.373167037963867,
          8.986153602600098,
          11.758156776428223,
          11.973204612731934,
          9.667989730834961,
          12.151188850402832,
          9.190661430358887,
          10.523204803466797,
          12.177606582641602,
          12.211771011352539,
          10.114995956420898,
          9.333113670349121,
          9.453566551208496,
          13.853926658630371,
          11.62847900390625,
          11.933499336242676,
          9.860255241394043,
          13.984950065612793,
          12.984536170959473,
          11.154601097106934,
          12.569751739501953,
          12.14307689666748,
          11.859453201293945,
          10.681297302246094,
          9.52893352508545,
          9.827020645141602,
          13.9959077835083,
          10.618170738220215,
          9.946476936340332,
          11.506521224975586,
          10.561159133911133,
          9.57999324798584,
          11.645059585571289,
          13.846924781799316,
          10.738133430480957,
          9.636460304260254,
          11.714388847351074,
          12.724247932434082,
          9.985896110534668,
          10.930068016052246,
          10.019289016723633,
          11.636466026306152,
          11.642131805419922,
          10.404217720031738,
          9.747220039367676,
          12.973605155944824,
          12.126337051391602,
          10.784212112426758,
          10.776243209838867,
          13.885448455810547,
          10.662662506103516,
          12.931429862976074,
          11.134381294250488,
          11.42038345336914,
          10.703883171081543,
          11.286540985107422
         ]
        },
        {
         "hoverinfo": "text",
         "hovertext": [
          "180663: Alle Ihrem Hause vorliegenden Unterlagen zum Projekt einer Förderung der \"Top-Gas-Recycling\"-Technol",
          "25660: Bitte erläutern Sie die Regeln und Ermessensspielräume nach denen Mitarbeiter im Ordnungs- und Verke",
          "234141: eine genaue Aufstellung wie oft der Server der Lehrgangsbuchung für die Ortsverbände im Schnitt nich",
          "28968: Bitte senden Sie mit die Statistik getrennt nach Jahren für die Jahre 2015, 2016, 2017 zu aus der He",
          "15087: Vereinbarungen und Sonderabsprachen mit der Gierso BoardingHaus Berlin GmbH zur Notunterkunft Levetz",
          "245725: Die von Ihnen bzw. der Kommission erhobenen Daten über den Kraftstoffverbrauch bzw. Co2 Ausstoß pro ",
          "242239: Den Schaltungsplan für die Fußgängerampel an der Tangstedter Landstraße beim Eingangsbereich des Kra",
          "242669: Alle Unterlagen zu den folgenden Reaktivierungsprojekten von Schienenwegen in digitaler Form: Lumdat",
          "177827: die in der Drucksache 21-0565 der Bezirksversammlung Hamburg Nord genannte Liste der Lärmbrennpunkte",
          "189689: Leider ärger ich mich fast täglich dass ich an Ampeln als rechtsabbieger warten muss obwohl kein que",
          "9790: Ich bitte um Information, in welchem Umfang die Bundesrepublik Deutschland mit Eritrea in Entwicklun",
          "154660: Die entstandenen Kosten für die Erstellung der Publikation \"Gendergerechtigkeit als Beitrag zu einer",
          "238428: - aktuelles und vorheriges Straßengutachten für Straßen und Radwege der Stadt Brandenburg an der Hav",
          "219966: 1. Die jeweilige Anzahl nach Quartal der in den Jahren 2019 und 2020 angezeigten Ordnungswidrigkeite",
          "259665: Welchen Anteil leistet die Solarenergie am Gesamtenergieverbrauch",
          "20333: Fundstellen für Protokolle des Verkehrsausschusses.\r\n\r\nFundstellen für Protokolle der Bund-Länder-Fa",
          "1053: Allgemein für NRW:\r\nWie viel (monetär) wurde von den Kommunen in NRW getrennt nach Kommunen in den l",
          "169993: 1. Wieviel Prozent Biodiesel bzw. Biovergaserkraftstoff könnte man der derzeitigen Motorengeneration",
          "21816: Anfrage nach dem Hamburgischen Transparenzgesetz (HmbTG)\r\n\r\nSehr geehrte Damen und Herren,\r\n\r\nim Ent",
          "249465: für meine Masterarbeit in der Angewandten Geographie an der RWTH Aachen benötige ich die Anzahl der ",
          "35215: Welche Informationen sind in dem Bericht des Kraftfahrtbundesamtes und mit welchen Folgen muss ich a",
          "262296: Weisung des Ministeriums an die KFZ Zulassungsstelle München in der festgelegt wird, dass bei der Zu",
          "35275: Ich möchte Wissen ob es gesicherte Studien und Untersuchungs-Ergebnisse \r\nzu Böden+Umweltverseuchung",
          "278589: - mit welcher Vertragspartei wurde der Vertrag für die Nutzung der Wiesenhalle für die Veranstaltung",
          "287676: - die zum Zeitpunkt der Anfrage geltenden Verkehrszeichenpläne oder Beschilderungspläne für die Baus",
          "11416: S. g. D. u. H\r\nIch beziehe mich auf auf folgende Passage\r\n\" Bei der Verbrauchsgruppe von über 4°000 ",
          "207435: - Seit wievielen Jahren gibt es die Aktion?\r\n- Wer hat die Aktion eingeführt?\r\n- Wie viele Dankeskar",
          "450: Einreichen von ePetitionen und deren Nichtveröffentlichung \r\n\r\nNachdem meine ePetition Nummer: 21090",
          "266349: - aktuelle Planungs- und Genehmigungsanlagen (auch wenn Sie noch nicht bewilligt sind) für Bauarbeit",
          "185593: Was für Bauarbeiten finden derzeit vor dem Hauptbahnhof Hannover/Ernst-August-Platz statt? Aus welch",
          "33875: Ich meine in Berlin ein Hinweis-Schild gesehen zu haben, dass in Berlin alle 2 (?) Minuten ein Unfal",
          "184593: Bitten Senden sie mir die Planungsunterlagen für den Umbau der Verkehrsführung an der B70, Kreuzung ",
          "60017: 1. Unterlagen bezüglich der Erfüllung der Aufgaben nach § 3 Abs. 1 Nr. 1 LBKG  (Aufstellen einer den",
          "138156: Welche Projekte der Heinrich Böll Stiftung wurden zwischen 2016 und 2018 in << Adresse entfernt >> u",
          "209463: Diejenigen Dokumente aus denen die Erlaubnis zum Abstellen eines Bauwagens inklusive Absperrbaken un",
          "246229: Stand der Genehmigung Wohnhaus mit Hofladen (Betriebsleiterwohnung), Schützenpfadhöfe, Flst. 5053 + ",
          "134578: Die CO2-Bilanzen (carbon footprint) Ihrer Behörde in den letzten zehn Kalenderjahren sowie die zugru",
          "277635: Antrag nach dem SächsTranspG/SächsUIG/VIG\r\n\r\nGuten Tag, \r\n\r\nVorbemerkung des Antragstellenden:\r\nEs g",
          "214443: Der am 01.01.2015 in Kraft getretene Werbenutzungsvertrag (Vertrag über die Ausübung von Werberechte",
          "17067: Antrag nach dem Informationsfreiheitsgesetz NRW, \r\n\r\nSehr geehrte Damen und Herren,   \r\n\r\nbitte send",
          "194664: Wir (Klimaaktionsbündnis - Freiburg) interessieren uns für den CO2 Ausstoß der Stadt Freiburg (Pro K",
          "277059: Informationen darüber, ob das Bundesverfassungsgericht Anträge erhalten hat, eine einstweilige Anord",
          "226395: Ein Einsatzleiter / Wehrführung der FW humpelt und musste sich mehrfach stützten bzw. hinsetzen (Ein",
          "258794: Alle Ihrem Hause vorliegenden Unterlagen zum Projekt der Förderung des Fachverband Sanitär Heizung K",
          "24135: Bitte senden Sie mir die aktuelle Brandschutzsatzung und der aktuelle Brandschutzbedarfsplan der Gem",
          "134565: Die CO2-Bilanzen (carbon footprint) Ihrer Behörde in den letzten zehn Kalenderjahren sowie die zugru",
          "250381: Machbarkeitsstudien, Gutachten, Standortentwicklungskonzepte, Aufstellungsbeschlüsse BPlan, welche d",
          "261053: Sämtliche Informationen, Kommunikation und Dokumente zu Ihren Aktivitäten im Hinblick auf Art. 3 des",
          "277253: Sehr geehrte Damen und Herren,\r\n\r\nich beziehe mich auf meine Beschwerde vom 19.03.2023 über die Stra",
          "231938: Wir bitten um Zusendung der Kriterien und Prüfpunkte im Zusammenhang mit der Überprüfung des Sonderp",
          "245065: Hallo,\r\n\r\nDie DB Fernverkehr AG, dessen Eigentümer zu 100% der Bund ist,\r\nhat ein Angebot names \"Bah",
          "168792: Die durchschnittlichen Fahrgastzahlen der Lübecker Stadtverkehrslinien einzeln nach Haltestellen auf",
          "32895: - Antwortschreiben auf das Schreiben der Firma Parkräume\r\n- die angeforderte Einschätzung der Rechts",
          "221656: Ist das Landesamt für Umwelt- und Arbeitsschutz darüber informiert, dass die Stadt Bexbach auf einer",
          "181849: Welche Verträge und/oder Vereinbarungen bestehen zwischen dem Jobcenter Friedrichshain-Kreuzberg und",
          "19846: Unter Anderem vor dem Haus 1 auf dem Sana-Klinikum-Gelände wurden mehrere große und absolut gesunde ",
          "150142: ich würde gerne Wissen ob, bei einer  nicht absehbaren Wartezeit beim Kunden, das Kontrollgerät auf ",
          "134746: Die CO2-Bilanzen (carbon footprint) Ihrer Behörde in den letzten zehn Kalenderjahren sowie die zugru",
          "32597: zu o.g. Thema würde ich mir sehr gerne einen praktischen und kompakten E-Scooter (Roller mit Elektro",
          "214841: wie mir ja per Mail von der Verwaltung des Marktes Laaber bestätigt wurde, hat die FF Laaber ja eine",
          "233466: Alle Unterlagen über Erlaubnisse für Ballonstarts von Flächen der Stadt Viersen durch Ballonunterneh",
          "279652: Aufstellung der durchschnittlichen Verzögerung (in Sekunden) der Einsatzfahrten, auf dem rund 340 Me",
          "173284: Laut dem nachfolgendem Zeitungsartikel habe man mit dem nächtlichen Alkoholverbot, das seit Januar 2",
          "34996: Inwieweit ist das Umweltbundesamt über die in der verlinkten Info bloßgestellten klima- und umweltsc",
          "262818: - bereits umgesetzte und geplante Energiesparmaßnahmen in Ihren eigenen Liegenschaften\r\n- bereits um",
          "165166: Unterlagen, vorzugsweise in digitaler Form (z.B. PDF), bezüglich der Begründung der Entscheidung, 27",
          "171529: - Die im Zeitungsartikel erwähnte Studie/das Papier zur Erreichung der Klimaziele im Verkehr (möglic",
          "218975: Den Vertrag mit der Firma culture4life zum Einsatz der luca app als Modellregion Herzogtum Lauenburg",
          "20199: die Gesamtbaukosten gegliedert nach Kostenhauptgruppen gemäß DIN 276 auf der Grundlage des Entwurfes",
          null
         ],
         "marker": {
          "opacity": 0.5,
          "size": 5
         },
         "mode": "markers+text",
         "name": "0_wurde_Verkehr_100",
         "text": [
          "",
          "",
          "",
          "",
          "",
          "",
          "",
          "",
          "",
          "",
          "",
          "",
          "",
          "",
          "",
          "",
          "",
          "",
          "",
          "",
          "",
          "",
          "",
          "",
          "",
          "",
          "",
          "",
          "",
          "",
          "",
          "",
          "",
          "",
          "",
          "",
          "",
          "",
          "",
          "",
          "",
          "",
          "",
          "",
          "",
          "",
          "",
          "",
          "",
          "",
          "",
          "",
          "",
          "",
          "",
          "",
          "",
          "",
          "",
          "",
          "",
          "",
          "",
          "",
          "",
          "",
          "",
          "",
          "",
          "0_wurde_Verkehr_100"
         ],
         "textfont": {
          "size": 12
         },
         "type": "scattergl",
         "x": [
          1.1007901430130005,
          0.9622500538825989,
          0.7784333229064941,
          1.605520248413086,
          -0.13328157365322113,
          2.2250330448150635,
          1.2110352516174316,
          1.0801063776016235,
          1.7648656368255615,
          1.5803629159927368,
          0.5084172487258911,
          2.5707547664642334,
          1.3389205932617188,
          1.4907386302947998,
          2.1265923976898193,
          0.3029284179210663,
          1.4188916683197021,
          2.2187256813049316,
          1.8217581510543823,
          2.030280828475952,
          2.2284390926361084,
          1.3337608575820923,
          1.8433785438537598,
          0.11445581912994385,
          0.9975391030311584,
          1.16282057762146,
          0.9463660717010498,
          1.026969313621521,
          0.9534747004508972,
          0.555587887763977,
          1.278117060661316,
          0.9760037064552307,
          0.8747395873069763,
          0.42684340476989746,
          1.2022700309753418,
          1.0185551643371582,
          2.7695093154907227,
          0.8576031923294067,
          -0.09360624849796295,
          0.9758543968200684,
          2.7219581604003906,
          2.5207126140594482,
          0.8823876976966858,
          1.397265911102295,
          0.9202388525009155,
          2.7684807777404785,
          0.675912618637085,
          2.506603479385376,
          1.115354061126709,
          1.4833908081054688,
          1.0536308288574219,
          1.413364052772522,
          0.9751691222190857,
          1.6812052726745605,
          -0.296097069978714,
          1.0903698205947876,
          0.6843672394752502,
          2.752333879470825,
          1.9565773010253906,
          1.9074773788452148,
          -0.23050886392593384,
          0.844253420829773,
          1.143439531326294,
          2.450284957885742,
          0.5637718439102173,
          2.590805768966675,
          2.341160774230957,
          -0.23884925246238708,
          0.4056153893470764,
          1.297572374343872
         ],
         "y": [
          9.937478065490723,
          9.141034126281738,
          8.488788604736328,
          9.06380558013916,
          9.65872573852539,
          9.226851463317871,
          8.700450897216797,
          8.68527603149414,
          9.281763076782227,
          8.883157730102539,
          9.772876739501953,
          9.339465141296387,
          9.16808795928955,
          9.092049598693848,
          9.3937349319458,
          9.397765159606934,
          8.969606399536133,
          9.284351348876953,
          9.183198928833008,
          9.527005195617676,
          9.269925117492676,
          9.71491813659668,
          9.394573211669922,
          9.65178394317627,
          8.814859390258789,
          9.859232902526855,
          9.140776634216309,
          8.616645812988281,
          8.743834495544434,
          9.435821533203125,
          8.909453392028809,
          8.82505989074707,
          8.969558715820312,
          9.736777305603027,
          9.205775260925293,
          10.356578826904297,
          8.776567459106445,
          8.843379020690918,
          9.685565948486328,
          9.226737022399902,
          8.830031394958496,
          9.280346870422363,
          8.550077438354492,
          10.23835563659668,
          9.36551284790039,
          8.777764320373535,
          8.914538383483887,
          9.26256275177002,
          9.224161148071289,
          9.115967750549316,
          8.673606872558594,
          8.833334922790527,
          9.184806823730469,
          9.497572898864746,
          9.771918296813965,
          10.309520721435547,
          8.406211853027344,
          8.795793533325195,
          9.05905818939209,
          9.314570426940918,
          9.486680030822754,
          8.520020484924316,
          8.570538520812988,
          9.276304244995117,
          8.871681213378906,
          9.427367210388184,
          9.179133415222168,
          9.601190567016602,
          9.625584602355957,
          9.207791328430176
         ]
        },
        {
         "hoverinfo": "text",
         "hovertext": [
          "214515: Antrag nach dem Informationsfreiheitsgesetz NRW, UIG NRW, VIG\r\n\r\nSehr geehrte Damen und Herren, \r\n\r\n",
          "174442: Antrag nach dem LIFG/UVwG/VIG\r\n\r\nSehr geehrte Damen und Herren, \r\n\r\nist die Sirnauer Straße im Berei",
          "32464: Antrag nach dem IFG/UIG/VIG\r\n\r\nSehr geehrte Damen und Herren, \r\n\r\nbitte senden Sie mir Folgendes zu:",
          "259130: eine Auflistung aller derzeit in S-H beantragten Neubauten sowie Erweiterungen von Tierhaltungsanlag",
          "17163: Antrag nach dem IFG\r\n\r\nSehr geehrte Damen und Herren, \r\n\r\nbitte senden Sie mir Folgendes zu:\r\n- Die ",
          "268337: - das interne Telefonverzeichnis Ihrer Behörde \r\n\r\nBitte nutzen Sie vorzugsweise eine Antwort per E-",
          "202088: Eine Übersicht der Zahlungen, die die Hochschule im Jahr 2020 an Zoom Video Communications Inc. gele",
          "169686: Sind die WLAN Systeme (z.B. die Eduroam zur Verfügung stellen) der Hochschule so eingestellt, dass d",
          "26593: - Eine Übersicht der Überwachungskameras und Überwachungskameraatrappen, die im Umfeld, insbesondere",
          "9953: Auf meine Anfrage bei dem Bundestagsabgeordneten MdB Uwe Kerkeritz führt dieser aus: „Jedoch ist off",
          "30123: * Aktuelle Statistiken zur Anbindung der 550 Behördenstandorten sowie der Gemeinden und 875 Schulsta",
          "257493: Antrag nach dem HDSIG/HUIG/VIG\r\n\r\nSehr geehrte Damen und Herren, \r\n\r\nbitte lassen Sie mir eine detai",
          "17100: Antrag nach dem IFG\r\n\r\nSehr geehrte Damen und Herren, \r\n\r\nbitte senden Sie mir Folgendes zu:\r\n- Die ",
          "196634: Antrag nach dem LIFG/UVwG/VIG\r\n\r\nSehr geehrte Damen und Herren, \r\n\r\nbitte senden Sie mir Folgendes z",
          "126813: Antrag nach dem Informationsfreiheitsgesetz NRW\r\n\r\nSehr geehrte Damen und Herren, \r\n\r\nbitte senden S",
          "264563: Eine Aufstellung der Abstimmungsergebnisse zur \"Festlegung der Arbeitsgruppe DSK Microsoft-Onlinedie",
          "15776: Sehr geehrte Damen und Herren,\r\n\r\nlaut einer Antwort auf eine kleine Anfrage kann es in den Projekte",
          "257252: bitte informieren zum Abschluss Oberklasse Bergschule Betriebsführer zum Ingenieur über das über das",
          "7626:  Besucherzeremoniell (Begrüßung, Verabschiedung, Musterabläufe)\r\n\r\n(APZ 700.01 im Aktenplan des Ausw",
          "11194: Dies ist ein Antrag auf Aktenauskunft nach § 1 des Gesetzes zur Regelung des Zugangs zu Informatione",
          "255169: mit welchem speziellen Dokument erfolgte an das Statistische Bundesamt die Meldung zur ISCED 2011-Ve",
          "67313: Studien und Ergebnisse im Zusammenhang mit einem Gesundheitsrisiko für Mensch und Tier durch den Ein",
          "169150: Die Bundesnetzagentur stellt eine Liste \"Zuteilungen TETRA-Netzkennungen (ITSI-Blocks)\" bereit unter",
          "17833: 1.) Bitte teilen Sie mir mit, ob Regelungen existieren, ab wann eine Einschaltung der Schulaufsicht ",
          "192149: Antrag nach dem HDSIG/HUIG/VIG\r\n\r\nSehr geehrte Damen und Herren, \r\n\r\nkooperiert das Landesamt für Ve",
          "219505: Antrag nach dem LIFG/UVwG/VIG\r\n\r\nSehr geehrte Damen und Herren, \r\n\r\nbitte senden Sie mir Folgendes z",
          "184220: Antrag nach dem IFG M-V\r\n\r\nSehr geehrte Damen und Herren, \r\n\r\nwie hoch sind die SARS-CoV-2-Fallzahle",
          "9691: Welche Open-Source-Anwendungen werden im Bundesministerium für Bildung und Forschung (Bund)  eingese",
          "232558: Ausgaben in Millionen für Bildung und Teilhabe nach dem SGB2 §28.\r\nBitte ausgeschlüsselt nach:\r\nPers",
          "145809: Antrag nach dem ThürIFG/ThürUIG/VIG\r\n\r\nSehr geehrte Damen und Herren, \r\n\r\ndas Thüringer Informations",
          "16986: Antrag nach dem IFG \r\nSehr geehrte Damen und Herren,\r\n \r\nbitte senden Sie mir Folgendes zu: \r\n- Eine",
          "236325: die Antworten des Berliner Zoos auf Ihr Schreiben „Auskunftsersuchen und Anhörung wegen eines mutmaß",
          "181909: Anfrage nach dem Berliner Informationsfreiheitsgesetz, VIG\r\n\r\nSehr geehrte Damen und Herren,\r\n\r\nbitt",
          "248163: DirZA/ZA12 – Versammlungsrecht\r\n\r\n1. Rechtsgrundlage zur Speicherung im Bereich Versammlungsrecht, i",
          "206018: Eine schriftliche Erklärung ob und wie die einzelnen Bundesländer über das vorgehen zum Schutz der D",
          "268347: die Gründe für die fehlende Möglichkeit via DE-MAIL mit den Finanzämtern in Kontakt zu treten.\r\nElst",
          "239468: - Auskunft darüber, wie die Neuerungen des UrhG §68 seit Inkrafttreten im August 2021 an der Univers",
          "9169: Antrag nach dem Informationsfreiheitsgesetz NRW, UIG NRW, VIG\r\n\r\nSehr geehrte Damen und Herren, \r\n\r\n",
          "219254: Antrag nach dem LIFG\r\n\r\nSehr geehrte Damen und Herren, \r\n\r\nbitte senden Sie mir Folgendes zu:\r\n\r\nDie",
          "131848: Antrag nach dem LIFG/UVwG/VIG\r\n\r\nSehr geehrte Damen und Herren, \r\n\r\nbitte senden Sie mir Folgendes z",
          "136439: Anfrage nach dem Hamburgischen Transparenzgesetz (HmbTG) / HmbUIG / VIG\r\n\r\nSehr geehrte Damen und He",
          "246751: Von: <<E-Mail-Adresse>> <<Name und E-Mail-Adresse>> \r\nGesendet: Donnerstag, 17. März 2022 11:54\r\nAn:",
          "16243: Einen formgerechten Bescheid nach [§§ 37,39 VwVfG] ob Städte, Gemeinde, Landkreise, Bundesländer, Bu",
          "242226: Antrag nach dem Informationsfreiheitsgesetz NRW, UIG NRW, VIG\r\n\r\nSehr geehrte Damen und Herren, \r\n\r\n",
          "23824: Antrag nach BayDSG/BayUIG/VIG\r\n\r\nSehr geehrte Damen und Herren, \r\n\r\naus persönlichen Gründen interes",
          "24181: Antrag nach dem Informationsfreiheitsgesetz NRW, UIG NRW, VIG\r\n\r\nSehr geehrte Damen und Herren, \r\n\r\n",
          "59069: bitte senden Sie mir die Verwaltungsvorschrift(en) bzw. den Kriterienkatalog zu nach denen Ihre Behö",
          "224237: Antrag nach dem IFG\r\n\r\nSehr geehrte Damen und Herren,\r\n\r\nbitte senden Sie mir Folgendes zu:\r\n\r\nIFG-A",
          "197668: Hallo,\r\ndurch die immer weitere Verzahnung von Officeprodukten mit Cloudnetzwerken und den Umstieg v",
          "283842: in dem Beschluss Oberlandesgericht Köln, II-21 AR 1/12 veröffentlicht unter https://www.justiz.nrw.d",
          "34218: Antrag nach dem LIFG\r\n\r\nSehr geehrte Damen und Herren, \r\n\r\nbitte senden Sie mir Folgendes zu:\r\n\r\nPrä",
          "186095: Anfrage nach dem Berliner Informationsfreiheitsgesetz, VIG\r\n\r\nSehr geehrte Damen und Herren,\r\n\r\nin d",
          "279048: Antrag nach dem IFG/UIG/VIG\r\n\r\nGuten Tag,\r\n\r\nbitte senden Sie mir Folgendes zu:\r\n\r\n- sämtliche Sitzu",
          "32585: Am 7.7. hatte ich erstmals eine verschlüsselte Eingabe per Mail an die Poststelle des Landesbeauftra",
          "16342: Sehr geehrte Damen und Herren,\r\n\r\nfür den bundesweiten IHK-Vergleich des Bundesverbands für freie Ka",
          "17864: - Visumhandbuch-Beitrag „Organisation von Visastellen“, Ziff. VIII.",
          "226792: Antrag nach dem IFG/UIG/VIG\r\n\r\nSehr geehrte Damen und Herren,\r\n\r\nbitte senden Sie mir Folgendes zu:\r",
          null
         ],
         "marker": {
          "opacity": 0.5,
          "size": 5
         },
         "mode": "markers+text",
         "name": "1_Abs_Antrag_IFG",
         "text": [
          "",
          "",
          "",
          "",
          "",
          "",
          "",
          "",
          "",
          "",
          "",
          "",
          "",
          "",
          "",
          "",
          "",
          "",
          "",
          "",
          "",
          "",
          "",
          "",
          "",
          "",
          "",
          "",
          "",
          "",
          "",
          "",
          "",
          "",
          "",
          "",
          "",
          "",
          "",
          "",
          "",
          "",
          "",
          "",
          "",
          "",
          "",
          "",
          "",
          "",
          "",
          "",
          "",
          "",
          "",
          "",
          "",
          "1_Abs_Antrag_IFG"
         ],
         "textfont": {
          "size": 12
         },
         "type": "scattergl",
         "x": [
          0.08403012901544571,
          1.0733212232589722,
          0.7245945334434509,
          1.3130916357040405,
          1.216519832611084,
          0.7878358960151672,
          -0.565483570098877,
          -0.4216199219226837,
          0.11875325441360474,
          0.5219956636428833,
          -0.7018383741378784,
          -0.5088476538658142,
          1.0577555894851685,
          0.9516698122024536,
          -0.09022153913974762,
          -0.08800232410430908,
          -0.6361459493637085,
          -0.7121067047119141,
          0.8884788155555725,
          0.44431814551353455,
          -0.7714342474937439,
          1.3635152578353882,
          -0.1725436896085739,
          -0.5095495581626892,
          0.5190021395683289,
          0.9717056155204773,
          0.8826227784156799,
          -0.6790539622306824,
          -0.722359299659729,
          0.6806497573852539,
          1.144118309020996,
          0.563083827495575,
          -0.3077002167701721,
          0.46856069564819336,
          -0.5561065673828125,
          1.279430866241455,
          0.2516457438468933,
          -0.4120815098285675,
          1.034686803817749,
          0.9702657461166382,
          0.6735775470733643,
          1.1918023824691772,
          0.6587426662445068,
          -0.10075560957193375,
          0.5718325972557068,
          -0.15376929938793182,
          0.9900673627853394,
          1.5443319082260132,
          -0.5329557657241821,
          1.0079594850540161,
          0.9854676127433777,
          0.4333197772502899,
          0.40806087851524353,
          -0.23198466002941132,
          -0.937369704246521,
          0.9149620532989502,
          0.5561666488647461,
          0.34098267555236816
         ],
         "y": [
          11.136987686157227,
          11.06567668914795,
          11.88923168182373,
          11.060977935791016,
          12.07133674621582,
          12.36011028289795,
          10.733587265014648,
          10.803749084472656,
          11.019318580627441,
          11.5049409866333,
          10.8414888381958,
          11.097660064697266,
          12.010692596435547,
          11.188005447387695,
          11.23547649383545,
          13.662270545959473,
          10.605636596679688,
          10.905604362487793,
          12.011351585388184,
          11.453106880187988,
          10.812657356262207,
          11.11711597442627,
          10.699953079223633,
          11.01341724395752,
          11.310066223144531,
          11.571574211120605,
          11.961852073669434,
          11.067977905273438,
          10.73620319366455,
          11.016145706176758,
          12.12805461883545,
          11.251059532165527,
          10.794824600219727,
          11.072373390197754,
          11.032573699951172,
          12.250131607055664,
          11.515037536621094,
          11.11698055267334,
          11.287057876586914,
          11.576141357421875,
          11.308197975158691,
          11.783893585205078,
          11.96501350402832,
          11.236801147460938,
          11.735716819763184,
          11.270496368408203,
          12.471870422363281,
          12.227493286132812,
          10.919389724731445,
          10.996633529663086,
          11.183270454406738,
          11.393182754516602,
          11.589398384094238,
          11.235393524169922,
          11.142609596252441,
          12.044453620910645,
          11.85356616973877,
          11.409575462341309
         ]
        },
        {
         "hoverinfo": "text",
         "hovertext": [
          "189174: Sämtliche internen Dokumente und allgemeine oder spezifische Weisungen, die sich bei Ihnen auf die P",
          "243159: Liste mit allen Brettspieltiteln der Stadtbücherei Bochum.",
          "279982: - DKOR Mitteilungen zur politischen Entwicklung Mexikos in Bezug auf die Studierendenproteste der 19",
          "265118: sämtliche interne Konzepte, Weisungen, Pläne sowie Kommunikation zu den getroffenen bzw. zu treffend",
          "191280: Sämtliche internen Dokumente zum Umgang mit Rassismus in ihrem Hause. Das kann z.B. umfassen: Inform",
          "283974: das Verzeichnis der Datenverarbeitungstätigkeiten für Durchführung von Streitbeilegungsverfahren nac",
          "217826: die gesamte interne Dienstanweisung des Ordnungsamtes Düsseldorf inklusive des gesamten Inhaltsverze",
          "220241: - Auflistung, welche Formate der internen Kommunikation in Ihrem Haus genutzt werden (z.B. Mitarbeit",
          "32426: Detaillierte Aufstellung der Aufwendungen für Dolmetscher bei Vernehmungen von Beschuldigten bei Str",
          "228326: Alle eventuell vorhandenen Unterlagen, beispielsweise Gutachten, Stellungnahmen, Schriftwechsel, Ber",
          "30276: die aktuellen internen Handlungsempfehlungen, Anwendungshinweise bzw. Verwaltungsvorschriften zum Um",
          "252174: Ablichtungen aller (um personenbezogene Daten gerne geschwärzten) Beschlüsse im Verfahren 13 L 1883/",
          "5804: korrekte und vollständige Liste/Auflistung der Leihgaben, Gemälde, Kunstwerke im Bundespräsidialamt ",
          "17157: Eine Liste aller indizierten Spiele und Filme(auch Serien",
          "263198: die gesamte Korrespondenz und Kommunikation zwischen dem Bundesministerium für wirtschaftliche Zusam",
          "194998: alle derzeit gültigen\r\n- internen Geschäftsanweisungen,\r\n- Dienstanweisungen,\r\n- Arbeitshilfen und\r\n",
          "191082: Sämtliche internen Dokumente zum Umgang mit Rassismus in ihrem Hause. Das kann z.B. umfassen: Inform",
          "243923: Den um personenbezogene Daten anonymisierten Bescheid, den das BfDI unter dem Az. \"24-191 II#4781\" f",
          "285591: - die Konzession der Polizeikantine Neudorf, Fraunhoferstr. 2, 47057 Duisburg, Inh. Guido Matysik.\r\n",
          "187993: Eine aktuelle Liste des Bibliotheksbestandes der Jugendvollzugsanstalt Hameln möglichst mit Titel, A",
          "188190: Übersicht über die Rahmenverträge für Beratungs-, IT- und Schulungsdienstleistungen\r\n(keine Handwerk",
          "261843: Dokumente, die den Stand des Regierungsvorhabens zum Thema Cannabis zu Genusszwecken (siehe Koalitio",
          "182128: - sämtliche aktuellen Vorschriften zur Korruptionsprävention Ihrer Behörde, die im Geschäftsbereich ",
          "281735: Eine Auflistung der Ausgaben des Gerichts im Zeitraum von 2010 bis heute jeweils für Gesetzeskomment",
          "17302: Akten, die nachvollziehbar machen, \r\n1) welche Gesamtkosten für den Betrieb der Behörde \"Bundesbeauf",
          "227096: Berichterstattung PrL an das Lenkungs- bzw. Steuerungsgremium und Auftraggeber",
          "280074: sämtliche Dienstanweisungen, Vorschriften, Richtlinien und ähnliche Dokumente zur Verkehrsmittelnutz",
          "187306: Eine aktuelle Liste des Bibliotheksbestandes der Justizvollzugsanstalt Gelnhausen möglichst mit Tite",
          "191361: Sämtliche internen Dokumente zum Umgang mit Rassismus in ihrem Hause. Das kann z.B. umfassen: Inform",
          "280718: sämtliche Dienstanweisungen, Vorschriften, Richtlinien und ähnliche Dokumente zur Verkehrsmittelnutz",
          "28784: eine Statistik  über Anzeigen/Verurteilungen oder Löschungen von Artikeln/Inhalten im internet,  im ",
          "243838: eine maschinenlesbare Tabelle aller indizierter Musik. Nach Möglichkeit mit den Spalten: Titel,Inter",
          "12317: Alle Unterlagen den Fall \"Ahmed Mansour\" betreffend, inklusive eventueller Fach- bzw. Dienstaufsicht",
          "259034: 1)\tDas spezielle Dokument, aus dem hervorgeht, welche (Werbe-)Artikel im Sinne der Öffentlichkeitsar",
          "17465: Für den Betrieb einer jeden offiziellen Dokumentationsstelle (für Menschenrechte) sind nicht nur auf",
          "138861: sämtliche Dokumente und Unterlagen, die die Anfrage an und Zusage von Ministerpräsidentin Schwesig z",
          "233153: * Schriftverkehr (E-Mails, Briefe, Fax, etc.) der mit der Änderung (Einbau Captcha, etc) an der API ",
          "186422: IT-Strategie und Konzept zur Digitalisierung der Serviceleistungen Ihrer Behörde",
          "270006: Den Datenverarbeitungsvertrag, die Datenschutzfolgenabschätzung, die TOMs und notwendigen Garantien ",
          "253168: Textvorlage der Unabhängigen Beauftragten für die Pressekonferenz vom 17.5.2022\r\n\r\nBei der Vorstellu",
          "268611: 1) Mitarbeiter\r\na. Wie viele Mitarbeiter sind in Ihrer Behörde für die Bearbeitung von Anfragen nach",
          "249633: Ich bitte um die über den Mängelmelder [1] der Stadt Bochum aktuell erfassten Daten in maschinenlesb",
          "282052: Eine Auflistung der Ausgaben des Gerichts im Zeitraum von 2010 bis heute jeweils für Gesetzeskomment",
          "201238: Handreichungen und sonstige Unterlagen zu Datenschutz und IT-Sicherheit im juristischen Vorbereitung",
          "264949: alle Unterlagen und Kommunikation zur Evaluierung des so genannten \"IT-Sicherheitsgesetzes 2.0\", d.h",
          null
         ],
         "marker": {
          "opacity": 0.5,
          "size": 5
         },
         "mode": "markers+text",
         "name": "2_Daten_Dokumente_zB",
         "text": [
          "",
          "",
          "",
          "",
          "",
          "",
          "",
          "",
          "",
          "",
          "",
          "",
          "",
          "",
          "",
          "",
          "",
          "",
          "",
          "",
          "",
          "",
          "",
          "",
          "",
          "",
          "",
          "",
          "",
          "",
          "",
          "",
          "",
          "",
          "",
          "",
          "",
          "",
          "",
          "",
          "",
          "",
          "",
          "",
          "",
          "2_Daten_Dokumente_zB"
         ],
         "textfont": {
          "size": 12
         },
         "type": "scattergl",
         "x": [
          -1.464593529701233,
          -1.6636635065078735,
          -1.2594637870788574,
          -1.018690586090088,
          -1.4300967454910278,
          -0.7966484427452087,
          -1.2714450359344482,
          -1.0421336889266968,
          -0.8576388955116272,
          -1.4638522863388062,
          -1.2644453048706055,
          -1.3386660814285278,
          -1.5930030345916748,
          -1.6362483501434326,
          -0.717289388179779,
          -1.5174387693405151,
          -1.455185890197754,
          -1.0394515991210938,
          -0.8282433748245239,
          -1.713213562965393,
          -0.4561695456504822,
          -1.201735258102417,
          -1.0408580303192139,
          -1.4140468835830688,
          -0.7499253749847412,
          -1.2544549703598022,
          -1.2281043529510498,
          -1.6200693845748901,
          -1.4486697912216187,
          -1.2378638982772827,
          -1.3672188520431519,
          -1.717391014099121,
          -1.2744560241699219,
          -0.9443992376327515,
          -1.0060338973999023,
          -1.2209399938583374,
          -0.8802959322929382,
          -0.6010197401046753,
          -0.7621327042579651,
          -0.2693987190723419,
          -0.601086437702179,
          -0.20736126601696014,
          -1.435696005821228,
          -0.7921854257583618,
          -0.7517482042312622,
          -1.1301039457321167
         ],
         "y": [
          10.225873947143555,
          11.93984317779541,
          10.503003120422363,
          11.623074531555176,
          10.28854751586914,
          11.98072338104248,
          9.502349853515625,
          11.553317070007324,
          11.917007446289062,
          10.03003215789795,
          9.382342338562012,
          12.186134338378906,
          12.044363021850586,
          12.01720142364502,
          12.354687690734863,
          9.95361042022705,
          10.277295112609863,
          12.547466278076172,
          12.065903663635254,
          11.935911178588867,
          9.977407455444336,
          9.90728759765625,
          9.178329467773438,
          12.155879974365234,
          11.971563339233398,
          9.365315437316895,
          9.392857551574707,
          11.956720352172852,
          10.27668571472168,
          9.424460411071777,
          12.277605056762695,
          11.948370933532715,
          9.536497116088867,
          10.132038116455078,
          11.825242042541504,
          9.58789348602295,
          11.830572128295898,
          11.475127220153809,
          12.082291603088379,
          11.8864107131958,
          12.003077507019043,
          12.6690034866333,
          12.15892505645752,
          11.580583572387695,
          11.73455810546875,
          11.125853538513184
         ]
        },
        {
         "hoverinfo": "text",
         "hovertext": [
          "19175: Bitte um zusendung eine kopi fom abmelbebeschainigung .Brauche fur Deutsch konsulat in Nowosibirsk",
          "179026: - Gesprächsvorbereitungen, Protokolle, Notizen, Vermerke und alle weiteren Unterlagen mit Bezug zu T",
          "2387: Ich bitte um Übersendung des Gutachtens \"Rechtsfragen im Kontext der Abgeordnetenkorruption\" bevorzu",
          "1734: Bitte übersenden Sie folgende Informationen zum Abendessen im Bundeskanzleramt anlässlich des 60. Ge",
          "252450: Dokumente und Kommunikation wie E-Mails, Gesprächsnotizen und Niederschriften, die Übereinkünfte mit",
          "151087: Die Stellungnahme des BfR zur IARC- Monographie über Glyphosat vom 4. September 2015. Ich verweise d",
          "240491: alle vor Kurzem gelöschten Instagram-Storys des – augenscheinlich vom Auswärtigen Amt verwalteten – ",
          "2491: Ich bitte um Zusendung des folgenden Gutachtens des Wissenschaftlichen Dienstes: Finanzverfassungsre",
          "131281: auf Twitter wiesen Sie am 15.04.2019 um 08:58 Uhr auf die Nettiquette hin.\r\nPost auf Twitter: https:",
          "136193: Dear Sir or Madam,\r\n\r\nUnder the right of access to documents in the EU treaties, as developed in Reg",
          "283226: Protokolle, Vorbereitungs- und Nachbereitungsunterlagen zu dem Treffen von SM Schuster mit Bundesinn",
          "170991: Meine Anfrage lautet,ob der Rechtsanwalt Herr Ingo klee aus Rostock bei Ihnen eingetragen ist,Danke ",
          "2125: Ich bitte um Übersendung des Gutachtens \"Rechtsfragen im Kontext der Abgeordnetenkorruption\" bevorzu",
          "3646: Informationen zum Treffen von Bundeskanzlerin Merkel, Hollande und Barroso mit Vertretern des Europe",
          "12017: Ich bitte um Zusendung der Ausarbeitung\r\nWD2 – 116/14 Sicherheits- und verteidigungspolitische Motiv",
          "183670: Alle Freigabe- und Abstimmungsunterlagen zur Veröffentlichung des Tweets: https://twitter.com/BMG_Bu",
          "242828: das Capitani Urteil des Europäischen Gerichtshofs (EUGh) besagt, dass das Europäische Parlament \"auf",
          "241521: eine Aufstellung über externe Veranstaltungen im Restaurant auf der Plenarsaalebene des Bundestags i",
          "288162: unter der Adresse https://www.bundestag.de/protokolle sind zwahlreiche Protokolle von Sitzungen im D",
          "194405: Urteil vom 22.04.1993 -Az. 4 K 8449/91 -\r\nBefugnisse der Katasterbehörde",
          "17255: Es wurde eine Anfrage an Sie mit folgendem Inhalt gestellt:\r\n\r\n\"Wann und von wem wurde der Staat \"Bu",
          "149789: der in [1] beschriebene Brief der Europäischen Kommission an Deutschland.\r\n\r\n[1] https://rp-online.d",
          "859: Ich bitte um Übersendung des Gutachtens \"Rechtsfragen im Kontext der Abgeordnetenkorruption\" bevorzu",
          "234706: In Bezug auf Treffen des Bürgermeisters Sascha Solbach mit RWE im Jahr 2021\r\n- sämtliche vorliegende",
          "4522: das Gutachten von Prof. Rossi (Augsburg) zur Anwendbarkeit des IFG auf den Wissenschaftlichen Dienst",
          "3516: wie der Zeitung zu entnehmen ist, liegt das Gutachten zur Konversion von NRW-Urban vor. Bitte stelle",
          "259149: seit Beginn der Pandemie läßt sich die Landesregierung von Mecklenbirg-Vorpommern von einem Experten",
          "284889: Frühwarndokument (LReg) 20.07.2023 7/364 (15 S.) KOM (2023) 244 final/2, zu: Vorschlag für eine Vero",
          "265919: Welche Experten haben zu der Aufhebung der Maskenpflicht im Vorausgang zur Pressekonferenz vom 12.12",
          "274224: Unter Bezugnahme auf folgende Berichterstattung:\r\nhttps://jurios.de/2023/03/06/ruhetage-im-juristisc",
          "252381: die verfassungsrechtlichen Gutachten zur Verwendung der Bankenabgabe 2011 - 2014, die von den Profes",
          "613: Ich bitte um Übersendung des Gutachtens \"Rechtsfragen im Kontext der Abgeordnetenkorruption\" bevorzu",
          "191777: Mich würde interessieren, was der Rechtsstreit im Betreff bisher durch alle Instanzen hindurch gekos",
          "274900: Beide Themen wurden im Finanzausschuss besprochen:\r\n\r\nTagesordnungspunkte 7a bis 7c: \r\nStärkung der ",
          "258892: Antrag nach EU-Verordnungen 1049/2001 sowie 1367/2006\r\n\r\nDear Sir or Madam,\r\nunder EU regulation 104",
          "9860: Bitte übersenden Sie alle vorhandenen Informationen zu zwei Treffen im Bundeskanzleramt mit Vertrete",
          "4603: bitte übersenden Sie mir eine Stellungnahme, Protokolle, Beschlüsse oder Erlässe, warum die Professo",
          "5464: DER SPIEGEL vom 14.10.2013 (42/2013), S. 34 berichtet über eine Stellungnahme des Bundesinnenministe",
          "4240: Das im Auftrag des Bundestages erstellte Gutachten: Die Besonderheiten netzbasierter politischer Kom",
          "236075: Unterlagen, Kommunikation, Rahmenverträge bzgl. der Verwertung von Kryptowährungen, wie berichtet in",
          "233120: Das Schreiben des BMF an Bundestagspräsidentin Bärbel Bas hinsichtlich der Ausstattung des künftigen",
          null
         ],
         "marker": {
          "opacity": 0.5,
          "size": 5
         },
         "mode": "markers+text",
         "name": "3_Urteil_Dokumenten_documents",
         "text": [
          "",
          "",
          "",
          "",
          "",
          "",
          "",
          "",
          "",
          "",
          "",
          "",
          "",
          "",
          "",
          "",
          "",
          "",
          "",
          "",
          "",
          "",
          "",
          "",
          "",
          "",
          "",
          "",
          "",
          "",
          "",
          "",
          "",
          "",
          "",
          "",
          "",
          "",
          "",
          "",
          "",
          "3_Urteil_Dokumenten_documents"
         ],
         "textfont": {
          "size": 12
         },
         "type": "scattergl",
         "x": [
          0.22959323227405548,
          -0.110141821205616,
          -0.01205225195735693,
          -0.41946402192115784,
          -0.5707017779350281,
          0.10263403505086899,
          -0.9514831304550171,
          -0.1350720226764679,
          -0.9143940210342407,
          0.27139338850975037,
          -0.386304646730423,
          0.22738386690616608,
          -0.046050775796175,
          -0.33653149008750916,
          0.3697168231010437,
          -0.9878159165382385,
          0.3049360513687134,
          -0.35111674666404724,
          -0.0706113874912262,
          0.34859776496887207,
          0.18835130333900452,
          -0.3351757824420929,
          -0.06559745967388153,
          -0.22585490345954895,
          0.2697484791278839,
          -0.03627217561006546,
          0.6594976186752319,
          0.1668071746826172,
          0.6633087396621704,
          -0.14646002650260925,
          -0.1089591458439827,
          -0.03798917308449745,
          -0.03160269558429718,
          -0.20643329620361328,
          0.26398366689682007,
          -0.2310488075017929,
          0.5732876658439636,
          0.39640870690345764,
          0.012671692296862602,
          -0.6917399168014526,
          -0.5125195384025574,
          -0.07007494568824768
         ],
         "y": [
          13.488896369934082,
          13.022928237915039,
          13.898056030273438,
          13.262298583984375,
          13.395983695983887,
          12.306822776794434,
          13.121858596801758,
          13.682376861572266,
          13.146796226501465,
          12.483670234680176,
          13.0908784866333,
          13.526472091674805,
          13.828004837036133,
          13.217001914978027,
          12.472490310668945,
          13.085217475891113,
          12.490496635437012,
          13.19803237915039,
          13.841983795166016,
          13.814626693725586,
          12.113913536071777,
          13.479422569274902,
          13.838028907775879,
          13.002848625183105,
          13.288002014160156,
          13.846592903137207,
          13.2112455368042,
          12.48848819732666,
          13.231815338134766,
          13.355853080749512,
          13.644119262695312,
          13.80805492401123,
          13.879225730895996,
          13.337261199951172,
          12.525186538696289,
          13.1284761428833,
          13.207061767578125,
          12.361124038696289,
          13.939091682434082,
          13.316420555114746,
          13.373112678527832,
          13.237812042236328
         ]
        },
        {
         "hoverinfo": "text",
         "hovertext": [
          "250950: die Anzahl der MedEvac Flüge von 01.01.2018 bis Heute.\r\nSowie die Gründe der Flüge.",
          "187520: Ich bitte um Offenlegung der \"geheimen AOK Studie\" / Analyse, die der Bildzeitung offenbar vorliegt:",
          "276792: 1. Eine Liste, auf welche Giftstoffe bzw. Spuren einzelner Schadstoffe wie z.B. Pestizide, Hormone, ",
          "239292: Ab dem 21. Februar wird der neue Impfstoff Novavax in Deutschland für Grundimmunisierungen verfügbar",
          "192084: Ich darf innerhalb der EU 166,67 Schachteln Heets im Rahmen der Reisefreimenge einführen. Zumindest ",
          "180924: Im Donaukurier ist am 19.02.2020 der Artikel \"Zur Vernunft gezwungen\" erschienen, in dem es um die U",
          "224424: Sehr << Antragsteller:in >>\n\r\nvon unserer Kita wurden wir Stand 06.07.2021 von einer Testpflicht, fü",
          "226287: Wann wird der Corona-Impfstoff von Novavax zugelassen und wann ist er ini Deutschland verfügbar. Wer",
          "236738: Darf der Arbeitgeber mich unbezahlt ab 15.3.2022 nach Hause schicken wenn ich nicht geimpft bin ,ode",
          "232797: Antrag nach dem IZG LSA/UIG LSA/VIG AG LSA\r\n\r\nSehr geehrte Damen und Herren, \r\n\r\nbitte senden Sie mi",
          "214941: Ich habe mehrere Allergien und Unverträglichkeiten. Am 20.03. soll ich die Impfung mit dem Impfstoff",
          "236948: den \"Erlass zum Vorgehen bei Störungen der schulorganisatorischen Abläufe durch Anordnungen der Gesu",
          "205272: - Unterlagen zu den Belegungszahlen (und deren zeitlichen Verlauf) der Müncher Krankenhäuser seit de",
          "180846: Ich bin seid Oktober 2018 krankgeschrieben und werde im April 2020 von der Krankenkasse ausgesteuert",
          "275733: Laut aktuellem Beitrag in der Hessenschau vom 11.04.2023 (https://www.hessenschau.de/tv-sendung/klag",
          "205764: eine Liste aller Laboratorien zu die für sie die PCR-Testergebnisse durchführen. Idealerweise eine a",
          "227769: - Wie viele der Angaben/Erfassungen der 69452 symptomatischen Covid-19-Fälle* in KW 31-34 sind volls",
          "173150: Ich möchte Informationen über versorgte Impfschäden in den letzten drei Jahren (2017, 2018, 2019) er",
          "62603: Der Anteil der Fälle von durch Krankheit verursachter Prüfungsunfähigkeit der letzten zwei\r\nvollstän",
          "215779: Eine Aufstellung der aktuell bekannten Mortalitätsraten von Sars-Cov2 mit mindestens zwei weiteren I",
          "280990: gerne hätte ich von Ihnen eine Kostenaufstellung, bezüglich der Coronatests an den Schulen Niedersac",
          "226982: Ich brauche für meinen Arbeitgeber eine Bescheinigung Infektionsschutzbelehrung.\r\nDiese habe ich woh",
          "210420: Guten Tag,\r\n\r\nmein Arbeitgeber hat nach der Kündigung mein Gehalt nicht gezahlt und wird es auch nic",
          "197629: Ich bitte im Zusammenhang der Corona Pandemie um folgende Daten aus unserem Landkreis.\r\n\r\n    1.) An",
          "238041: Die fachlichen Vorgaben des RKI (a) legen nach dem \"aktuellen Stand der medizinischen Wissenschaft\" ",
          "210366: Gibt es eine FMEA (Fehler- und Möglichkeitsanalyse inklusive Risikobewertung) zum Thema \"Zusammenbru",
          null
         ],
         "marker": {
          "opacity": 0.5,
          "size": 5
         },
         "mode": "markers+text",
         "name": "4_SARSCoV2_Infektion_Tests",
         "text": [
          "",
          "",
          "",
          "",
          "",
          "",
          "",
          "",
          "",
          "",
          "",
          "",
          "",
          "",
          "",
          "",
          "",
          "",
          "",
          "",
          "",
          "",
          "",
          "",
          "",
          "",
          "4_SARSCoV2_Infektion_Tests"
         ],
         "textfont": {
          "size": 12
         },
         "type": "scattergl",
         "x": [
          2.697105646133423,
          3.5460052490234375,
          1.884321689605713,
          3.7784907817840576,
          3.7023441791534424,
          3.6696040630340576,
          3.59509539604187,
          3.721848487854004,
          3.7990105152130127,
          3.6883630752563477,
          3.7567451000213623,
          3.4667842388153076,
          2.831205368041992,
          3.772698163986206,
          3.72293758392334,
          3.4076380729675293,
          3.7570838928222656,
          3.7216250896453857,
          3.4515221118927,
          3.494521141052246,
          3.4140002727508545,
          3.74436354637146,
          3.7912940979003906,
          3.523193597793579,
          3.5488290786743164,
          3.1407105922698975,
          3.4856669902801514
         ],
         "y": [
          9.642982482910156,
          12.02691650390625,
          9.93718433380127,
          12.226482391357422,
          11.450547218322754,
          12.138876914978027,
          12.140735626220703,
          12.207839012145996,
          11.622992515563965,
          12.149003982543945,
          12.154769897460938,
          12.009685516357422,
          12.021468162536621,
          11.59914493560791,
          12.2149019241333,
          12.078929901123047,
          12.207042694091797,
          12.155150413513184,
          11.954546928405762,
          11.99232292175293,
          12.1320219039917,
          11.669367790222168,
          11.610483169555664,
          12.136452674865723,
          12.061319351196289,
          11.982605934143066,
          11.827836990356445
         ]
        },
        {
         "hoverinfo": "text",
         "hovertext": [
          "192499: Anzahl der suspendierten Polizisten mit Grund für die Suspension seit 2015\r\nAnzahl Verurteilungen vo",
          "271574: - Aktuelle Schulungsunterlagen für Polizeibeamte zu: Umgang mit Menschen in psychischen Ausnahmesitu",
          "193064: Wie viele Menschen verbüßen derzeit in Deutschland eine Haftstrafe wegen Erschleichen von Leistungen",
          "204591: Wieviele Beamte / Lehrer/innen wurden 2018-2019-2020 aus dem Dienst suspendiert?\r\nAus welchen gründe",
          "225138: I. Wieviele Prüfungen der medizinischen Notwendigkeit einer Liposuktion bei Lipödem sind seit dem 01",
          "159429: Mit der Einführung des § 28 StAG ist es möglich, deutschen IS Kämpfern die deutsche Staatsangehörigk",
          "201165: Wie viele Corona-Verdachtsfälle sind dem Ministerium bei MitarbeiterInnen des Ministeriums bekannt?\r",
          "245736: Wie viele Bahncards hat die DB ihrerseits in den letzten 5 Jahren gekündigt, weil sie die physische ",
          "228546: Welches Ministerium ist federführend bei der Erstellung der jeweils neuen Version der Corona-Bekämpf",
          "217550: Welchen Pflegeschlüssel gibt es für eine Neurologische Phase C Reha?",
          "35317: Wie viele Einsätze der Polizei gab es während den Weihnachtstagen(24-26.12.2018) in den einzelnen Be",
          "182276: wie viele funktionsfähige Geräte zur extrakorporalen Membranoxygenierung (ECMO) stehen in Rheinland-",
          "249688: nach einer kleinen Anfrage der CDU-Fraktion in Berlin hat das Berliner Innenministerium die Anzahl d",
          "18899: Falls es eine interne Dienstanweisung für Zeugenaussagen von Polizeibediensteten gibt, so bitte ich ",
          "153675: Wie viele Cyber-Attacken gab es in Hamburg auf Behörden und öffentliche Stellen in den Jahren 2014 -",
          "261513: nach welchen juristischen Paragraphen werden im Todesfalle (przypadek m śmiertelny) die Verwandten d",
          "227863: Sehr geehrte Damen und Herren,\r\n\r\nbitte teilen Sie mir die Zahl der Suizide mit der genauen Todesurs",
          "267144: Sehr geehrte Damen und Herren,\r\n\r\nWie viele Soldaten haben seit dem Jahr 2020 remonstriert, bzw. hab",
          "11247: Den derzeit gültigen Zentralerlass B-2630/4 \"Annahme und Tragen ausländischer Orden und Ehrenzeichen",
          null
         ],
         "marker": {
          "opacity": 0.5,
          "size": 5
         },
         "mode": "markers+text",
         "name": "5_wievielen_viele_Fllen",
         "text": [
          "",
          "",
          "",
          "",
          "",
          "",
          "",
          "",
          "",
          "",
          "",
          "",
          "",
          "",
          "",
          "",
          "",
          "",
          "",
          "5_wievielen_viele_Fllen"
         ],
         "textfont": {
          "size": 12
         },
         "type": "scattergl",
         "x": [
          2.8941543102264404,
          2.70544171333313,
          2.977081537246704,
          2.84553861618042,
          2.9878339767456055,
          2.1034281253814697,
          2.9122507572174072,
          2.935856819152832,
          2.644850254058838,
          3.1808018684387207,
          2.932676076889038,
          3.1468465328216553,
          2.7278337478637695,
          2.674799919128418,
          2.952207088470459,
          2.994290351867676,
          3.143580436706543,
          2.8188986778259277,
          2.331615924835205,
          2.837367534637451
         ],
         "y": [
          10.829644203186035,
          10.776100158691406,
          10.808359146118164,
          10.852721214294434,
          10.895803451538086,
          11.307243347167969,
          10.91486930847168,
          10.848197937011719,
          10.379323959350586,
          10.801238059997559,
          10.831199645996094,
          10.767593383789062,
          11.094836235046387,
          10.794143676757812,
          10.863363265991211,
          10.6883544921875,
          11.379616737365723,
          10.93293285369873,
          10.72026538848877,
          10.867674827575684
         ]
        },
        {
         "hoverinfo": "text",
         "hovertext": [
          "245271: Da ich bald meine Abiturprüfungen im Fach Englisch schreibe, und schon die meisten Klausuren geschri",
          "58909: Die Anzahl (Absolut/Prozent) der Schulplätze, die zur Erfüllung der Zweitwünsche vorgehalten oder re",
          "4611: Eine maschinenlesbare Datei mit den Angaben der Abschlussnoten aller Studierenden zum letzten Sticht",
          "267839: Alle Klausuraufgabe des Abiturs im Fach Physik und Mathematik, die bisher zentral gestellt wurden. \r",
          "261915: bitte senden Sie mir die NSU-Akten zu.\r\nVielen Dank im Voraus.\r\nViele Grüße",
          "63143: Die Aufgaben, Erwartungshorizonte und Lösungen für die Abitur-Prüfung im Fach Mathematik aus dem Jah",
          "62611: Die Aufgaben, Erwartungshorizonte und Lösungen für die Abitur-Prüfung im Fach Chemie aus dem Jahr 20",
          "56136: Die Prüfungen und Musterlösungen bzw. den Erwartungshorizont für die Abituraufgaben 2007-2018 in all",
          "3238: Eine Stellungnahme, wie das neu eingeführte Praxissemester gehandhabt wird. Konkret möchte ich wisse",
          "205385: Die Gesamtschülerzahl jeder einzelnen Schule im Landkreis Rastatt.",
          "24258: Sowohl die Übungsaufgaben für die Prüfungen selbst, als auch die eigentlichen Prüfungen und Musterlö",
          "273389: Die Prüfungen und Musterlösungen bzw. den Erwartungshorizont für die Abituraufgaben 2007-2021 in den",
          "283927: den vollständigen G9 Mathematik Lehrplan",
          "279505: für die Vorbereitung auf das Abitur im Jahr 2024 möchte ich die Abituraufgaben im Fach Informatik fü",
          "242588: Abituraufgaben aller Fächer bis einschließlich Abitur 2021, Haupt- und Nachtermine sowie ggf. Nach-N",
          null
         ],
         "marker": {
          "opacity": 0.5,
          "size": 5
         },
         "mode": "markers+text",
         "name": "6_Mathematik_Fach_Abituraufgaben",
         "text": [
          "",
          "",
          "",
          "",
          "",
          "",
          "",
          "",
          "",
          "",
          "",
          "",
          "",
          "",
          "",
          "6_Mathematik_Fach_Abituraufgaben"
         ],
         "textfont": {
          "size": 12
         },
         "type": "scattergl",
         "x": [
          -3.379370927810669,
          -3.1516196727752686,
          -1.8924036026000977,
          -3.480196714401245,
          -3.322596549987793,
          -3.551562786102295,
          -3.487657070159912,
          -3.4656119346618652,
          -2.8749468326568604,
          -3.1171679496765137,
          -3.496868848800659,
          -3.5391268730163574,
          -3.4083356857299805,
          -3.4363322257995605,
          -3.4198720455169678,
          -3.268244981765747
         ],
         "y": [
          11.08968448638916,
          10.870864868164062,
          11.71001148223877,
          11.01087760925293,
          11.080382347106934,
          11.176409721374512,
          11.113422393798828,
          11.09261703491211,
          11.122550964355469,
          10.856559753417969,
          11.093173027038574,
          11.1336669921875,
          11.031116485595703,
          11.084388732910156,
          11.08177661895752,
          11.103166580200195
         ]
        },
        {
         "hoverinfo": "text",
         "hovertext": [
          "190260: Wie hoch waren die Einsparungen im laufenden Geschäftsbetrieb durch die Covid19-Krise vom März bis M",
          "29517: \"Auf welche Höhe beliefen sich die Ausgaben Ihrer Behörde für Drucker-/Kopierpapier und Toner im Jah",
          "189893: Wie hoch waren die Einsparungen im laufenden Geschäftsbetrieb durch die Covid19-Krise vom März bis M",
          "190401: Wie hoch waren die Einsparungen im laufenden Geschäftsbetrieb durch die Covid19-Krise vom März bis M",
          "190650: Wie hoch waren die Einsparungen im laufenden Geschäftsbetrieb durch die Covid19-Krise vom März bis M",
          "29535: \"Auf welche Höhe beliefen sich die Ausgaben aller Bürgerämter der Stadt Bonn für Drucker-/Kopierpapi",
          "29399: Ausgaben des Ministeriums für Druckerpapier und Toner im Jahr 2017.",
          "190443: Wie hoch waren die Einsparungen im laufenden Geschäftsbetrieb durch die Covid19-Krise vom März bis M",
          "190437: Wie hoch waren die Einsparungen im laufenden Geschäftsbetrieb durch die Covid19-Krise vom März bis M",
          "189774: Wie hoch waren die Einsparungen im laufenden Geschäftsbetrieb durch die Covid19-Krise vom März bis M",
          "190964: Wie hoch waren die Einsparungen im laufenden Geschäftsbetrieb durch die Covid19-Krise vom März bis M",
          "17873: Wie hoch sind die Steuereinahmen (Gewerbesteuern) im Jahr 2014, 2015 von:\r\n-Thyssen-Krupp-Steel AG i",
          "190155: Wie hoch waren die Einsparungen im laufenden Geschäftsbetrieb durch die Covid19-Krise vom März bis M",
          null
         ],
         "marker": {
          "opacity": 0.5,
          "size": 5
         },
         "mode": "markers+text",
         "name": "7_Einsparungen_Geschftsbetrieb_laufenden",
         "text": [
          "",
          "",
          "",
          "",
          "",
          "",
          "",
          "",
          "",
          "",
          "",
          "",
          "",
          "7_Einsparungen_Geschftsbetrieb_laufenden"
         ],
         "textfont": {
          "size": 12
         },
         "type": "scattergl",
         "x": [
          3.062518835067749,
          2.468432664871216,
          3.132918119430542,
          3.132145881652832,
          3.1337027549743652,
          2.3545923233032227,
          2.5107944011688232,
          3.1394946575164795,
          3.1319820880889893,
          3.1638424396514893,
          3.111804246902466,
          3.0673532485961914,
          3.125913381576538,
          2.964268922805786
         ],
         "y": [
          14.420475006103516,
          13.201160430908203,
          14.489486694335938,
          14.48968505859375,
          14.491620063781738,
          12.974383354187012,
          13.334245681762695,
          14.498488426208496,
          14.490166664123535,
          14.525155067443848,
          14.468389511108398,
          14.406909942626953,
          14.482662200927734,
          14.174833297729492
         ]
        }
       ],
       "layout": {
        "annotations": [
         {
          "showarrow": false,
          "text": "D1",
          "x": -4.0842972040176395,
          "y": 11.924604201316834,
          "yshift": 10
         },
         {
          "showarrow": false,
          "text": "D2",
          "x": 0.14228244423866254,
          "xshift": 10,
          "y": 16.703928327560426
         }
        ],
        "height": 750,
        "shapes": [
         {
          "line": {
           "color": "#CFD8DC",
           "width": 2
          },
          "type": "line",
          "x0": 0.14228244423866254,
          "x1": 0.14228244423866254,
          "y0": 7.145280075073242,
          "y1": 16.703928327560426
         },
         {
          "line": {
           "color": "#9E9E9E",
           "width": 2
          },
          "type": "line",
          "x0": -4.0842972040176395,
          "x1": 4.368862092494965,
          "y0": 11.924604201316834,
          "y1": 11.924604201316834
         }
        ],
        "template": {
         "data": {
          "bar": [
           {
            "error_x": {
             "color": "rgb(36,36,36)"
            },
            "error_y": {
             "color": "rgb(36,36,36)"
            },
            "marker": {
             "line": {
              "color": "white",
              "width": 0.5
             },
             "pattern": {
              "fillmode": "overlay",
              "size": 10,
              "solidity": 0.2
             }
            },
            "type": "bar"
           }
          ],
          "barpolar": [
           {
            "marker": {
             "line": {
              "color": "white",
              "width": 0.5
             },
             "pattern": {
              "fillmode": "overlay",
              "size": 10,
              "solidity": 0.2
             }
            },
            "type": "barpolar"
           }
          ],
          "carpet": [
           {
            "aaxis": {
             "endlinecolor": "rgb(36,36,36)",
             "gridcolor": "white",
             "linecolor": "white",
             "minorgridcolor": "white",
             "startlinecolor": "rgb(36,36,36)"
            },
            "baxis": {
             "endlinecolor": "rgb(36,36,36)",
             "gridcolor": "white",
             "linecolor": "white",
             "minorgridcolor": "white",
             "startlinecolor": "rgb(36,36,36)"
            },
            "type": "carpet"
           }
          ],
          "choropleth": [
           {
            "colorbar": {
             "outlinewidth": 1,
             "tickcolor": "rgb(36,36,36)",
             "ticks": "outside"
            },
            "type": "choropleth"
           }
          ],
          "contour": [
           {
            "colorbar": {
             "outlinewidth": 1,
             "tickcolor": "rgb(36,36,36)",
             "ticks": "outside"
            },
            "colorscale": [
             [
              0,
              "#440154"
             ],
             [
              0.1111111111111111,
              "#482878"
             ],
             [
              0.2222222222222222,
              "#3e4989"
             ],
             [
              0.3333333333333333,
              "#31688e"
             ],
             [
              0.4444444444444444,
              "#26828e"
             ],
             [
              0.5555555555555556,
              "#1f9e89"
             ],
             [
              0.6666666666666666,
              "#35b779"
             ],
             [
              0.7777777777777778,
              "#6ece58"
             ],
             [
              0.8888888888888888,
              "#b5de2b"
             ],
             [
              1,
              "#fde725"
             ]
            ],
            "type": "contour"
           }
          ],
          "contourcarpet": [
           {
            "colorbar": {
             "outlinewidth": 1,
             "tickcolor": "rgb(36,36,36)",
             "ticks": "outside"
            },
            "type": "contourcarpet"
           }
          ],
          "heatmap": [
           {
            "colorbar": {
             "outlinewidth": 1,
             "tickcolor": "rgb(36,36,36)",
             "ticks": "outside"
            },
            "colorscale": [
             [
              0,
              "#440154"
             ],
             [
              0.1111111111111111,
              "#482878"
             ],
             [
              0.2222222222222222,
              "#3e4989"
             ],
             [
              0.3333333333333333,
              "#31688e"
             ],
             [
              0.4444444444444444,
              "#26828e"
             ],
             [
              0.5555555555555556,
              "#1f9e89"
             ],
             [
              0.6666666666666666,
              "#35b779"
             ],
             [
              0.7777777777777778,
              "#6ece58"
             ],
             [
              0.8888888888888888,
              "#b5de2b"
             ],
             [
              1,
              "#fde725"
             ]
            ],
            "type": "heatmap"
           }
          ],
          "heatmapgl": [
           {
            "colorbar": {
             "outlinewidth": 1,
             "tickcolor": "rgb(36,36,36)",
             "ticks": "outside"
            },
            "colorscale": [
             [
              0,
              "#440154"
             ],
             [
              0.1111111111111111,
              "#482878"
             ],
             [
              0.2222222222222222,
              "#3e4989"
             ],
             [
              0.3333333333333333,
              "#31688e"
             ],
             [
              0.4444444444444444,
              "#26828e"
             ],
             [
              0.5555555555555556,
              "#1f9e89"
             ],
             [
              0.6666666666666666,
              "#35b779"
             ],
             [
              0.7777777777777778,
              "#6ece58"
             ],
             [
              0.8888888888888888,
              "#b5de2b"
             ],
             [
              1,
              "#fde725"
             ]
            ],
            "type": "heatmapgl"
           }
          ],
          "histogram": [
           {
            "marker": {
             "line": {
              "color": "white",
              "width": 0.6
             }
            },
            "type": "histogram"
           }
          ],
          "histogram2d": [
           {
            "colorbar": {
             "outlinewidth": 1,
             "tickcolor": "rgb(36,36,36)",
             "ticks": "outside"
            },
            "colorscale": [
             [
              0,
              "#440154"
             ],
             [
              0.1111111111111111,
              "#482878"
             ],
             [
              0.2222222222222222,
              "#3e4989"
             ],
             [
              0.3333333333333333,
              "#31688e"
             ],
             [
              0.4444444444444444,
              "#26828e"
             ],
             [
              0.5555555555555556,
              "#1f9e89"
             ],
             [
              0.6666666666666666,
              "#35b779"
             ],
             [
              0.7777777777777778,
              "#6ece58"
             ],
             [
              0.8888888888888888,
              "#b5de2b"
             ],
             [
              1,
              "#fde725"
             ]
            ],
            "type": "histogram2d"
           }
          ],
          "histogram2dcontour": [
           {
            "colorbar": {
             "outlinewidth": 1,
             "tickcolor": "rgb(36,36,36)",
             "ticks": "outside"
            },
            "colorscale": [
             [
              0,
              "#440154"
             ],
             [
              0.1111111111111111,
              "#482878"
             ],
             [
              0.2222222222222222,
              "#3e4989"
             ],
             [
              0.3333333333333333,
              "#31688e"
             ],
             [
              0.4444444444444444,
              "#26828e"
             ],
             [
              0.5555555555555556,
              "#1f9e89"
             ],
             [
              0.6666666666666666,
              "#35b779"
             ],
             [
              0.7777777777777778,
              "#6ece58"
             ],
             [
              0.8888888888888888,
              "#b5de2b"
             ],
             [
              1,
              "#fde725"
             ]
            ],
            "type": "histogram2dcontour"
           }
          ],
          "mesh3d": [
           {
            "colorbar": {
             "outlinewidth": 1,
             "tickcolor": "rgb(36,36,36)",
             "ticks": "outside"
            },
            "type": "mesh3d"
           }
          ],
          "parcoords": [
           {
            "line": {
             "colorbar": {
              "outlinewidth": 1,
              "tickcolor": "rgb(36,36,36)",
              "ticks": "outside"
             }
            },
            "type": "parcoords"
           }
          ],
          "pie": [
           {
            "automargin": true,
            "type": "pie"
           }
          ],
          "scatter": [
           {
            "fillpattern": {
             "fillmode": "overlay",
             "size": 10,
             "solidity": 0.2
            },
            "type": "scatter"
           }
          ],
          "scatter3d": [
           {
            "line": {
             "colorbar": {
              "outlinewidth": 1,
              "tickcolor": "rgb(36,36,36)",
              "ticks": "outside"
             }
            },
            "marker": {
             "colorbar": {
              "outlinewidth": 1,
              "tickcolor": "rgb(36,36,36)",
              "ticks": "outside"
             }
            },
            "type": "scatter3d"
           }
          ],
          "scattercarpet": [
           {
            "marker": {
             "colorbar": {
              "outlinewidth": 1,
              "tickcolor": "rgb(36,36,36)",
              "ticks": "outside"
             }
            },
            "type": "scattercarpet"
           }
          ],
          "scattergeo": [
           {
            "marker": {
             "colorbar": {
              "outlinewidth": 1,
              "tickcolor": "rgb(36,36,36)",
              "ticks": "outside"
             }
            },
            "type": "scattergeo"
           }
          ],
          "scattergl": [
           {
            "marker": {
             "colorbar": {
              "outlinewidth": 1,
              "tickcolor": "rgb(36,36,36)",
              "ticks": "outside"
             }
            },
            "type": "scattergl"
           }
          ],
          "scattermapbox": [
           {
            "marker": {
             "colorbar": {
              "outlinewidth": 1,
              "tickcolor": "rgb(36,36,36)",
              "ticks": "outside"
             }
            },
            "type": "scattermapbox"
           }
          ],
          "scatterpolar": [
           {
            "marker": {
             "colorbar": {
              "outlinewidth": 1,
              "tickcolor": "rgb(36,36,36)",
              "ticks": "outside"
             }
            },
            "type": "scatterpolar"
           }
          ],
          "scatterpolargl": [
           {
            "marker": {
             "colorbar": {
              "outlinewidth": 1,
              "tickcolor": "rgb(36,36,36)",
              "ticks": "outside"
             }
            },
            "type": "scatterpolargl"
           }
          ],
          "scatterternary": [
           {
            "marker": {
             "colorbar": {
              "outlinewidth": 1,
              "tickcolor": "rgb(36,36,36)",
              "ticks": "outside"
             }
            },
            "type": "scatterternary"
           }
          ],
          "surface": [
           {
            "colorbar": {
             "outlinewidth": 1,
             "tickcolor": "rgb(36,36,36)",
             "ticks": "outside"
            },
            "colorscale": [
             [
              0,
              "#440154"
             ],
             [
              0.1111111111111111,
              "#482878"
             ],
             [
              0.2222222222222222,
              "#3e4989"
             ],
             [
              0.3333333333333333,
              "#31688e"
             ],
             [
              0.4444444444444444,
              "#26828e"
             ],
             [
              0.5555555555555556,
              "#1f9e89"
             ],
             [
              0.6666666666666666,
              "#35b779"
             ],
             [
              0.7777777777777778,
              "#6ece58"
             ],
             [
              0.8888888888888888,
              "#b5de2b"
             ],
             [
              1,
              "#fde725"
             ]
            ],
            "type": "surface"
           }
          ],
          "table": [
           {
            "cells": {
             "fill": {
              "color": "rgb(237,237,237)"
             },
             "line": {
              "color": "white"
             }
            },
            "header": {
             "fill": {
              "color": "rgb(217,217,217)"
             },
             "line": {
              "color": "white"
             }
            },
            "type": "table"
           }
          ]
         },
         "layout": {
          "annotationdefaults": {
           "arrowhead": 0,
           "arrowwidth": 1
          },
          "autotypenumbers": "strict",
          "coloraxis": {
           "colorbar": {
            "outlinewidth": 1,
            "tickcolor": "rgb(36,36,36)",
            "ticks": "outside"
           }
          },
          "colorscale": {
           "diverging": [
            [
             0,
             "rgb(103,0,31)"
            ],
            [
             0.1,
             "rgb(178,24,43)"
            ],
            [
             0.2,
             "rgb(214,96,77)"
            ],
            [
             0.3,
             "rgb(244,165,130)"
            ],
            [
             0.4,
             "rgb(253,219,199)"
            ],
            [
             0.5,
             "rgb(247,247,247)"
            ],
            [
             0.6,
             "rgb(209,229,240)"
            ],
            [
             0.7,
             "rgb(146,197,222)"
            ],
            [
             0.8,
             "rgb(67,147,195)"
            ],
            [
             0.9,
             "rgb(33,102,172)"
            ],
            [
             1,
             "rgb(5,48,97)"
            ]
           ],
           "sequential": [
            [
             0,
             "#440154"
            ],
            [
             0.1111111111111111,
             "#482878"
            ],
            [
             0.2222222222222222,
             "#3e4989"
            ],
            [
             0.3333333333333333,
             "#31688e"
            ],
            [
             0.4444444444444444,
             "#26828e"
            ],
            [
             0.5555555555555556,
             "#1f9e89"
            ],
            [
             0.6666666666666666,
             "#35b779"
            ],
            [
             0.7777777777777778,
             "#6ece58"
            ],
            [
             0.8888888888888888,
             "#b5de2b"
            ],
            [
             1,
             "#fde725"
            ]
           ],
           "sequentialminus": [
            [
             0,
             "#440154"
            ],
            [
             0.1111111111111111,
             "#482878"
            ],
            [
             0.2222222222222222,
             "#3e4989"
            ],
            [
             0.3333333333333333,
             "#31688e"
            ],
            [
             0.4444444444444444,
             "#26828e"
            ],
            [
             0.5555555555555556,
             "#1f9e89"
            ],
            [
             0.6666666666666666,
             "#35b779"
            ],
            [
             0.7777777777777778,
             "#6ece58"
            ],
            [
             0.8888888888888888,
             "#b5de2b"
            ],
            [
             1,
             "#fde725"
            ]
           ]
          },
          "colorway": [
           "#1F77B4",
           "#FF7F0E",
           "#2CA02C",
           "#D62728",
           "#9467BD",
           "#8C564B",
           "#E377C2",
           "#7F7F7F",
           "#BCBD22",
           "#17BECF"
          ],
          "font": {
           "color": "rgb(36,36,36)"
          },
          "geo": {
           "bgcolor": "white",
           "lakecolor": "white",
           "landcolor": "white",
           "showlakes": true,
           "showland": true,
           "subunitcolor": "white"
          },
          "hoverlabel": {
           "align": "left"
          },
          "hovermode": "closest",
          "mapbox": {
           "style": "light"
          },
          "paper_bgcolor": "white",
          "plot_bgcolor": "white",
          "polar": {
           "angularaxis": {
            "gridcolor": "rgb(232,232,232)",
            "linecolor": "rgb(36,36,36)",
            "showgrid": false,
            "showline": true,
            "ticks": "outside"
           },
           "bgcolor": "white",
           "radialaxis": {
            "gridcolor": "rgb(232,232,232)",
            "linecolor": "rgb(36,36,36)",
            "showgrid": false,
            "showline": true,
            "ticks": "outside"
           }
          },
          "scene": {
           "xaxis": {
            "backgroundcolor": "white",
            "gridcolor": "rgb(232,232,232)",
            "gridwidth": 2,
            "linecolor": "rgb(36,36,36)",
            "showbackground": true,
            "showgrid": false,
            "showline": true,
            "ticks": "outside",
            "zeroline": false,
            "zerolinecolor": "rgb(36,36,36)"
           },
           "yaxis": {
            "backgroundcolor": "white",
            "gridcolor": "rgb(232,232,232)",
            "gridwidth": 2,
            "linecolor": "rgb(36,36,36)",
            "showbackground": true,
            "showgrid": false,
            "showline": true,
            "ticks": "outside",
            "zeroline": false,
            "zerolinecolor": "rgb(36,36,36)"
           },
           "zaxis": {
            "backgroundcolor": "white",
            "gridcolor": "rgb(232,232,232)",
            "gridwidth": 2,
            "linecolor": "rgb(36,36,36)",
            "showbackground": true,
            "showgrid": false,
            "showline": true,
            "ticks": "outside",
            "zeroline": false,
            "zerolinecolor": "rgb(36,36,36)"
           }
          },
          "shapedefaults": {
           "fillcolor": "black",
           "line": {
            "width": 0
           },
           "opacity": 0.3
          },
          "ternary": {
           "aaxis": {
            "gridcolor": "rgb(232,232,232)",
            "linecolor": "rgb(36,36,36)",
            "showgrid": false,
            "showline": true,
            "ticks": "outside"
           },
           "baxis": {
            "gridcolor": "rgb(232,232,232)",
            "linecolor": "rgb(36,36,36)",
            "showgrid": false,
            "showline": true,
            "ticks": "outside"
           },
           "bgcolor": "white",
           "caxis": {
            "gridcolor": "rgb(232,232,232)",
            "linecolor": "rgb(36,36,36)",
            "showgrid": false,
            "showline": true,
            "ticks": "outside"
           }
          },
          "title": {
           "x": 0.05
          },
          "xaxis": {
           "automargin": true,
           "gridcolor": "rgb(232,232,232)",
           "linecolor": "rgb(36,36,36)",
           "showgrid": false,
           "showline": true,
           "ticks": "outside",
           "title": {
            "standoff": 15
           },
           "zeroline": false,
           "zerolinecolor": "rgb(36,36,36)"
          },
          "yaxis": {
           "automargin": true,
           "gridcolor": "rgb(232,232,232)",
           "linecolor": "rgb(36,36,36)",
           "showgrid": false,
           "showline": true,
           "ticks": "outside",
           "title": {
            "standoff": 15
           },
           "zeroline": false,
           "zerolinecolor": "rgb(36,36,36)"
          }
         }
        },
        "title": {
         "font": {
          "color": "Black",
          "size": 22
         },
         "text": "<b>Documents and Topics</b>",
         "x": 0.5,
         "xanchor": "center",
         "yanchor": "top"
        },
        "width": 1200,
        "xaxis": {
         "visible": false
        },
        "yaxis": {
         "visible": false
        }
       }
      }
     },
     "metadata": {},
     "output_type": "display_data"
    }
   ],
   "source": [
    "# Reduce dimensionality of embeddings, this step is optional but much faster to perform iteratively:\n",
    "reduced_embeddings = UMAP(n_neighbors=10, n_components=2, min_dist=0.0, metric='cosine').fit_transform(embeddings)\n",
    "topic_model.visualize_documents(hover_lst, reduced_embeddings=reduced_embeddings)"
   ]
  },
  {
   "cell_type": "code",
   "execution_count": 82,
   "metadata": {},
   "outputs": [
    {
     "name": "stderr",
     "output_type": "stream",
     "text": [
      "100%|██████████| 8/8 [00:00<00:00, 177.50it/s]\n"
     ]
    }
   ],
   "source": [
    "hierarchical_topics = topic_model.hierarchical_topics(docs)"
   ]
  },
  {
   "cell_type": "code",
   "execution_count": 83,
   "metadata": {},
   "outputs": [
    {
     "data": {
      "application/vnd.plotly.v1+json": {
       "config": {
        "plotlyServerURL": "https://plot.ly"
       },
       "data": [
        {
         "hoverinfo": "text",
         "marker": {
          "color": "rgb(61,153,112)"
         },
         "mode": "lines",
         "text": [
          "daten_der_und_oder_zum",
          "",
          "",
          "des_der_auf_zu_im"
         ],
         "type": "scatter",
         "x": [
          0,
          0.6276382624201611,
          0.6276382624201611,
          0
         ],
         "xaxis": "x",
         "y": [
          -25,
          -25,
          -35,
          -35
         ],
         "yaxis": "y"
        },
        {
         "hoverinfo": "text",
         "marker": {
          "color": "rgb(61,153,112)"
         },
         "mode": "lines",
         "text": [
          "der_die_und_in_im",
          "",
          "",
          "und_ich_nach_bitte_die"
         ],
         "type": "scatter",
         "x": [
          0,
          0.31376143454883954,
          0.31376143454883954,
          0
         ],
         "xaxis": "x",
         "y": [
          -55,
          -55,
          -65,
          -65
         ],
         "yaxis": "y"
        },
        {
         "hoverinfo": "text",
         "marker": {
          "color": "rgb(61,153,112)"
         },
         "mode": "lines",
         "text": [
          "die_sarscov2_der_infektion_und",
          "",
          "",
          "und_die_der_ich_nach"
         ],
         "type": "scatter",
         "x": [
          0,
          0.45240098175815124,
          0.45240098175815124,
          0.31376143454883954
         ],
         "xaxis": "x",
         "y": [
          -45,
          -45,
          -60,
          -60
         ],
         "yaxis": "y"
        },
        {
         "hoverinfo": "text",
         "marker": {
          "color": "rgb(61,153,112)"
         },
         "mode": "lines",
         "text": [
          "die_und_der_ich_nach",
          "",
          "",
          "in_wie_die_wievielen_der"
         ],
         "type": "scatter",
         "x": [
          0.45240098175815124,
          0.6030062460269373,
          0.6030062460269373,
          0
         ],
         "xaxis": "x",
         "y": [
          -52.5,
          -52.5,
          -75,
          -75
         ],
         "yaxis": "y"
        },
        {
         "hoverinfo": "text",
         "marker": {
          "color": "rgb(61,153,112)"
         },
         "mode": "lines",
         "text": [
          "der_des_und_zu_im",
          "",
          "",
          "die_der_und_ich_nach"
         ],
         "type": "scatter",
         "x": [
          0.6276382624201611,
          0.644981183422813,
          0.644981183422813,
          0.6030062460269373
         ],
         "xaxis": "x",
         "y": [
          -30,
          -30,
          -63.75,
          -63.75
         ],
         "yaxis": "y"
        },
        {
         "hoverinfo": "text",
         "marker": {
          "color": "rgb(61,153,112)"
         },
         "mode": "lines",
         "text": [
          "der_fr_die_vertrag_in",
          "",
          "",
          "der_die_und_ich_des"
         ],
         "type": "scatter",
         "x": [
          0,
          0.6865910099528184,
          0.6865910099528184,
          0.644981183422813
         ],
         "xaxis": "x",
         "y": [
          -15,
          -15,
          -46.875,
          -46.875
         ],
         "yaxis": "y"
        },
        {
         "hoverinfo": "text",
         "marker": {
          "color": "rgb(61,153,112)"
         },
         "mode": "lines",
         "text": [
          "der_die_und_ich_des",
          "",
          "",
          "mathematik_fach_den_die_abituraufgaben"
         ],
         "type": "scatter",
         "x": [
          0.6865910099528184,
          0.8091333510076176,
          0.8091333510076176,
          0
         ],
         "xaxis": "x",
         "y": [
          -30.9375,
          -30.9375,
          -85,
          -85
         ],
         "yaxis": "y"
        },
        {
         "hoverinfo": "text",
         "marker": {
          "color": "rgb(61,153,112)"
         },
         "mode": "lines",
         "text": [
          "einsparungen_durch_geschftsbetrieb_laufenden_von",
          "",
          "",
          "der_die_und_ich_des"
         ],
         "type": "scatter",
         "x": [
          0,
          0.9790542920877359,
          0.9790542920877359,
          0.8091333510076176
         ],
         "xaxis": "x",
         "y": [
          -5,
          -5,
          -57.96875,
          -57.96875
         ],
         "yaxis": "y"
        },
        {
         "hoverinfo": "text",
         "hovertext": [
          "die_und_der_ich_nach",
          "der_des_und_zu_im",
          "der_die_und_ich_des"
         ],
         "marker": {
          "color": "black"
         },
         "mode": "markers",
         "showlegend": false,
         "type": "scatter",
         "x": [
          0.45240098175815124,
          0.6276382624201611,
          0.6865910099528184
         ],
         "y": [
          -52.5,
          -30,
          -30.9375
         ]
        },
        {
         "hoverinfo": "text",
         "hovertext": [
          "und_die_der_ich_nach",
          "die_der_und_ich_nach",
          "der_die_und_ich_des",
          "der_die_und_ich_des"
         ],
         "marker": {
          "color": "black"
         },
         "mode": "markers",
         "showlegend": false,
         "type": "scatter",
         "x": [
          0.31376143454883954,
          0.6030062460269373,
          0.644981183422813,
          0.8091333510076176
         ],
         "y": [
          -60,
          -63.75,
          -46.875,
          -57.96875
         ]
        }
       ],
       "layout": {
        "autosize": false,
        "height": 335,
        "hoverlabel": {
         "bgcolor": "white",
         "font": {
          "family": "Rockwell",
          "size": 16
         }
        },
        "hovermode": "closest",
        "plot_bgcolor": "#ECEFF1",
        "showlegend": false,
        "template": {
         "data": {
          "bar": [
           {
            "error_x": {
             "color": "#2a3f5f"
            },
            "error_y": {
             "color": "#2a3f5f"
            },
            "marker": {
             "line": {
              "color": "white",
              "width": 0.5
             },
             "pattern": {
              "fillmode": "overlay",
              "size": 10,
              "solidity": 0.2
             }
            },
            "type": "bar"
           }
          ],
          "barpolar": [
           {
            "marker": {
             "line": {
              "color": "white",
              "width": 0.5
             },
             "pattern": {
              "fillmode": "overlay",
              "size": 10,
              "solidity": 0.2
             }
            },
            "type": "barpolar"
           }
          ],
          "carpet": [
           {
            "aaxis": {
             "endlinecolor": "#2a3f5f",
             "gridcolor": "#C8D4E3",
             "linecolor": "#C8D4E3",
             "minorgridcolor": "#C8D4E3",
             "startlinecolor": "#2a3f5f"
            },
            "baxis": {
             "endlinecolor": "#2a3f5f",
             "gridcolor": "#C8D4E3",
             "linecolor": "#C8D4E3",
             "minorgridcolor": "#C8D4E3",
             "startlinecolor": "#2a3f5f"
            },
            "type": "carpet"
           }
          ],
          "choropleth": [
           {
            "colorbar": {
             "outlinewidth": 0,
             "ticks": ""
            },
            "type": "choropleth"
           }
          ],
          "contour": [
           {
            "colorbar": {
             "outlinewidth": 0,
             "ticks": ""
            },
            "colorscale": [
             [
              0,
              "#0d0887"
             ],
             [
              0.1111111111111111,
              "#46039f"
             ],
             [
              0.2222222222222222,
              "#7201a8"
             ],
             [
              0.3333333333333333,
              "#9c179e"
             ],
             [
              0.4444444444444444,
              "#bd3786"
             ],
             [
              0.5555555555555556,
              "#d8576b"
             ],
             [
              0.6666666666666666,
              "#ed7953"
             ],
             [
              0.7777777777777778,
              "#fb9f3a"
             ],
             [
              0.8888888888888888,
              "#fdca26"
             ],
             [
              1,
              "#f0f921"
             ]
            ],
            "type": "contour"
           }
          ],
          "contourcarpet": [
           {
            "colorbar": {
             "outlinewidth": 0,
             "ticks": ""
            },
            "type": "contourcarpet"
           }
          ],
          "heatmap": [
           {
            "colorbar": {
             "outlinewidth": 0,
             "ticks": ""
            },
            "colorscale": [
             [
              0,
              "#0d0887"
             ],
             [
              0.1111111111111111,
              "#46039f"
             ],
             [
              0.2222222222222222,
              "#7201a8"
             ],
             [
              0.3333333333333333,
              "#9c179e"
             ],
             [
              0.4444444444444444,
              "#bd3786"
             ],
             [
              0.5555555555555556,
              "#d8576b"
             ],
             [
              0.6666666666666666,
              "#ed7953"
             ],
             [
              0.7777777777777778,
              "#fb9f3a"
             ],
             [
              0.8888888888888888,
              "#fdca26"
             ],
             [
              1,
              "#f0f921"
             ]
            ],
            "type": "heatmap"
           }
          ],
          "heatmapgl": [
           {
            "colorbar": {
             "outlinewidth": 0,
             "ticks": ""
            },
            "colorscale": [
             [
              0,
              "#0d0887"
             ],
             [
              0.1111111111111111,
              "#46039f"
             ],
             [
              0.2222222222222222,
              "#7201a8"
             ],
             [
              0.3333333333333333,
              "#9c179e"
             ],
             [
              0.4444444444444444,
              "#bd3786"
             ],
             [
              0.5555555555555556,
              "#d8576b"
             ],
             [
              0.6666666666666666,
              "#ed7953"
             ],
             [
              0.7777777777777778,
              "#fb9f3a"
             ],
             [
              0.8888888888888888,
              "#fdca26"
             ],
             [
              1,
              "#f0f921"
             ]
            ],
            "type": "heatmapgl"
           }
          ],
          "histogram": [
           {
            "marker": {
             "pattern": {
              "fillmode": "overlay",
              "size": 10,
              "solidity": 0.2
             }
            },
            "type": "histogram"
           }
          ],
          "histogram2d": [
           {
            "colorbar": {
             "outlinewidth": 0,
             "ticks": ""
            },
            "colorscale": [
             [
              0,
              "#0d0887"
             ],
             [
              0.1111111111111111,
              "#46039f"
             ],
             [
              0.2222222222222222,
              "#7201a8"
             ],
             [
              0.3333333333333333,
              "#9c179e"
             ],
             [
              0.4444444444444444,
              "#bd3786"
             ],
             [
              0.5555555555555556,
              "#d8576b"
             ],
             [
              0.6666666666666666,
              "#ed7953"
             ],
             [
              0.7777777777777778,
              "#fb9f3a"
             ],
             [
              0.8888888888888888,
              "#fdca26"
             ],
             [
              1,
              "#f0f921"
             ]
            ],
            "type": "histogram2d"
           }
          ],
          "histogram2dcontour": [
           {
            "colorbar": {
             "outlinewidth": 0,
             "ticks": ""
            },
            "colorscale": [
             [
              0,
              "#0d0887"
             ],
             [
              0.1111111111111111,
              "#46039f"
             ],
             [
              0.2222222222222222,
              "#7201a8"
             ],
             [
              0.3333333333333333,
              "#9c179e"
             ],
             [
              0.4444444444444444,
              "#bd3786"
             ],
             [
              0.5555555555555556,
              "#d8576b"
             ],
             [
              0.6666666666666666,
              "#ed7953"
             ],
             [
              0.7777777777777778,
              "#fb9f3a"
             ],
             [
              0.8888888888888888,
              "#fdca26"
             ],
             [
              1,
              "#f0f921"
             ]
            ],
            "type": "histogram2dcontour"
           }
          ],
          "mesh3d": [
           {
            "colorbar": {
             "outlinewidth": 0,
             "ticks": ""
            },
            "type": "mesh3d"
           }
          ],
          "parcoords": [
           {
            "line": {
             "colorbar": {
              "outlinewidth": 0,
              "ticks": ""
             }
            },
            "type": "parcoords"
           }
          ],
          "pie": [
           {
            "automargin": true,
            "type": "pie"
           }
          ],
          "scatter": [
           {
            "fillpattern": {
             "fillmode": "overlay",
             "size": 10,
             "solidity": 0.2
            },
            "type": "scatter"
           }
          ],
          "scatter3d": [
           {
            "line": {
             "colorbar": {
              "outlinewidth": 0,
              "ticks": ""
             }
            },
            "marker": {
             "colorbar": {
              "outlinewidth": 0,
              "ticks": ""
             }
            },
            "type": "scatter3d"
           }
          ],
          "scattercarpet": [
           {
            "marker": {
             "colorbar": {
              "outlinewidth": 0,
              "ticks": ""
             }
            },
            "type": "scattercarpet"
           }
          ],
          "scattergeo": [
           {
            "marker": {
             "colorbar": {
              "outlinewidth": 0,
              "ticks": ""
             }
            },
            "type": "scattergeo"
           }
          ],
          "scattergl": [
           {
            "marker": {
             "colorbar": {
              "outlinewidth": 0,
              "ticks": ""
             }
            },
            "type": "scattergl"
           }
          ],
          "scattermapbox": [
           {
            "marker": {
             "colorbar": {
              "outlinewidth": 0,
              "ticks": ""
             }
            },
            "type": "scattermapbox"
           }
          ],
          "scatterpolar": [
           {
            "marker": {
             "colorbar": {
              "outlinewidth": 0,
              "ticks": ""
             }
            },
            "type": "scatterpolar"
           }
          ],
          "scatterpolargl": [
           {
            "marker": {
             "colorbar": {
              "outlinewidth": 0,
              "ticks": ""
             }
            },
            "type": "scatterpolargl"
           }
          ],
          "scatterternary": [
           {
            "marker": {
             "colorbar": {
              "outlinewidth": 0,
              "ticks": ""
             }
            },
            "type": "scatterternary"
           }
          ],
          "surface": [
           {
            "colorbar": {
             "outlinewidth": 0,
             "ticks": ""
            },
            "colorscale": [
             [
              0,
              "#0d0887"
             ],
             [
              0.1111111111111111,
              "#46039f"
             ],
             [
              0.2222222222222222,
              "#7201a8"
             ],
             [
              0.3333333333333333,
              "#9c179e"
             ],
             [
              0.4444444444444444,
              "#bd3786"
             ],
             [
              0.5555555555555556,
              "#d8576b"
             ],
             [
              0.6666666666666666,
              "#ed7953"
             ],
             [
              0.7777777777777778,
              "#fb9f3a"
             ],
             [
              0.8888888888888888,
              "#fdca26"
             ],
             [
              1,
              "#f0f921"
             ]
            ],
            "type": "surface"
           }
          ],
          "table": [
           {
            "cells": {
             "fill": {
              "color": "#EBF0F8"
             },
             "line": {
              "color": "white"
             }
            },
            "header": {
             "fill": {
              "color": "#C8D4E3"
             },
             "line": {
              "color": "white"
             }
            },
            "type": "table"
           }
          ]
         },
         "layout": {
          "annotationdefaults": {
           "arrowcolor": "#2a3f5f",
           "arrowhead": 0,
           "arrowwidth": 1
          },
          "autotypenumbers": "strict",
          "coloraxis": {
           "colorbar": {
            "outlinewidth": 0,
            "ticks": ""
           }
          },
          "colorscale": {
           "diverging": [
            [
             0,
             "#8e0152"
            ],
            [
             0.1,
             "#c51b7d"
            ],
            [
             0.2,
             "#de77ae"
            ],
            [
             0.3,
             "#f1b6da"
            ],
            [
             0.4,
             "#fde0ef"
            ],
            [
             0.5,
             "#f7f7f7"
            ],
            [
             0.6,
             "#e6f5d0"
            ],
            [
             0.7,
             "#b8e186"
            ],
            [
             0.8,
             "#7fbc41"
            ],
            [
             0.9,
             "#4d9221"
            ],
            [
             1,
             "#276419"
            ]
           ],
           "sequential": [
            [
             0,
             "#0d0887"
            ],
            [
             0.1111111111111111,
             "#46039f"
            ],
            [
             0.2222222222222222,
             "#7201a8"
            ],
            [
             0.3333333333333333,
             "#9c179e"
            ],
            [
             0.4444444444444444,
             "#bd3786"
            ],
            [
             0.5555555555555556,
             "#d8576b"
            ],
            [
             0.6666666666666666,
             "#ed7953"
            ],
            [
             0.7777777777777778,
             "#fb9f3a"
            ],
            [
             0.8888888888888888,
             "#fdca26"
            ],
            [
             1,
             "#f0f921"
            ]
           ],
           "sequentialminus": [
            [
             0,
             "#0d0887"
            ],
            [
             0.1111111111111111,
             "#46039f"
            ],
            [
             0.2222222222222222,
             "#7201a8"
            ],
            [
             0.3333333333333333,
             "#9c179e"
            ],
            [
             0.4444444444444444,
             "#bd3786"
            ],
            [
             0.5555555555555556,
             "#d8576b"
            ],
            [
             0.6666666666666666,
             "#ed7953"
            ],
            [
             0.7777777777777778,
             "#fb9f3a"
            ],
            [
             0.8888888888888888,
             "#fdca26"
            ],
            [
             1,
             "#f0f921"
            ]
           ]
          },
          "colorway": [
           "#636efa",
           "#EF553B",
           "#00cc96",
           "#ab63fa",
           "#FFA15A",
           "#19d3f3",
           "#FF6692",
           "#B6E880",
           "#FF97FF",
           "#FECB52"
          ],
          "font": {
           "color": "#2a3f5f"
          },
          "geo": {
           "bgcolor": "white",
           "lakecolor": "white",
           "landcolor": "white",
           "showlakes": true,
           "showland": true,
           "subunitcolor": "#C8D4E3"
          },
          "hoverlabel": {
           "align": "left"
          },
          "hovermode": "closest",
          "mapbox": {
           "style": "light"
          },
          "paper_bgcolor": "white",
          "plot_bgcolor": "white",
          "polar": {
           "angularaxis": {
            "gridcolor": "#EBF0F8",
            "linecolor": "#EBF0F8",
            "ticks": ""
           },
           "bgcolor": "white",
           "radialaxis": {
            "gridcolor": "#EBF0F8",
            "linecolor": "#EBF0F8",
            "ticks": ""
           }
          },
          "scene": {
           "xaxis": {
            "backgroundcolor": "white",
            "gridcolor": "#DFE8F3",
            "gridwidth": 2,
            "linecolor": "#EBF0F8",
            "showbackground": true,
            "ticks": "",
            "zerolinecolor": "#EBF0F8"
           },
           "yaxis": {
            "backgroundcolor": "white",
            "gridcolor": "#DFE8F3",
            "gridwidth": 2,
            "linecolor": "#EBF0F8",
            "showbackground": true,
            "ticks": "",
            "zerolinecolor": "#EBF0F8"
           },
           "zaxis": {
            "backgroundcolor": "white",
            "gridcolor": "#DFE8F3",
            "gridwidth": 2,
            "linecolor": "#EBF0F8",
            "showbackground": true,
            "ticks": "",
            "zerolinecolor": "#EBF0F8"
           }
          },
          "shapedefaults": {
           "line": {
            "color": "#2a3f5f"
           }
          },
          "ternary": {
           "aaxis": {
            "gridcolor": "#DFE8F3",
            "linecolor": "#A2B1C6",
            "ticks": ""
           },
           "baxis": {
            "gridcolor": "#DFE8F3",
            "linecolor": "#A2B1C6",
            "ticks": ""
           },
           "bgcolor": "white",
           "caxis": {
            "gridcolor": "#DFE8F3",
            "linecolor": "#A2B1C6",
            "ticks": ""
           }
          },
          "title": {
           "x": 0.05
          },
          "xaxis": {
           "automargin": true,
           "gridcolor": "#EBF0F8",
           "linecolor": "#EBF0F8",
           "ticks": "",
           "title": {
            "standoff": 15
           },
           "zerolinecolor": "#EBF0F8",
           "zerolinewidth": 2
          },
          "yaxis": {
           "automargin": true,
           "gridcolor": "#EBF0F8",
           "linecolor": "#EBF0F8",
           "ticks": "",
           "title": {
            "standoff": 15
           },
           "zerolinecolor": "#EBF0F8",
           "zerolinewidth": 2
          }
         }
        },
        "title": {
         "font": {
          "color": "Black",
          "size": 22
         },
         "text": "<b>Hierarchical Clustering</b>",
         "x": 0.5,
         "xanchor": "center",
         "yanchor": "top"
        },
        "width": 1000,
        "xaxis": {
         "mirror": "allticks",
         "rangemode": "tozero",
         "showgrid": false,
         "showline": true,
         "showticklabels": true,
         "ticks": "outside",
         "type": "linear",
         "zeroline": false
        },
        "yaxis": {
         "mirror": "allticks",
         "range": [
          -90,
          0
         ],
         "rangemode": "tozero",
         "showgrid": false,
         "showline": true,
         "showticklabels": true,
         "tickmode": "array",
         "ticks": "outside",
         "ticktext": [
          "8_einsparungen_durch_geschf...",
          "6_der_fr_die",
          "2_daten_der_und",
          "3_des_der_auf",
          "4_die_sarscov2_der",
          "0_der_die_und",
          "1_und_ich_nach",
          "5_in_wie_die",
          "7_mathematik_fach_den"
         ],
         "tickvals": [
          -5,
          -15,
          -25,
          -35,
          -45,
          -55,
          -65,
          -75,
          -85
         ],
         "type": "linear",
         "zeroline": false
        }
       }
      }
     },
     "metadata": {},
     "output_type": "display_data"
    }
   ],
   "source": [
    "topic_model.visualize_hierarchy(hierarchical_topics=hierarchical_topics)\n"
   ]
  }
 ],
 "metadata": {
  "kernelspec": {
   "display_name": "venv",
   "language": "python",
   "name": "python3"
  },
  "language_info": {
   "codemirror_mode": {
    "name": "ipython",
    "version": 3
   },
   "file_extension": ".py",
   "mimetype": "text/x-python",
   "name": "python",
   "nbconvert_exporter": "python",
   "pygments_lexer": "ipython3",
   "version": "3.10.12"
  },
  "orig_nbformat": 4
 },
 "nbformat": 4,
 "nbformat_minor": 2
}
