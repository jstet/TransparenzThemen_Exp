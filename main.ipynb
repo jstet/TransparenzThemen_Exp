{
 "cells": [
  {
   "cell_type": "code",
   "execution_count": 1,
   "metadata": {},
   "outputs": [
    {
     "name": "stderr",
     "output_type": "stream",
     "text": [
      "[nltk_data] Downloading package stopwords to /home/jstet/nltk_data...\n",
      "[nltk_data]   Package stopwords is already up-to-date!\n"
     ]
    },
    {
     "data": {
      "text/plain": [
       "True"
      ]
     },
     "execution_count": 1,
     "metadata": {},
     "output_type": "execute_result"
    }
   ],
   "source": [
    "from bertopic import BERTopic\n",
    "import pandas as pd\n",
    "import numpy as np\n",
    "from transformers.pipelines import pipeline\n",
    "import matplotlib.pyplot as plt\n",
    "from bertopic.representation import TextGeneration\n",
    "from tqdm import tqdm\n",
    "from nltk.corpus import stopwords\n",
    "import nltk\n",
    "from sklearn.feature_extraction.text import CountVectorizer\n",
    "from sentence_transformers import SentenceTransformer\n",
    "from umap import UMAP\n",
    "nltk.download(\"stopwords\")\n"
   ]
  },
  {
   "cell_type": "code",
   "execution_count": 2,
   "metadata": {},
   "outputs": [],
   "source": [
    "df = pd.read_csv(\"./data/sample.csv\")"
   ]
  },
  {
   "cell_type": "code",
   "execution_count": 3,
   "metadata": {},
   "outputs": [
    {
     "name": "stdout",
     "output_type": "stream",
     "text": [
      "count     399.000000\n",
      "mean       93.636591\n",
      "std       116.146787\n",
      "min         3.000000\n",
      "25%        26.000000\n",
      "50%        45.000000\n",
      "75%       117.000000\n",
      "max      1120.000000\n",
      "Name: length, dtype: float64\n"
     ]
    }
   ],
   "source": [
    "# calculate mean length of text in words\n",
    "df[\"length\"] = df[\"description\"].apply(lambda x: len(x.split()))\n",
    "print(df[\"length\"].describe())"
   ]
  },
  {
   "cell_type": "code",
   "execution_count": 4,
   "metadata": {},
   "outputs": [
    {
     "data": {
      "image/png": "[encoded data removed]",
      "text/plain": [
       "<Figure size 640x480 with 1 Axes>"
      ]
     },
     "metadata": {},
     "output_type": "display_data"
    }
   ],
   "source": [
    "plt.hist(df[\"length\"], bins=100)\n",
    "\n",
    "mean = df[\"length\"].mean()\n",
    "median = df[\"length\"].median()\n",
    "\n",
    "plt.axvline(mean, color='red', linestyle='--')\n",
    "plt.axvline(median, color='green', linestyle='--')\n",
    "\n",
    "plt.xlabel(\"Description Length\")\n",
    "plt.ylabel(\"Frequency\")\n",
    "plt.title(\"Distribution of Description Lengths\")\n",
    "\n",
    "plt.legend([f\"Mean: {mean:.2f}\", f\"Median: {median:.2f}\"])\n",
    "\n",
    "plt.show()"
   ]
  },
  {
   "cell_type": "code",
   "execution_count": 5,
   "metadata": {},
   "outputs": [
    {
     "data": {
      "text/plain": [
       "20    Prüfungsaufgaben Matheabitur 2022.\n",
       "Name: description, dtype: object"
      ]
     },
     "execution_count": 5,
     "metadata": {},
     "output_type": "execute_result"
    }
   ],
   "source": [
    "# display text with smallest length\n",
    "df[df[\"length\"] == df[\"length\"].min()][\"description\"]\n"
   ]
  },
  {
   "cell_type": "code",
   "execution_count": 6,
   "metadata": {},
   "outputs": [
    {
     "name": "stderr",
     "output_type": "stream",
     "text": [
      "Calculating embeddings: 100%|█████████████████| 399/399 [00:23<00:00, 17.21it/s]\n"
     ]
    }
   ],
   "source": [
    "# Convert the descriptions to a list\n",
    "docs = df[\"description\"].tolist()\n",
    "\n",
    "# Initialize the SentenceTransformer model with the desired pre-trained model\n",
    "embedding_model = SentenceTransformer('distiluse-base-multilingual-cased-v1')\n",
    "\n",
    "# Calculate embeddings\n",
    "embeddings = []\n",
    "\n",
    "with tqdm(total=len(docs), ncols=80, desc=\"Calculating embeddings\") as pbar:\n",
    "    for doc in docs:\n",
    "        embedding = embedding_model.encode([doc])[0]\n",
    "        embeddings.append(embedding)\n",
    "        pbar.update(1)\n",
    "\n",
    "embeddings = np.stack(embeddings)"
   ]
  },
  {
   "cell_type": "code",
   "execution_count": 7,
   "metadata": {},
   "outputs": [],
   "source": [
    "\n",
    "\n",
    "prompt = \"I have the following documents: [DOCUMENTS] \\nThese documents are about the following topic: '\"\n",
    "\n",
    "generator = pipeline('text2text-generation', model='google/flan-t5-base')\n",
    "representation_model = TextGeneration(generator)\n",
    "\n",
    "\n",
    "german_stop_words = stopwords.words('german')\n",
    "\n",
    "vectorizer_model = CountVectorizer(stop_words = german_stop_words)\n",
    "topic_model = BERTopic(vectorizer_model=vectorizer_model)\n",
    "\n",
    "topics, probs = topic_model.fit_transform(docs, embeddings)"
   ]
  },
  {
   "cell_type": "code",
   "execution_count": 8,
   "metadata": {},
   "outputs": [
    {
     "data": {
      "text/html": [
       "<div>\n",
       "<style scoped>\n",
       "    .dataframe tbody tr th:only-of-type {\n",
       "        vertical-align: middle;\n",
       "    }\n",
       "\n",
       "    .dataframe tbody tr th {\n",
       "        vertical-align: top;\n",
       "    }\n",
       "\n",
       "    .dataframe thead th {\n",
       "        text-align: right;\n",
       "    }\n",
       "</style>\n",
       "<table border=\"1\" class=\"dataframe\">\n",
       "  <thead>\n",
       "    <tr style=\"text-align: right;\">\n",
       "      <th></th>\n",
       "      <th>Topic</th>\n",
       "      <th>Count</th>\n",
       "      <th>Name</th>\n",
       "      <th>Representation</th>\n",
       "      <th>Representative_Docs</th>\n",
       "    </tr>\n",
       "  </thead>\n",
       "  <tbody>\n",
       "    <tr>\n",
       "      <th>0</th>\n",
       "      <td>-1</td>\n",
       "      <td>106</td>\n",
       "      <td>-1_fr_bitte_ausarbeitung_wurde</td>\n",
       "      <td>[fr, bitte, ausarbeitung, wurde, zb, einsparun...</td>\n",
       "      <td>[Anfrage nach dem Hamburgischen Transparenzges...</td>\n",
       "    </tr>\n",
       "    <tr>\n",
       "      <th>1</th>\n",
       "      <td>0</td>\n",
       "      <td>74</td>\n",
       "      <td>0_bitte_antrag_abs_fr</td>\n",
       "      <td>[bitte, antrag, abs, fr, ifg, informationen, n...</td>\n",
       "      <td>[Antrag nach dem Informationsfreiheitsgesetz N...</td>\n",
       "    </tr>\n",
       "    <tr>\n",
       "      <th>2</th>\n",
       "      <td>1</td>\n",
       "      <td>57</td>\n",
       "      <td>1_dokumente_smtliche_jobcenter_benachrichtigung</td>\n",
       "      <td>[dokumente, smtliche, jobcenter, benachrichtig...</td>\n",
       "      <td>[- sämtliche Dokumente (u.a. Vorlagen, Protoko...</td>\n",
       "    </tr>\n",
       "    <tr>\n",
       "      <th>3</th>\n",
       "      <td>2</td>\n",
       "      <td>35</td>\n",
       "      <td>2_energiebedarfsausweis_gebudes_sollten_uig</td>\n",
       "      <td>[energiebedarfsausweis, gebudes, sollten, uig,...</td>\n",
       "      <td>[Unter Verweis auf die Pflicht zur Vorlage ein...</td>\n",
       "    </tr>\n",
       "    <tr>\n",
       "      <th>4</th>\n",
       "      <td>3</td>\n",
       "      <td>34</td>\n",
       "      <td>3_viele_anzahl_wurden_vielen</td>\n",
       "      <td>[viele, anzahl, wurden, vielen, wegen, wurde, ...</td>\n",
       "      <td>[Anfrage nach dem Berliner Informationsfreihei...</td>\n",
       "    </tr>\n",
       "    <tr>\n",
       "      <th>5</th>\n",
       "      <td>4</td>\n",
       "      <td>31</td>\n",
       "      <td>4_abiturprfung_erwartungshorizonte_lsungen_fach</td>\n",
       "      <td>[abiturprfung, erwartungshorizonte, lsungen, f...</td>\n",
       "      <td>[Die Aufgaben, Erwartungshorizonte und Lösunge...</td>\n",
       "    </tr>\n",
       "    <tr>\n",
       "      <th>6</th>\n",
       "      <td>5</td>\n",
       "      <td>21</td>\n",
       "      <td>5_bezug_mdb_senden_ber</td>\n",
       "      <td>[bezug, mdb, senden, ber, bmg, insbesondere, i...</td>\n",
       "      <td>[Sämtliche beim BMG vorliegenden Informationen...</td>\n",
       "    </tr>\n",
       "    <tr>\n",
       "      <th>7</th>\n",
       "      <td>6</td>\n",
       "      <td>18</td>\n",
       "      <td>6_beanstandungen_betrieb_betriebsberprfungen_s...</td>\n",
       "      <td>[beanstandungen, betrieb, betriebsberprfungen,...</td>\n",
       "      <td>[1. Wann haben die beiden letzten lebensmittel...</td>\n",
       "    </tr>\n",
       "    <tr>\n",
       "      <th>8</th>\n",
       "      <td>7</td>\n",
       "      <td>12</td>\n",
       "      <td>7_2019_juli_juni_2021</td>\n",
       "      <td>[2019, juli, juni, 2021, mai, protokoll, progr...</td>\n",
       "      <td>[Die im Jahr 2020 veröffentlichten Verschollen...</td>\n",
       "    </tr>\n",
       "    <tr>\n",
       "      <th>9</th>\n",
       "      <td>8</td>\n",
       "      <td>11</td>\n",
       "      <td>8_dr_gutachtens_heer_gericht</td>\n",
       "      <td>[dr, gutachtens, heer, gericht, reinhard, bitt...</td>\n",
       "      <td>[Ich bitte um Übersendung des Gutachtens \"Rech...</td>\n",
       "    </tr>\n",
       "  </tbody>\n",
       "</table>\n",
       "</div>"
      ],
      "text/plain": [
       "   Topic  Count                                               Name  \\\n",
       "0     -1    106                     -1_fr_bitte_ausarbeitung_wurde   \n",
       "1      0     74                              0_bitte_antrag_abs_fr   \n",
       "2      1     57    1_dokumente_smtliche_jobcenter_benachrichtigung   \n",
       "3      2     35        2_energiebedarfsausweis_gebudes_sollten_uig   \n",
       "4      3     34                       3_viele_anzahl_wurden_vielen   \n",
       "5      4     31    4_abiturprfung_erwartungshorizonte_lsungen_fach   \n",
       "6      5     21                             5_bezug_mdb_senden_ber   \n",
       "7      6     18  6_beanstandungen_betrieb_betriebsberprfungen_s...   \n",
       "8      7     12                              7_2019_juli_juni_2021   \n",
       "9      8     11                       8_dr_gutachtens_heer_gericht   \n",
       "\n",
       "                                      Representation  \\\n",
       "0  [fr, bitte, ausarbeitung, wurde, zb, einsparun...   \n",
       "1  [bitte, antrag, abs, fr, ifg, informationen, n...   \n",
       "2  [dokumente, smtliche, jobcenter, benachrichtig...   \n",
       "3  [energiebedarfsausweis, gebudes, sollten, uig,...   \n",
       "4  [viele, anzahl, wurden, vielen, wegen, wurde, ...   \n",
       "5  [abiturprfung, erwartungshorizonte, lsungen, f...   \n",
       "6  [bezug, mdb, senden, ber, bmg, insbesondere, i...   \n",
       "7  [beanstandungen, betrieb, betriebsberprfungen,...   \n",
       "8  [2019, juli, juni, 2021, mai, protokoll, progr...   \n",
       "9  [dr, gutachtens, heer, gericht, reinhard, bitt...   \n",
       "\n",
       "                                 Representative_Docs  \n",
       "0  [Anfrage nach dem Hamburgischen Transparenzges...  \n",
       "1  [Antrag nach dem Informationsfreiheitsgesetz N...  \n",
       "2  [- sämtliche Dokumente (u.a. Vorlagen, Protoko...  \n",
       "3  [Unter Verweis auf die Pflicht zur Vorlage ein...  \n",
       "4  [Anfrage nach dem Berliner Informationsfreihei...  \n",
       "5  [Die Aufgaben, Erwartungshorizonte und Lösunge...  \n",
       "6  [Sämtliche beim BMG vorliegenden Informationen...  \n",
       "7  [1. Wann haben die beiden letzten lebensmittel...  \n",
       "8  [Die im Jahr 2020 veröffentlichten Verschollen...  \n",
       "9  [Ich bitte um Übersendung des Gutachtens \"Rech...  "
      ]
     },
     "execution_count": 8,
     "metadata": {},
     "output_type": "execute_result"
    }
   ],
   "source": [
    "topic_model.get_topic_info()"
   ]
  },
  {
   "cell_type": "code",
   "execution_count": 9,
   "metadata": {},
   "outputs": [
    {
     "data": {
      "text/plain": [
       "[('bitte', 0.0462230667532591),\n",
       " ('antrag', 0.04204703132495994),\n",
       " ('abs', 0.03808682285224918),\n",
       " ('fr', 0.036245631300194384),\n",
       " ('ifg', 0.03358633918877804),\n",
       " ('informationen', 0.033064275744858505),\n",
       " ('nrw', 0.02970039623287383),\n",
       " ('vig', 0.024475735543500424),\n",
       " ('erachtens', 0.024413877017863166),\n",
       " ('mchte', 0.023567967020560833)]"
      ]
     },
     "execution_count": 9,
     "metadata": {},
     "output_type": "execute_result"
    }
   ],
   "source": [
    "topic_model.get_topic(0)"
   ]
  },
  {
   "cell_type": "code",
   "execution_count": 10,
   "metadata": {},
   "outputs": [],
   "source": [
    "# make a list of objects with df id and df title\n",
    "hover_lst = df[[\"id\", \"description\"]]\n",
    "# convert to list of concatenated columns\n",
    "hover_lst = [f\"{x[0]}: {x[1][:100]}\" for x in hover_lst.values]\n"
   ]
  },
  {
   "cell_type": "code",
   "execution_count": 11,
   "metadata": {},
   "outputs": [
    {
     "data": {
      "application/vnd.plotly.v1+json": {
       "config": {
        "plotlyServerURL": "https://plot.ly"
       },
       "data": [
        {
         "hoverinfo": "text",
         "hovertext": [
          "200912: - alle eingereichten Teilnahmeunterlagen (aller Projekte) für den vergangenen 19. eGoverment-Wettbew",
          "278848: Dokumente und Kommunikation zum Einsatz von \"Polizeipanzer\" vor Franz Josef Strauß' Bonner Wohnung i",
          "5910: das/ein vollständiges, korrektes Telefonverzeichnis der Charite",
          "253173: Die folgenden Indizierungsentscheidungen und Listenstreichungen sowie (falls vorhanden) Ablehnungen ",
          "149621: in meinem sozialen Umfeld, hält sich hartnäckig das Gerücht, es gäbe \"Futtergeld\" für Obdachlose mit",
          "225192: - PDV (Polizeidienstverordnung) 300",
          "281949: Eine Auflistung der Ausgaben des Gerichts im Zeitraum von 2010 bis heute jeweils für Gesetzeskomment",
          "268864: die Indizierungsentscheidung zu Flucht von der Todesinsel (1984)",
          "28305: * Sicherheitsaudit / Analyse von 18 Kryptobibliotheken, die im Rahmen des o.g. Projekts durchgeführt",
          "284268: Abschlussbericht \"Kampf gegen Kindesmissbrauch und Kinderpornografie intensivieren – Sicherungsmecha",
          "202669: Eine Übersicht der Zahlungen, die die Hochschule im Jahr 2020 an Zoom Video Communications Inc. gele",
          "14020: die Ausarbeitung WD 5 - 102/08 mit dem Titel „Wasserentsalzung“.\r\n\r\nIch bitte ausdrücklich um elektr",
          "26033: * Die Alarm- und Ausrückeordnung ihrer Feuerwehr\r\n* Sowie die Info wann diese das letzte mal geänder",
          "13792: die Ausarbeitung WD 3 - 222/13 mit dem Titel „Sind Mietpreisgrenzen für Gewerbeflächen verfassungsre",
          "34303: - Die Liste an Softwareprodukten mit Namen und Firma, die es entwickelt hat, die im Auftrag von Ihre",
          "33276: Im Jahr 2005 wurde öffentlich bekannt, dass der BND während der Jahre 1993 bis 1998 diverse Journali",
          "195533: Wieviel von den Waldflächen in SH, aufgeschlüssel auf Baumsorten, sind von Borkenkäferbefall oder an",
          "17987: Jeweils eine Übersicht (Datum, Titel, Verfasser, Adressaten) der Dokumente, die beim Ministerium der",
          "13908: die Ausarbeitung WD 3 - 231/09 mit dem Titel „Musterentwurf eines Umweltschadenskostengesetzes“.\r\n\r\n",
          "182698: kurze Information ob eine vorübergehende Schließung der Amts- und Landgerichte geplant ist und/oder ",
          "13742: die Ausarbeitung WD 3 - 161/07 mit dem Titel „Verfassungsmäßigkeit von Online-Durchsuchungen“.\r\n\r\nIc",
          "239706: Eine Liste aller aktuell an der RWTH Aachen und Uniklinik Aachen berufenen/beschäftigten Professor*i",
          "226022: Die Prüfberichte, die der Bundesrechnungshof im Jahr 2019 gemäß § 104 Bundeshaushaltsordnung in Bezu",
          "221556: 1.) Dokumente, aus denen Standort, erfasster Bereich, Abmessungen und Energieverbrauch von Videokame",
          "240855: Meine Anfrage handelt sich Inhaltlich um Jugendvertretungen.\r\n\r\n1) Gibt es in Ihrer Kommune eine Jug",
          "213827: - welche Quellen werden im Schuluntericht (bitte nach Klassenstufe und Schulform gliedern) zu den Th",
          "213812: Guten Tag ! Ich habe Einfuhrabgaben (6,28€) zu bezahlen , jedoch stand auf dem Bescheid keine Konton",
          "134225: (1) Welche Open-Source-Anwendungen und Betriebssysteme und welche proprietären Anwendungen und Betri",
          "259359: Sämtliche Dokumentation zur Verteilung der sonderpädagogischen Ressource gemäß Lehrerstellenzuweisun",
          "287406: zu den Auftritten des EDPS in sozialen Medien, insbesondere LinkedIn, Twitter und YouTube\r\n- Datensc",
          "189797: Wie hoch waren die Einsparungen im laufenden Geschäftsbetrieb durch die Covid19-Krise vom März bis M",
          "257734: Die in der Pressemitteilung des Digitalpakts Alter vom 24. August erwähnten internen Umfragen, in de",
          "260625: Der Lagebericht der Hubschrauberstaffel aus dem Ahrtal (0.53 Uhr per E-Mail im Lagezentrum eingegang",
          "230245: - Jegliche vorhandene Kommunikation mit der TU Dortmund zur 3G-Prüfung, insbesondere mit dem Haken i",
          "48078: Gern würde ich wissen, \r\na) weshalb zunächst nur die Hotlines der Automobilhersteller VW, Daimler un",
          "272713: 1) Mitarbeiter\r\na. Wie viele Mitarbeiter sind in Ihrer Behörde für die Bearbeitung von Anfragen nach",
          "228785: Geschäftsverteilungsplan der Stadt Dinslaken (nicht das als Geschäftsverteilungsplan überschriebene ",
          "6525: - Informationen zum Ordnungswidrigkeitenverfahren bei der LDA\r\n\r\n- Informationen zu Meldungen nach d",
          "243036: das Capitani Urteil des Europäischen Gerichtshofs (EUGh) besagt, dass das Europäische Parlament \"auf",
          "181170: Sind die WLAN Systeme (z.B. die Eduroam zur Verfügung stellen) der Hochschule so eingestellt, dass d",
          "261366: Dear European Border and Coast Guard Agency,\r\n\r\nUnder the right of access to documents in the EU tre",
          "14226: die Ausarbeitung WD 5 - 123/08 mit dem Titel „Europäische Rüstungsindustrie - staatliche Beteiligung",
          "277924: Das BMJ beschreibt  explizit  in\r\nKapitel Zehn SGB XII (Vertragsrecht) Paragraph 75(2):\r\n\r\n\"Sind gee",
          "219349: Auskunft bzgl. der Anzahl der (Rundfunk-)Zahlungspflichtigen, die im Jahre 2020 seit einem Jahr oder",
          "233538: Welche An-Institute gibt es an der Jacobs University Bremen und ihren Fakultäten?",
          "28077: * Sicherheitsaudit / Analyse von 18 Kryptobibliotheken, die im Rahmen des o.g. Projekts durchgeführt",
          "209855: Anfrage nach dem Hamburgischen Transparenzgesetz (HmbTG) / HmbUIG / VIG\r\n\r\nSehr geehrte Damen und He",
          "8735: Die Antwort ihres Hauses an den BfDI auf dein Schreiben vom 05.07.2013, siehe https://fragdenstaat.d",
          "190562: Wie hoch waren die Einsparungen im laufenden Geschäftsbetrieb durch die Covid19-Krise vom März bis M",
          "13968: die Ausarbeitung WD 5 - 022/06 mit dem Titel „Förderung von Biokraftstoffen“.\r\n\r\nIch bitte ausdrückl",
          "262109: 1. Die Anzahl der Baumfällungen, aufgeschlüsselt nach Jahren, im Stadtgebiet.\r\n\r\n2. Die Anzahl der B",
          "4543: Die Antwort der US-Botschaft auf dei Fragen zu PRISM, wie berichtet in https://<< Adresse entfernt >",
          "24441: Anfrage nach dem Hamburgischen Transparenzgesetz (HmbTG)\r\n\r\nSehr geehrte Damen und Herren,\r\n\r\naus me",
          "137702: Eine Liste aller seit Anfang 2014 von Ihrem Institut in Auftrag gegebenen oder erstellten wissenscha",
          "147659: Wie hoch waren die Reisekosten Ihrer Minister 2016, 2017 und 2018? Und wie weit sind sie jeweils pro",
          "277056: Wie häufig wurde Ihnen der Einsatz der im Ordnungsmaßnahmenkatalog (§ 61 Absatz 3 im NSchG) aufgezäh",
          "227794: Telefon-Leitfäden, Arbeitsanweisungen/Schulungsunterlagen zur Struktur oder dem Inhalt der durchzufü",
          "281669: Eine Auflistung der Ausgaben des Gerichts im Zeitraum von 2010 bis heute jeweils für Gesetzeskomment",
          "20346: Die Anzahl der Planstellen, die in Ihrem Ministerium für das Thema Informationsfreiheit vorgesehen s",
          "28315: * Sicherheitsaudit / Analyse von 18 Kryptobibliotheken, die im Rahmen des o.g. Projekts durchgeführt",
          "242874: Sehr geehrte Damen und Herren,\r\n\r\ndas Capitani Urteil des Europäischen Gerichtshofs (EUGh) besagt, d",
          "14132: die Ausarbeitung WF III 355/05 mit dem Titel „Zur Zulässigkeit, die Vorsorgeuntersuchungen U Ibis U ",
          "234992: Streuplan mit den Straßen der Einsatzstufe 1 nach StrReinG §3 Absatz 5 in digitaler Form in einem ma",
          "57617: Information über die Kosten für den Erwerb der Wasserstoffbusse (per Stück), die Rückführung und die",
          "168743: 1.\tWelche Wertpapiere auf Einzelwertebene (Bestände bestimmter Wertpapiere wie Aktien, die aus Inves",
          "222186: Antrag nach EU-Verordnungen 1049/2001\r\n\r\nSehr geehrte Damen und Herren,\r\nauf Basis der Verordnung 10",
          "264086: Die aktuelle Datenschutzbewertung zur Nutzung des Softwarepakets Microsoft 365, die die unabhängigen",
          "234303: << Antragsteller:in >> Empirische Grundlagen für die Annahme einer Gefährdung Jugendlicher oder Kind",
          "4002: 1. Welche einzelnen Kriterien legt das Prüfungsverfahren zu Grunde?\r\n2. Welchen Rechtsgrundlagen unt",
          "13100: die Ausarbeitung WD 3 - 302/14 mit dem Titel „Zur Verfassungsmäßigkeit eines Verbots der Gesichtsver",
          "277947: wie viele Menschen wurden in den Jahren 2010 bis heute im UKSH fixiert?\r\n\r\nIch bitte um eine Unterte",
          "225749: Unterlagen, die die genehmigte und die tatsächlich genutzten Tierplatzzahlen der unten genannten Anl",
          "202693: Eine Übersicht der Zahlungen, die die Hochschule im Jahr 2020 an Zoom Video Communications Inc. gele",
          "134323: Die zu erwartenden oder bereits eingetretenen Auswirkungen des \"Brexit\" auf Ihren Aufgabenbereich un",
          "190539: Wie hoch waren die Einsparungen im laufenden Geschäftsbetrieb durch die Covid19-Krise vom März bis M",
          "13940: die Ausarbeitung WD 11 - 163/12 mit dem Titel „Austritt aus der Europäischen Atomgemeinschaft und re",
          "227904: 1. Wie häufig war der ZDF-Satiriker Jan Böhmermann zu Gast im Bundesministerium des Innern, für Bau ",
          "14029: die Ausarbeitung WD 7 - 238/07 mit dem Titel „Das rechtliche Verhältnis von Automobilherstellern und",
          "223495: Das aktuelle/letzte IT-Rahmenkonzept des Bundes für das aktuelle Haushaltsjahr.",
          "204899: die Höhe der geforderten Bußgelder, die wegen Verstößen gegen die Berliner SARS-CoV-2-Infektionsschu",
          "28546: * Sicherheitsaudit / Analyse von 18 Kryptobibliotheken, die im Rahmen des o.g. Projekts durchgeführt",
          "212972: Alle verfügbaren Dokumente & Informationen zum Vertragsverhältnis zwischen dem Amtsgericht und der \"",
          "27581: * Sicherheitsaudit / Analyse von 18 Kryptobibliotheken, die im Rahmen des o.g. Projekts durchgeführt",
          "190784: Wie hoch waren die Einsparungen im laufenden Geschäftsbetrieb durch die Covid19-Krise vom März bis M",
          "170954: Anfrage nach dem Berliner Informationsfreiheitsgesetz, VIG\r\n\r\nSehr geehrte Damen und Herren,\r\n\r\nbitt",
          "154608: Auflistung aller Zuwendungen von Herrn Timo Fahl an die Gemeinde Wendeburg Landkreis Peine.",
          "232801: Informationen des durch die Telekom gemeldeten Vorfalls, der zum Ausfall der Notrufe am 11.11.2021 f",
          "28256: * Sicherheitsaudit / Analyse von 18 Kryptobibliotheken, die im Rahmen des o.g. Projekts durchgeführt",
          "193762: Sind die WLAN Systeme (z.B. die Eduroam zur Verfügung stellen) der Hochschule so eingestellt, dass d",
          "152422: 1. Setzt die Stadt Göppingen in ihren Gebäuden und / oder im Freien Videoüberwachung ein?\r\n2. Falls ",
          "273251: Ich bitte um Auflistung und Übermittlung aller Kontakte sowie schriftlicher Kommunikation des ehemal",
          "224367: Die Gefährdungsbeurteilung durch die DEKRA, mit der der Verwaltungsvorstand seinen Vorschlag für die",
          "190776: Wie hoch waren die Einsparungen im laufenden Geschäftsbetrieb durch die Covid19-Krise vom März bis M",
          "174182: Sind die WLAN Systeme (z.B. die Eduroam zur Verfügung stellen) der Hochschule so eingestellt, dass d",
          "5527: DER SPIEGEL vom 14.10.2013 (42/2013), S. 34 berichtet über eine Stellungnahme des Bundesinnenministe",
          "262327: 1. Den Zeitpunkt, ab dem das Portal oder Pläne dafür dem BMI bekannt waren.\r\n2. Eine Liste aller Ihn",
          "192778: 1) Werden bzw. wurden bei Verstößen gegen das Kindeswohl Angaben zur Religionszugehörigkeit erfasst?",
          "219802: den Zeit- und Personalaufwand des Projektes „SiSyPHuS Win10: Studie zu Systemaufbau, Protokollierung",
          "268662: - Auflistung der Polizeieinsätze in Ihrem Einsatzgebiet zwischen dem 31.12.2022 12:00 und dem 01.01.",
          "231400: Ich würde gerne in Erfahrung bringen, wie viele Google zertifizierte Schulen, Hochschulen und Lehrer",
          "246341: Die Verwaltungsvorschrift(en) iZm Einrichtung von Bedarfshalteverbotszonen, insbesondere das Schreib",
          "251547: ein aktuelles Baumkataster der Stadt Göttingen mit Geokoordinaten und Artbezeichnung (und falls verf",
          "262895: Aktueller Lagebericht zu Frankreich (Bericht über die asyl- und abschiebungsrelevante Lage)",
          "262222: a) Wie viele Funktionsstellen an den einzelnen Schulen gibt es aktuell in Ihrem Schulamtsbezirk? Bit",
          "173510: Sind die WLAN Systeme (z.B. die Eduroam zur Verfügung stellen) der Hochschule so eingestellt, dass d",
          "271655: Wie viele öffentliche Warnsirenen gibt es in der Verbandsgemeinde Diez insgesamt sowie in der Stadt ",
          null
         ],
         "marker": {
          "color": "#CFD8DC",
          "opacity": 0.5,
          "size": 5
         },
         "mode": "markers+text",
         "name": "other",
         "showlegend": false,
         "type": "scattergl",
         "x": [
          -0.2778984308242798,
          -1.478214979171753,
          0.3732752799987793,
          -1.5540714263916016,
          -1.1076157093048096,
          0.05429450795054436,
          -0.6810929179191589,
          -0.8062057495117188,
          13.228753089904785,
          -2.0249404907226562,
          -1.274055004119873,
          2.872474193572998,
          0.13229894638061523,
          2.8148033618927,
          -0.5240875482559204,
          -2.0888190269470215,
          0.09185343980789185,
          0.5606226921081543,
          2.795546770095825,
          -1.3803749084472656,
          2.894692897796631,
          -0.6152418255805969,
          -0.6894237399101257,
          0.013862185180187225,
          -1.9103184938430786,
          -1.694636583328247,
          -1.565448522567749,
          -0.4830333888530731,
          -1.6208276748657227,
          -0.5425549745559692,
          -1.6659271717071533,
          -2.18267560005188,
          -1.3689000606536865,
          -1.1945589780807495,
          2.24250864982605,
          0.2581844925880432,
          0.833946943283081,
          -0.7446283102035522,
          -1.4717620611190796,
          1.352118968963623,
          -1.5124455690383911,
          2.861318588256836,
          0.83138507604599,
          -1.2878015041351318,
          -0.8940420746803284,
          13.21795654296875,
          -2.5087130069732666,
          -2.102048635482788,
          -1.6673401594161987,
          2.8638219833374023,
          0.089070163667202,
          -2.1267249584198,
          -0.40321996808052063,
          -0.6668214201927185,
          -1.6804524660110474,
          -1.0804243087768555,
          0.3347325921058655,
          -0.6584309339523315,
          -0.7143014669418335,
          13.234366416931152,
          -1.4920917749404907,
          2.9021201133728027,
          -0.2593226730823517,
          2.0317800045013428,
          -2.431946039199829,
          -1.4062862396240234,
          -0.6643675565719604,
          -2.0663890838623047,
          -0.41669657826423645,
          2.8376200199127197,
          -1.080871820449829,
          0.10745567083358765,
          -1.2850524187088013,
          -1.977280616760254,
          -1.6795494556427002,
          2.8115320205688477,
          -0.34932270646095276,
          2.855032205581665,
          -0.8964691758155823,
          -1.2022367715835571,
          13.224832534790039,
          1.193575382232666,
          13.226688385009766,
          -1.6623163223266602,
          1.3394355773925781,
          0.25236573815345764,
          0.21778781712055206,
          13.215320587158203,
          1.3439359664916992,
          -0.3725290596485138,
          -1.444506287574768,
          -0.7906770706176758,
          -1.6672966480255127,
          1.377097487449646,
          -1.4236935377120972,
          -0.4148373007774353,
          -2.033609628677368,
          13.239389419555664,
          0.12582461535930634,
          -1.6508101224899292,
          -0.5444937944412231,
          0.12049732357263565,
          -1.3901283740997314,
          -1.7705621719360352,
          1.3513312339782715,
          -0.3264714777469635,
          0.5356189608573914
         ],
         "y": [
          13.012812614440918,
          10.00465202331543,
          11.42187213897705,
          10.374529838562012,
          7.200570583343506,
          11.422517776489258,
          11.239236831665039,
          12.545001983642578,
          9.536383628845215,
          10.201191902160645,
          11.233431816101074,
          9.687880516052246,
          11.2180814743042,
          9.66423511505127,
          11.758936882019043,
          10.680832862854004,
          7.76681661605835,
          11.045936584472656,
          9.726369857788086,
          11.049995422363281,
          9.716626167297363,
          11.287976264953613,
          11.297179222106934,
          11.799863815307617,
          9.926786422729492,
          12.893587112426758,
          8.550063133239746,
          11.686163902282715,
          12.763358116149902,
          10.781143188476562,
          7.334052085876465,
          13.11996078491211,
          9.724576950073242,
          10.253280639648438,
          9.384594917297363,
          10.857499122619629,
          9.953327178955078,
          10.624831199645996,
          10.396407127380371,
          4.47432804107666,
          10.154569625854492,
          9.66222095489502,
          10.797988891601562,
          11.230070114135742,
          7.7164740562438965,
          9.525337219238281,
          10.634021759033203,
          12.7515230178833,
          7.328863143920898,
          9.668709754943848,
          7.758248329162598,
          12.87636661529541,
          9.916586875915527,
          11.315610885620117,
          7.3655219078063965,
          10.833746910095215,
          11.572953224182129,
          11.247942924499512,
          11.279547691345215,
          9.542142868041992,
          10.373499870300293,
          9.730222702026367,
          9.41414737701416,
          9.346711158752441,
          11.193525314331055,
          10.43437385559082,
          11.950942993164062,
          10.172791481018066,
          11.568922996520996,
          9.681811332702637,
          7.827679634094238,
          7.444123268127441,
          11.237296104431152,
          9.763408660888672,
          7.3442792892456055,
          9.694967269897461,
          10.064629554748535,
          9.608795166015625,
          12.096230506896973,
          8.94848346710205,
          9.529216766357422,
          9.906632423400879,
          9.533803939819336,
          7.331284046173096,
          4.492307662963867,
          9.325029373168945,
          11.260453224182129,
          9.52282428741455,
          4.482097625732422,
          8.63736629486084,
          10.401873588562012,
          9.62961196899414,
          7.334029197692871,
          4.448580265045166,
          10.379887580871582,
          10.145315170288086,
          10.16409683227539,
          9.54879379272461,
          11.277420043945312,
          12.725478172302246,
          9.292281150817871,
          7.802200794219971,
          9.58447551727295,
          9.748087882995605,
          4.474775314331055,
          8.553187370300293,
          9.888898849487305
         ]
        },
        {
         "hoverinfo": "text",
         "hovertext": [
          "174891: Sehr geehrte Damen und Herren,\r\n\r\nbitte stellen Sie mir folgende Informationen bereit:\r\n\r\n1. Wie vie",
          "217045: Die geplante Ansiedlung der Firma SVolt soll in einem Wasserschutzgebiet III erfolgen. \r\nDas Wasser ",
          "24418: Die Mitarbeiterin Dr. Anja Dürr vom RP Tübingen hat gegenüber dem VG Sigmaringen schriftlich auf die",
          "10640: Antrag nach dem SIFG/SUIG/VIG\r\n\r\nSehr geehrte Damen und Herren, \r\n\r\nkönnen Sie mir bitte mitteilen, ",
          "231536: - in elektronischer Form: (Ausführungs)-Pläne zur Anlage eines beidseitigen Radfahrstreifens am Fürs",
          "8995: Antrag nach dem LIFG, LUIG, VIG\r\n\r\nSehr geehrte Damen und Herren, \r\n\r\nbitte erteilen Sie mir Auskunf",
          "168609: Die Gehwege in Ohrsleben sind sehr gefährlich und sanierungsbedürftig. Bis Heute konnte ich jedoch n",
          "195221: Antrag nach dem IFG/VIG\r\n\r\nSehr geehrte Damen und Herren, \r\n\r\nAm 12.8.202020 publizierte das Robert-",
          "16815: Das (vollständige) Gutachten zur betrieblich-baulichen Weiterentwicklung der Kliniken des Landkreise",
          "31631: Antrag nach dem IFG M-V\r\n\r\nSehr geehrte Damen und Herren,\r\n\r\nfolgender Online-Artikel der Süddeutsch",
          "177550: Antrag nach dem Informationsfreiheitsgesetz NRW, UIG NRW, VIG\r\n\r\nSehr geehrte Damen und Herren, \r\n\r\n",
          "17765: Antrag nach dem IFG/UIG/VIG\r\n\r\nSehr geehrte Damen und Herren, \r\n\r\nich bitte um die Beamtwortung folg",
          "173737: Eine Liste (CSV oder XLS) mit allen Mitgliedern des 19. Deutschen Bundestages mit folgenden Informat",
          "17175: Anfrage nach dem Berliner Informationsfreiheitsgesetz\r\n\r\nSehr geehrte Damen und Herren,\r\n\r\nbitte sen",
          "31603: Bitte teilen Sie mir mit, welche Gemeinden in Ihrem Regierungsbezirk das gemäß Landeswassergesetz vo",
          "34343: Den Breitbandausbauplan für die Stadt Otterberg",
          "216671: den Mietvertrag mit der TriBühne Norderstedt, Rathausallee 50, 22846 Norderstedt, für die Nutzung al",
          "11594: Antrag nach dem IFG\r\n\r\nSehr geehrte Damen und Herren, \r\n\r\nbitte senden Sie mir Folgendes zu:\r\n- Den ",
          "28654: Den Mietvertrag zur Nachnutzung des Flughafens Tempelhof mit \"Bread and Butter\"",
          "2037: Bitte übersenden Sie folgende Informationen zum Abendessen im Bundeskanzleramt anlässlich des 60. Ge",
          "206639: Antrag nach dem IFG\r\n\r\nSehr geehrte Damen und Herren, \r\n\r\nHerr Bundestagsabgeordneter Nikolaus Löbel",
          "9282: Informationen über freie Baugrundstücke im Bereich der Stadt Erlangen in Bayern\r\nGerade kleine, ersc",
          "181294: Verträge zu Sondernutzungen, Genehmigungsbescheide einschl. Gebührenfestsetzungen und Aufstellung de",
          "24353: Antrag nach der Informationsfreiheitssatzung der Stadt Fürth\r\n\r\nSehr geehrte Damen und Herren, \r\n\r\nL",
          "277976: Ich möchte, dass Sie mir erlauben, in der Stadt << Adresse entfernt >> zu leben und zu bleiben\r\nweil",
          "233943: den Vertrag über die „Planungsleistung Hochwasserschutz im Bereich Hafen Rothensee, zwischen Herrenk",
          "24186: Antrag nach dem Informationsfreiheitsgesetz NRW, UIG NRW, VIG\r\n\r\nSehr geehrte Damen und Herren, \r\n\r\n",
          "258899: Antrag nach dem IFG/UIG/VIG und/oder Presserecht\r\n\r\nSehr geehrte Damen und Herren,\r\n\r\nim Lichte der ",
          "33522: § 35 Abs. 6 BauGB beschreibt die Außenbereichssatzung, quasi eine Ausnahmeregelung um Baulücken im F",
          "11690: 1991 erteilte der damalige Erste Bürgermeister Dr. Henning Voscherau inoffiziell den Auftrag, die Um",
          "182472: Antrag nach dem IFG/UIG/VIG\r\n\r\nSehr geehrte Damen und Herren, \r\n\r\nbitte senden Sie mir Folgendes zu:",
          "242433: Wie gedenkt die Stadt das Parkangebot am o.a. Ort zu verbessern? Das Abstellen eines PKW im Parkverb",
          "17497: Antrag nach dem Informationsfreiheitsgesetz NRW\r\n\r\nSehr geehrte Damen und Herren, \r\n\r\ndas Hochschulg",
          "25079: Betreff. SWG 19053 Schwerin Arsenalstr.12  Fördermittel Wohnraumstabilisierung \r\n\r\nMaßnahme: Schweri",
          "287818: Antrag nach dem HDSIG/HUIG/VIG\r\n\r\nGuten Tag, \r\n\r\ndie Videoüberwachung des Luisenplatzes ist inzwisch",
          "227765: Antrag nach dem IFG/UIG\r\n\r\nSehr geehrte Damen und Herren,\r\n\r\nbitte senden Sie mir Folgendes zu:\r\n\r\nD",
          "213961: Antrag zur Entschädigung, wegen Quarantänemaßnahmen.",
          "25051: Die Ausgaben der Stadt Wernigerode für den Naturschutz in den letzten fünf Jahre.",
          "275919: Im Rahmen der Erneuerung der Schallschutzwand B39 im Abschnitt Dudenhofen laufen derzeit die Vorplan",
          "253475: - den vereinbarten Rahmenvertrag mit Greenbone Networks GmbH in Bezug auf OpenVAS\r\n- die vereinbarte",
          "169097: Antrag nach der Informationsfreiheitssatzung der Stadt Osnabrück\r\n\r\nSehr geehrte Damen und Herren, \r",
          "170472: Auf dem Rummelburger See werden seit Monaten Hausboote (Sportboote) als Ferienwohnungen angeboten (h",
          "205415: Information dazu, ob der Wuppertaler HBF offiziell zu den gefährlichen Orten NRW zählt.",
          "200261: Anschrift der Aufsicht über den Präsidenten des Landtags NRW gem. Art. 77 Abs. 1 DSGVO-EU einschl. d",
          "5797: 1.\tIch würde gerne eine vollständige, korrekte Liste/Übersicht/Auflistung über die bestehenden und n",
          "1855: Bitte übersenden Sie folgende Informationen zum Abendessen im Bundeskanzleramt anlässlich des 60. Ge",
          "164253: - Ihre Veröffentlichung in Ausgabe Nr. 15 vom 15. August 2019 Straßenverkehr Nr. 90 Rad-Reifenkombin",
          "20231: Antrag nach dem IZG-SH\r\n\r\nSehr geehrte Damen und Herren,\r\n\r\nhiermit bitte ich im Rahmen des IZG-SH u",
          "248980: Den vollständigen Quelltext der App „MeinHeidelberg“.",
          "194945: Antrag nach dem ThürTG/ThürUIG/VIG\r\n\r\nSehr geehrte Damen und Herren, \r\n\r\nauf Grund der Klimaerwärmun",
          "151889: - alle Unterlagen, die sich mit dem Antrag von RWE zur Räumung des Hambacher Forsts vom 2. Juli 2018",
          "192528: Antrag nach dem IZG LSA/UIG LSA/VIG AG LSA\r\n\r\nSehr geehrte Damen und Herren, \r\n\r\nda sich fünf Bundes",
          "60073: Antrag nach dem HDSIG\r\n\r\nSehr geehrte Damen und Herren, \r\n\r\nbitte senden Sie mir Folgendes zu:\r\n\r\nAl",
          "224576: - Seite 34 des Lärmgutachtens für die Bergisch Gladbacher Straße.",
          "29868: Die aktuellen hausinternen Anwendungshinweise zum Umgang mit Anfragen nach dem Informationsfreiheits",
          "263900: Antrag nach dem Informationsfreiheitsgesetz NRW\r\n\r\nSehr geehrte Damen und Herren, \r\n\r\nbitte senden S",
          "15060: Antrag nach dem IFG/UIG/VIG\r\n\r\nSehr geehrte Damen und Herren, \r\n\r\nbitte beantworten Sie mir folgende",
          "1400: Bitte übersenden Sie folgende Informationen zum Abendessen im Bundeskanzleramt anlässlich des 60. Ge",
          "278169: Antrag nach dem Informationsfreiheitsgesetz NRW, UIG NRW, VIG\r\n\r\nGuten Tag, \r\n\r\nbitte senden Sie mir",
          "62635: Das vorhandene, jedoch nicht ausgeführte Fahrradwegekonzept",
          "230925: Antrag nach dem LTranspG, VIG\r\n\r\nSehr geehrte Damen und Herren, \r\n\r\nbesitzt das Ministerium der Just",
          "224561: - Seite 27 des Lärmgutachtens für die Bergisch Gladbacher Straße.",
          "278101: wie oft versuchte die Schwarz-Gruppe in Winsen oder in den Ortsteilen einen Kaufland-Supermarkt zu e",
          "251354: Vorliegende Informationen der EVU über die Auslastungen der von Ihnen bestellten SPNV-Leistungen sei",
          "62436: Bei der durch die Senatsverwaltung für Umwelt, Verkehr und Klimaschutz veranstalteten Informations- ",
          "285243: Antrag nach dem ThürTG/ThürUIG/VIG\r\n\r\nGuten Tag, \r\n\r\nbitte senden Sie mir Folgendes zu:\r\n\r\n1.) Eine ",
          "33223: Antrag nach dem IFG/UIG/VIG\r\n\r\nSehr geehrte Damen und Herren, \r\n\r\nbitte beantworten Sie mir folgende",
          "278679: das Rechtsgutachten zum Abgang vom Vorsitzenden der Geschäftsführung der Autobahn GmbH des Bundes, H",
          "187640: Antrag nach dem Informationsfreiheitsgesetz NRW, UIG NRW, VIG\r\n\r\nSehr geehrte Damen und Herren, \r\n\r\n",
          "198786: Schönen guten Tag.\r\n\r\nIch hätte gerne folgende Informationen/Aussagen:\r\n\r\n1. Warum wird in FFM immer",
          "273031: Wie hoch werden die errechneten Kosten für die Baumaßnahme inkl. Architektenwettbewerb, Abriss, Sani",
          "218124: Die beauftragte Planung für die Umgestaltung der Ostseite des Mehringdamms zwischen Bergmannstr. und",
          "15794: Antrag nach dem LIFG/LUIG/VIG\r\n\r\n\r\nSehr geehrte Damen und Herren, \r\n\r\nbitte senden Sie mir Folgendes",
          "247195: * die Anzahl der Personen, die eine Prämie in Zusammenhang mit der Außerkraftsetzung eines PKW erhal",
          null
         ],
         "marker": {
          "opacity": 0.5,
          "size": 5
         },
         "mode": "markers+text",
         "name": "0_bitte_antrag_abs",
         "text": [
          "",
          "",
          "",
          "",
          "",
          "",
          "",
          "",
          "",
          "",
          "",
          "",
          "",
          "",
          "",
          "",
          "",
          "",
          "",
          "",
          "",
          "",
          "",
          "",
          "",
          "",
          "",
          "",
          "",
          "",
          "",
          "",
          "",
          "",
          "",
          "",
          "",
          "",
          "",
          "",
          "",
          "",
          "",
          "",
          "",
          "",
          "",
          "",
          "",
          "",
          "",
          "",
          "",
          "",
          "",
          "",
          "",
          "",
          "",
          "",
          "",
          "",
          "",
          "",
          "",
          "",
          "",
          "",
          "",
          "",
          "",
          "",
          "",
          "",
          "0_bitte_antrag_abs"
         ],
         "textfont": {
          "size": 12
         },
         "type": "scattergl",
         "x": [
          -0.2821168601512909,
          1.2223538160324097,
          0.32820308208465576,
          0.3264515995979309,
          0.3474850356578827,
          0.1518537849187851,
          -0.2748681902885437,
          0.3721139132976532,
          0.5188628435134888,
          0.8670879006385803,
          -0.9190375208854675,
          0.000551587319932878,
          -0.11658678203821182,
          -0.06540869176387787,
          1.2991909980773926,
          0.5538695454597473,
          1.0016212463378906,
          0.3084062933921814,
          1.0213372707366943,
          -0.10506129264831543,
          0.2770346999168396,
          0.7371510863304138,
          0.9659541249275208,
          -0.7547534704208374,
          -0.6550024151802063,
          1.1713303327560425,
          -0.8916534781455994,
          0.44370314478874207,
          0.7328864932060242,
          1.0219415426254272,
          0.20583564043045044,
          -0.5003048777580261,
          -0.9742770195007324,
          0.7798482775688171,
          -0.07817251980304718,
          0.34015217423439026,
          -1.0465950965881348,
          0.3941609859466553,
          -0.19991523027420044,
          1.1969690322875977,
          -0.6484656929969788,
          1.1082617044448853,
          -0.802012026309967,
          -1.0617836713790894,
          -0.16227008402347565,
          -0.08182084560394287,
          0.2923937737941742,
          0.34001991152763367,
          0.38508936762809753,
          1.2602245807647705,
          0.6695021986961365,
          0.3702775835990906,
          -0.018984736874699593,
          0.07404255121946335,
          -0.7842836976051331,
          -0.8709489703178406,
          0.09882480651140213,
          -0.06274638324975967,
          -0.9205533266067505,
          0.2973596453666687,
          0.17770446836948395,
          0.07354163378477097,
          0.7993150353431702,
          -0.13156388700008392,
          0.4060729444026947,
          0.15549473464488983,
          0.022140853106975555,
          -0.5551089644432068,
          -0.9309524297714233,
          0.716215968132019,
          0.9963673949241638,
          0.9664068818092346,
          0.25999969244003296,
          0.12953005731105804,
          0.16607965528964996
         ],
         "y": [
          9.802350997924805,
          9.325825691223145,
          8.554877281188965,
          10.4346342086792,
          8.594076156616211,
          10.293843269348145,
          8.584567070007324,
          10.467083930969238,
          10.094937324523926,
          9.478217124938965,
          10.493274688720703,
          10.644027709960938,
          10.968417167663574,
          10.380800247192383,
          9.29516315460205,
          9.135526657104492,
          9.108719825744629,
          10.176451683044434,
          9.09535026550293,
          10.101924896240234,
          8.597489356994629,
          8.969263076782227,
          9.073782920837402,
          10.222065925598145,
          10.056835174560547,
          9.358776092529297,
          10.978479385375977,
          10.331725120544434,
          9.072428703308105,
          9.362698554992676,
          10.477802276611328,
          8.559244155883789,
          10.700540542602539,
          9.391403198242188,
          10.516145706176758,
          10.18746280670166,
          8.990028381347656,
          9.179376602172852,
          8.616875648498535,
          9.49301815032959,
          10.19558048248291,
          9.310009956359863,
          9.669695854187012,
          10.376199722290039,
          11.040191650390625,
          10.100915908813477,
          8.517900466918945,
          9.97778606414795,
          9.30077838897705,
          9.358417510986328,
          8.901634216308594,
          10.274101257324219,
          10.46951961517334,
          8.771897315979004,
          10.586176872253418,
          10.44757080078125,
          10.188811302185059,
          10.095887184143066,
          10.471814155578613,
          8.487992286682129,
          10.385543823242188,
          8.7891263961792,
          9.53572940826416,
          10.165925979614258,
          8.711031913757324,
          10.070085525512695,
          10.403349876403809,
          9.239911079406738,
          10.617274284362793,
          9.513659477233887,
          8.974547386169434,
          9.174448013305664,
          10.260455131530762,
          8.494351387023926,
          9.703293800354004
         ]
        },
        {
         "hoverinfo": "text",
         "hovertext": [
          "223059: - sämtliche Dokumente (u.a. Vorlagen, Protokolle, Vermerke, Vorbereitungsunterlagen) im Zusammenhang",
          "19345: - bereits öffentlich zugängliche Dokumente des Bundes über die Förderung des Internationalen Maritim",
          "18021: a) Verträg/Vereinbarungen/Kommunikation mit Predictive Policing Herstellern (z.B. IfmPt), auf dessen",
          "18410: - die aktuelle Zielvereinbarung des Jobcenters mit der Bundesagentur für Arbeit bzw. dem zuständigen",
          "252232: Dokumente, die den Stand des Regierungsvorhabens zum Thema Bund-Länderprogramm für junges Wohnen (si",
          "172512: - documents that protocol the deletion/destruction of media files of the Parliament's Audio-visual s",
          "26040: 1. Tagesordnung des Ressort-Erfahungsaustausches  2017 zur Umsetzung des IFG (und/oder Treffen mit a",
          "33392: Das Jobcenter Hagen verweigert die Übernahme der Vorauszahlungen für die Kosten der Unterkunft und v",
          "169115: - sämtliche Dokumente (u.a. Vorlagen, Protokolle, Vermerke, Vorbereitungsunterlagen) im Zusammenhang",
          "23685: - die Weisung des Jobcenters mit dem Titel \"AGH 16d SGB II\"\r\n\r\nIch bitte ausdrücklich um elektronisc",
          "199349: Sämtliche Dokumente über die polizeiliche Videoüberwachung in Köln, die durch die Anwendung von §15a",
          "213426: - die Datenschutzerklärung für das von Ihnen eingesetzte Videokonferenzsystem\r\n- falls sich die Vera",
          "214724: Die gesamte Kommunikation (inklusiver etwaiger Sitzungsprotokolle) zu dem Aktenzeichen 52 Zs 442/20 ",
          "16118: - das Anforderungsprofil für die Stelle des BSI-Präsidenten sowie alle Dokumente im Zusammenhang mit",
          "19249: - die aktuelle Zielvereinbarung des Jobcenters mit der Bundesagentur für Arbeit bzw. dem zuständigen",
          "222214: - sämtliche Dokumente (u.a. Vorlagen, Protokolle, Vermerke, Vorbereitungsunterlagen) im Zusammenhang",
          "23629: - die Stellungnahme von Bundesverband der Lohnsteuerhilfevereine e. V. (BDL) im Rahmen der Verbändeb",
          "6183: bitte übersenden Sie mir eine Übersichtsliste sämtlicher Geschäftsanweisungen, Arbeitshilfen, Leitfä",
          "265115: Bitte stellen Sie Daten zu Visanträgen für alle Herlunftsländer, Visarten und alle verfügbaren Jahre",
          "184603: Unterlagen für die Durchführung der Programme mit deutschen Nichtregierungsorganisation (früher BENG",
          "39237: Sämtliche Dokumente welche Kostenschätzungen für die Sanierung der Yorckbrücken betreffen, sowie die",
          "20095: Verzollungsdokumente (Bill of Ladings) für den Handel (Im- und Export) mit dem Nicht-EU-Ausland in e",
          "22850: - die Stellungnahme von Deutsche Weinanalytiker e.V. im Rahmen der Verbändebeteiligung zu \"Achtes Ge",
          "11422: eine Kopie des Referentenentwurfs der 6. Verordnung zur Änderung der VersMedV.",
          "258795: sämtliche Unterlagen im Zusammenhang mit der Firma Hensoldt und dem Abkommen über Ausfuhrkontrollen ",
          "250015: - alle Daten zur Nutzung durch Bürgerinnen und Bürger der o. g. Plattform, welche in Ihrer Behörde v",
          "26861: - Rektoratsbeschluss und zugrunde liegendes Konzept bezüglich der All-Gender-Toiletten",
          "192958: (1) Sämtliche Dokumente zu ihrer aktuellen Klimastrategie. Dies kann beispielsweise beinhalten:\r\n- D",
          "205105: das Jobcenter Bochum möchte von mir Geld zurückfordern. Die Abrechnung zwischen Krankenkasse und Ren",
          "185531: das Dokument mit dem Titel \"Corona-Epidemie - Dashboard Wirtschaft Deutschland\", vergl. SPIEGEL-Beri",
          "27201: Dokumente zum Vorgehen gegen Medien als Anbieter von Telemedienangeboten bei Verstößen gegen Anbiete",
          "188160: Übersicht über die Rahmenverträge für Beratungs-, IT- und Schulungsdienstleistungen\r\n(keine Handwerk",
          "222441: - sämtliche Dokumente (u.a. Vorlagen, Protokolle, Vermerke, Vorbereitungsunterlagen) im Zusammenhang",
          "22938: - die Stellungnahme von Deutscher Landkreistag im Rahmen der Verbändebeteiligung zu \"GE zur Einführu",
          "19089: - sämtliche derzeit gültige internen Weisungen und Arbeitshilfen des Jobcenters\r\n\r\nIch bitte ausdrüc",
          "170286: Ich habe bei der Recherche des Stellenportals der Senatorin für Kinder und Bildung die oben angegebe",
          "12089: Alle Unterlagen den Fall \"Ahmed Mansour\" betreffend, inklusive eventueller Fach- bzw. Dienstaufsicht",
          "18171: - sämtliche derzeit gültige internen Weisungen und Arbeitshilfen des Jobcenters\r\n\r\nIch bitte ausdrüc",
          "19066: - die aktuelle Zielvereinbarung des Jobcenters mit der Bundesagentur für Arbeit bzw. dem zuständigen",
          "274149: - alle aktuell gültigen internen Anweisungen (Arbeitsanweisungen, Dienstanweisungen, Dienstvereinbar",
          "279267: alle Unterlagen ab 01.01.2022, die sich auf Finanzsanktionen gegen die Russische Föderation beziehen",
          "215998: Alle Verwaltungsvorschriften, Handreichungen, interne Handlungsanweisungen, Checklisten und Prozessb",
          "18965: - sämtliche derzeit gültige internen Weisungen und Arbeitshilfen des Jobcenters\r\n\r\nIch bitte ausdrüc",
          "60563: - interne Kommunikation bzgl. der Berichterstattung von Zeit Online über die mangelnde Gleichberecht",
          "22483: - die Stellungnahme von BAYER AG im Rahmen der Verbändebeteiligung zu \"Gesetz für die gleichberechti",
          "192283: Bitte teilen Sie mir mit wie hoch die Kosten (Strom, Material etc.) für￼ eine Ausfertigung des neuen",
          "193991: - Die Abwendungsvereinbarung bzw. -erklärung des Bezirkamts in Bezug auf die Wohnobjekte Elbestr. 19",
          "159084: - List of lobby meetings your Directorate-General held with Microsoft or its intermediaries  from No",
          "182099: Wegweiser für Abgeordnete in der aktuellen Fassung\r\n\r\nBitte per Briefpost",
          "21920: - der Referentenentwurf des Ministeriums zu \"Asylverfahrensbeschleunigungsgesetz\"\r\n\r\nIch bitte ausdr",
          "33079: Alle Gesetzte, Verornungen, VwV oder andere Regelungen und Verträge, die das Gehalt von Geistlichen ",
          "245827: - Informationen bzw. Unterlagen zur Anzahl von Anfragen, die Sie nach BayDSG, BayUIG, UIG oder VIG s",
          "151840: alle internen Weisungen, Dienstvorschriften, Arbeitshilfen und sonstigen Schriftstücke bezüglich dem",
          "191512: Sämtliche internen Dokumente zum Umgang mit Rassismus in ihrem Hause. Das kann z.B. umfassen: Inform",
          "268394: - jeglichen Schriftverkehr, Anweisungen, Absprachen, Überlegungen, Notizen und Gesprächsprotokolle b",
          "268053: - Die Unterlagen zum zuletzt abgeschlossenen Vergabeverfahren zu den IT-Experten an Schulen\r\n- Die V",
          "134494: Die CO2-Bilanzen (carbon footprint) Ihrer Behörde in den letzten zehn Kalenderjahren sowie die zugru",
          null
         ],
         "marker": {
          "opacity": 0.5,
          "size": 5
         },
         "mode": "markers+text",
         "name": "1_dokumente_smtliche_jobcenter",
         "text": [
          "",
          "",
          "",
          "",
          "",
          "",
          "",
          "",
          "",
          "",
          "",
          "",
          "",
          "",
          "",
          "",
          "",
          "",
          "",
          "",
          "",
          "",
          "",
          "",
          "",
          "",
          "",
          "",
          "",
          "",
          "",
          "",
          "",
          "",
          "",
          "",
          "",
          "",
          "",
          "",
          "",
          "",
          "",
          "",
          "",
          "",
          "",
          "",
          "",
          "",
          "",
          "",
          "",
          "",
          "",
          "",
          "",
          "1_dokumente_smtliche_jobcenter"
         ],
         "textfont": {
          "size": 12
         },
         "type": "scattergl",
         "x": [
          0.5158286690711975,
          1.5397478342056274,
          0.419761598110199,
          1.1768850088119507,
          0.7706400752067566,
          1.2164785861968994,
          0.2938702702522278,
          1.2506437301635742,
          0.3795199394226074,
          1.279280424118042,
          -0.027092482894659042,
          0.3756715655326843,
          0.008435819298028946,
          0.4959615170955658,
          1.1642467975616455,
          0.38642609119415283,
          1.5262866020202637,
          0.7761742472648621,
          0.015131491236388683,
          0.9138799905776978,
          0.8675857186317444,
          1.4085438251495361,
          1.5636341571807861,
          1.4457876682281494,
          0.4379061460494995,
          0.043060868978500366,
          0.7422345280647278,
          0.13535958528518677,
          1.1673458814620972,
          0.6035743951797485,
          1.3749750852584839,
          0.7632128596305847,
          0.2594245374202728,
          1.5413398742675781,
          1.0981616973876953,
          0.9934306740760803,
          0.25637829303741455,
          1.1073477268218994,
          1.1972389221191406,
          0.9081416130065918,
          0.01248191948980093,
          -0.18629281222820282,
          1.108016848564148,
          1.3789763450622559,
          1.5473178625106812,
          0.3542496860027313,
          0.40385696291923523,
          0.24793875217437744,
          1.2075365781784058,
          1.4956563711166382,
          0.5286301374435425,
          -0.06889806687831879,
          0.9769954681396484,
          0.15191514790058136,
          0.6114235520362854,
          0.8519846796989441,
          0.3144598603248596,
          0.7601528763771057
         ],
         "y": [
          12.368014335632324,
          11.76639461517334,
          12.411347389221191,
          11.538179397583008,
          12.090066909790039,
          12.106786727905273,
          12.191600799560547,
          11.093720436096191,
          12.495706558227539,
          11.581404685974121,
          11.730599403381348,
          12.324254035949707,
          11.691533088684082,
          12.40860652923584,
          11.56820011138916,
          12.360376358032227,
          11.710511207580566,
          11.280631065368652,
          12.303799629211426,
          12.01974868774414,
          12.38892650604248,
          11.9843111038208,
          11.837303161621094,
          11.906365394592285,
          12.499112129211426,
          12.323807716369629,
          12.434003829956055,
          11.872891426086426,
          11.242836952209473,
          11.348678588867188,
          12.003670692443848,
          11.76645278930664,
          12.404251098632812,
          11.80356216430664,
          11.312081336975098,
          11.618209838867188,
          11.726423263549805,
          11.425376892089844,
          11.513590812683105,
          11.378546714782715,
          12.808487892150879,
          11.51323413848877,
          11.336586952209473,
          11.521794319152832,
          11.738085746765137,
          12.228114128112793,
          12.32728385925293,
          12.295954704284668,
          11.559274673461914,
          11.911040306091309,
          11.144885063171387,
          12.235812187194824,
          11.2506742477417,
          12.173664093017578,
          12.317813873291016,
          11.955265045166016,
          12.088114738464355,
          11.898911476135254
         ]
        },
        {
         "hoverinfo": "text",
         "hovertext": [
          "203002: Unter Verweis auf die Pflicht zur Vorlage eines Energieausweises nach EnEV 2014 §16 beantrage ich di",
          "198699: Unter Verweis auf die Pflicht zur Vorlage eines Energieausweises nach EnEV 2014 §16 Abs. 2 beantrage",
          "272578: 1. die Anzahl von Anträgen an Ihre Behörde zur Installation von Photovoltaik und Solarthermie auf un",
          "258676: Unter Verweis auf die Pflicht zur Vorlage eines Energieausweises nach §80 GEG beantrage ich die Hera",
          "220180: Unter Verweis auf die Pflicht zur Vorlage eines Energieausweises nach §80 GEG beantrage ich die Hera",
          "273510: Die DSGVO-Information Ihrer Behörde für Antragstellende der Energiepreispauschale für Studierende.",
          "203043: Unter Verweis auf die Pflicht zur Vorlage eines Energieausweises nach EnEV 2014 §16 beantrage ich di",
          "199297: Unter Verweis auf die Pflicht zur Vorlage eines Energieausweises nach EnEV 2014 §16 beantrage ich di",
          "225202: einen Beleg dafür, dass in welchem Zeitraum in den Sommerferien 2021 Arbeiten an der Heizung in der ",
          "198144: Unter Verweis auf die Pflicht zur Vorlage eines Energieausweises nach EnEV 2014 §16 Abs. 2 beantrage",
          "28864: Informationen darüber, wann eine Zulassung zur Teilnahme am Amateurfunkdienst mitzuführen ist.\r\n\r\nGe",
          "73313: Kommt die Bundesregierung Ihrer Pflicht nach die Bürger und die Umwelt entsprechend vor neuen gefähr",
          "151555: A: Eigene Analyse der Emissionen und eine eigene Analyse von spezifischem Energieverbrauch (z. B. pr",
          "219317: Besteht die Möglichkeit die Vorhandene Gläubiger ID mit VR 40762 uns noch einmal zuzusenden, da durc",
          "197999: Unter Verweis auf die Pflicht zur Vorlage eines Energieausweises nach EnEV 2014 §16 Abs. 2 beantrage",
          "199107: Unter Verweis auf die Pflicht zur Vorlage eines Energieausweises nach EnEV 2014 §16 Abs. 2 beantrage",
          "202143: die Standortbescheinigungen zu den Standorten mit den Bescheinigungsnummern:\r\n- 710310\r\n- 711005\r\n- ",
          "199767: Unter Verweis auf die Pflicht zur Vorlage eines Energieausweises nach EnEV 2014 §16 beantrage ich di",
          "209618: Unter Verweis auf die Pflicht zur Vorlage eines Energieausweises nach §80 GEG beantrage ich die Hera",
          "201055: Unter Verweis auf die Pflicht zur Vorlage eines Energieausweises nach EnEV 2014 §16 beantrage ich di",
          "250655: Unter Verweis auf die Pflicht zur Vorlage eines Energieausweises nach §80 GEG beantrage ich die Hera",
          "236064: wäre es möglich, die grüne Umweltplakette für E-Autos abzuschaffen? Auf dem Nummernschild ist bereit",
          "203223: Unter Verweis auf die Pflicht zur Vorlage eines Energieausweises nach EnEV 2014 §16 beantrage ich di",
          "19976: Welcher Mobilfunkbetreiber steht hinter der Standortbescheinigungs-Nr.: 200392",
          "199001: Unter Verweis auf die Pflicht zur Vorlage eines Energieausweises nach EnEV 2014 §16 Abs. 2 beantrage",
          "198677: Unter Verweis auf die Pflicht zur Vorlage eines Energieausweises nach EnEV 2014 §16 Abs. 2 beantrage",
          "214846: eine Auflistung welche öffentliche bundesnahe Einrichtungen so genannten \"Ökostrom\" gebrauchen als H",
          "199422: Unter Verweis auf die Pflicht zur Vorlage eines Energieausweises nach EnEV 2014 §16 beantrage ich di",
          "272622: 1. die Anzahl von Anträgen an Ihre Behörde zur Installation von Photovoltaik und Solarthermie auf un",
          "245284: Unter Verweis auf die Pflicht zur Vorlage eines Energieausweises nach §80 GEG beantrage ich die Hera",
          "200122: Unter Verweis auf die Pflicht zur Vorlage eines Energieausweises nach EnEV 2014 §16 beantrage ich di",
          "203153: Unter Verweis auf die Pflicht zur Vorlage eines Energieausweises nach EnEV 2014 §16 beantrage ich di",
          "2480: Bitte nennen Sie mir die Firmennamen mit Adressen der Unternehmen, welche von der EEG Umlage weitest",
          "280326: Unter Verweis auf die Pflicht zur Vorlage eines Energieausweises nach §80 GEG beantrage ich die Hera",
          "200606: Unter Verweis auf die Pflicht zur Vorlage eines Energieausweises nach EnEV 2014 §16 beantrage ich di",
          null
         ],
         "marker": {
          "opacity": 0.5,
          "size": 5
         },
         "mode": "markers+text",
         "name": "2_energiebedarfsausweis_gebudes_sollten",
         "text": [
          "",
          "",
          "",
          "",
          "",
          "",
          "",
          "",
          "",
          "",
          "",
          "",
          "",
          "",
          "",
          "",
          "",
          "",
          "",
          "",
          "",
          "",
          "",
          "",
          "",
          "",
          "",
          "",
          "",
          "",
          "",
          "",
          "",
          "",
          "",
          "2_energiebedarfsausweis_gebudes_sollten"
         ],
         "textfont": {
          "size": 12
         },
         "type": "scattergl",
         "x": [
          3.7249279022216797,
          3.662606716156006,
          3.6712090969085693,
          3.2677226066589355,
          3.286902666091919,
          3.376376152038574,
          3.7027788162231445,
          3.5871427059173584,
          -1.237122654914856,
          3.671213388442993,
          2.8573055267333984,
          1.367936611175537,
          3.7738571166992188,
          2.733029365539551,
          3.6337637901306152,
          3.70717453956604,
          2.8337035179138184,
          3.684518814086914,
          3.316739797592163,
          3.820176601409912,
          3.2513465881347656,
          3.4486026763916016,
          3.6915674209594727,
          2.8071141242980957,
          3.735485076904297,
          3.8209450244903564,
          3.4270057678222656,
          3.6345267295837402,
          3.6467459201812744,
          3.2523252964019775,
          3.765252113342285,
          3.673412799835205,
          3.6436338424682617,
          3.270817279815674,
          3.5795512199401855,
          3.2882943153381348
         ],
         "y": [
          8.613024711608887,
          8.527807235717773,
          8.272337913513184,
          7.880112171173096,
          7.91547966003418,
          8.033330917358398,
          8.504636764526367,
          8.60699462890625,
          13.20176887512207,
          8.613953590393066,
          7.879123210906982,
          8.563515663146973,
          8.59498119354248,
          7.933269500732422,
          8.39458179473877,
          8.352790832519531,
          7.861484050750732,
          8.483872413635254,
          7.927361488342285,
          8.302661895751953,
          7.865271091461182,
          8.724199295043945,
          8.540304183959961,
          7.8601226806640625,
          8.4695463180542,
          8.543129920959473,
          8.009393692016602,
          8.551169395446777,
          8.282683372497559,
          7.842459678649902,
          8.51484489440918,
          8.491233825683594,
          8.495940208435059,
          7.877291202545166,
          8.534699440002441,
          8.430439949035645
         ]
        },
        {
         "hoverinfo": "text",
         "hovertext": [
          "250051: Wieviele Bürgerinnen und Bürger wurden im Bundesland in der aktuellen Schöffenwahlperiode 2019-2023 ",
          "38150: Das Rechtsgutachten von 2002, mit dem begründet wurde, weshalb Murat Kurnaz im Falle einer Freilassu",
          "193763: Wieviele heets darf ich aus polen nach Deutschland einführen. Da das ja Pfeifentabak ist sollten es ",
          "249037: nach einer kleinen Anfrage der CDU-Fraktion in Berlin hat das Berliner Innenministerium die Anzahl d",
          "281372: wie viele Bußgeldbescheide wurden im letzten und vorletzten Jahr in Berlin gegen Privatpersonen wege",
          "188297: Wie hoch waren die Einnahmen aus der Hundesteuer im Jahre 2019?",
          "255878: Die falsche Gewährung von Durchsuchungen durch Ermittlungs-/Straf-Richter kann drastische/dramatisch",
          "288203: Wieviele Strafanträge wurden jeweils durch die nachgenannten Politiker der Bundesregierung wärend ih",
          "197365: Ich möchte gerne von Ihnen den aktuellen, sowie den vorherigen Mindestanforderungskatalog für Polize",
          "213288: Wie viele Abschiebungen in den Iran, nach Guinea, nach Burkina Faso und nach Somalia von Personen in",
          "259600: Welche statistischen Daten liegen bzgl. über die via Onlinewache eingereichten (Straf-)Anzeigen vor?",
          "267528: Wie hoch war die Geldauflage, die der Polizist des Polizeipräsidiums Bonn im Zusammenhang mit dem Ve",
          "10097: - Statistik ueber die Anzahl von Drittstaatler mit Daueraufenthalt-EU aus Deutschland, die in Deutsc",
          "246569: ich bitte sie mitzuteilen wie viele Falschparker per E Mail an das Ordnungsamt gemeldet werden, wie ",
          "174422: 1. den dem Spiegel vorliegenden Gesetzentwurf zur Einführung von Gesichtserkennungssystemen an 135 d",
          "202980: Über Traffic Message Channel (TMC) werden Informationen über Verkehrsbeeinträchtigungen im nichthörb",
          "34489: 1) Wie viele Ermittlungsverfahren laufen oder liefen bei Ihnen wegen der Veröffentlichung/Weiterverb",
          "12111: Ich bitte um Zusendung von Informationen über \r\n1) statistische Angaben oder sonstige Erhebungen übe",
          "25124: Welchen Regeln/Anweisungen/Datenschutzgesetze gelten für die Emailkommunikation der Berliner Polizei",
          "237986: Wie viele Beschwerden (Anzahl) betreffend die Briefzustellung der Deutschen Post AG im Bereich der G",
          "24838: Informationen über die Anzahl und Höhe von Bußgeldern, die auf Grund von Verstößen gegen § 32 Absatz",
          "257139: Ich bitte sie darum mir eine Liste der  nicht durchgesetzt XBus Linien zukommen zu lassen",
          "204342: Anfrage nach dem Berliner Informationsfreiheitsgesetz, VIG\r\n\r\nSehr geehrte Damen und Herren,\r\n\r\nda i",
          "34509: 1) Wie viele Ermittlungsverfahren laufen oder liefen bei Ihnen wegen der Veröffentlichung/Weiterverb",
          "196629: Auf der Querdenken-Demonstration am 3.9.2020 vor dem Brandenburger Tor wurden nach Angaben im Intern",
          "243552: Liste der Neuanschaffungen für die Gefangenenbücherei jeweils für 2020 und 2021\r\nWie viel Budget für",
          "130738: Anzahl/Herkunftsländer der zugewanderten Migranten seit 2015, sowie deren Aufenthaltstitel. Wieviele",
          "232171: (1) Eine Liste aller Verwarnungen wegen Verkehrsordnungswidrigkeiten (\"Knöllchen\"), die im Oktober 2",
          "16468: Was passiert mit 10€ Silbermünzen, die in den Bundesbank Filialen abgegeben werden ? Werde diese wie",
          "20116: Statistiken zur Nutzung des Öffentlichen Personen Nahverkehrs im Bereich Dortmund der letzten fünf J",
          "4610: Hiermit bitte ich um Aktuelle Informationen zu den Vorkommnissen der Demonstrationen seitens der Pol",
          "249688: nach einer kleinen Anfrage der CDU-Fraktion in Berlin hat das Berliner Innenministerium die Anzahl d",
          "226887: Wie viele zu schützende Personen wurden mit dem ersten Evakuierungsflug einer A400M der Bundeswehr, ",
          "260728: Die Anzahl baden-württembergischer Polizist_innen, die Mitglied in mindestens einer rechtsextremen C",
          null
         ],
         "marker": {
          "opacity": 0.5,
          "size": 5
         },
         "mode": "markers+text",
         "name": "3_viele_anzahl_wurden",
         "text": [
          "",
          "",
          "",
          "",
          "",
          "",
          "",
          "",
          "",
          "",
          "",
          "",
          "",
          "",
          "",
          "",
          "",
          "",
          "",
          "",
          "",
          "",
          "",
          "",
          "",
          "",
          "",
          "",
          "",
          "",
          "",
          "",
          "",
          "",
          "3_viele_anzahl_wurden"
         ],
         "textfont": {
          "size": 12
         },
         "type": "scattergl",
         "x": [
          -1.9284499883651733,
          -1.8073344230651855,
          -1.471702218055725,
          -1.9211045503616333,
          -1.595257043838501,
          -1.5136703252792358,
          -2.1151301860809326,
          -2.0318350791931152,
          -0.9986975789070129,
          -1.8819482326507568,
          -2.077942371368408,
          -1.6290857791900635,
          -2.112786293029785,
          -1.243878722190857,
          -0.9733661413192749,
          -1.0603452920913696,
          -2.0386359691619873,
          -1.7451198101043701,
          -1.325012445449829,
          -1.946723461151123,
          -0.5929769277572632,
          -0.18816116452217102,
          -1.0757410526275635,
          -2.048361301422119,
          -1.3361382484436035,
          -1.694955587387085,
          -2.0833189487457275,
          -0.7691857218742371,
          -1.6016452312469482,
          -1.901939034461975,
          -1.3943501710891724,
          -1.9438447952270508,
          -1.7434593439102173,
          -1.9491993188858032,
          -1.5806264877319336
         ],
         "y": [
          9.350269317626953,
          9.567208290100098,
          8.682496070861816,
          9.309932708740234,
          8.640054702758789,
          7.479437351226807,
          8.795403480529785,
          8.899067878723145,
          9.061551094055176,
          9.422286033630371,
          8.985391616821289,
          8.570732116699219,
          9.62672233581543,
          8.633979797363281,
          9.214622497558594,
          9.822689056396484,
          8.84406566619873,
          9.42822265625,
          9.187302589416504,
          9.295989036560059,
          10.641561508178711,
          10.989152908325195,
          9.149430274963379,
          8.849339485168457,
          9.205760955810547,
          7.479598522186279,
          9.547626495361328,
          9.288578987121582,
          8.580177307128906,
          9.173378944396973,
          9.342514038085938,
          9.309266090393066,
          9.169476509094238,
          9.283455848693848,
          9.141962051391602
         ]
        },
        {
         "hoverinfo": "text",
         "hovertext": [
          "259053: Die Aufgaben, Erwartungshorizonte und Lösungen für die Abitur-Prüfung im Fach Mathematik aus dem Jah",
          "167483: Die Aufgaben, Erwartungshorizonte und Lösungen für die Abitur-Prüfung im Fach Kunst aus dem Jahr 201",
          "269409: Die Aufgaben, Erwartungshorizonte und Lösungen für die Abitur-Prüfung im Fach Mathematik aus dem Jah",
          "247204: Die Aufgaben, Erwartungshorizonte und Lösungen für die Abitur-Prüfung im Fach Deutsch aus dem Jahr 2",
          "248302: Prüfungsaufgaben Matheabitur 2022.",
          "274658: Die Aufgaben, Erwartungshorizonte und Lösungen für die Abitur-Prüfung im Fach Deutsch aus dem Jahr 2",
          "3828: Die Studie \"zu den Political Net Activists\" des Instituts für Demoskopie in Allensbach, wie berichte",
          "168765: Die Aufgaben, Erwartungshorizonte und Lösungen für die Abitur-Prüfung im Fach Geschichte aus dem Jah",
          "11025: Die Studie \"zu den Political Net Activists\" des Instituts für Demoskopie in Allensbach, wie berichte",
          "278202: Die Aufgaben, Erwartungshorizonte und Lösungen für die Abitur-Prüfung im Fach Physik aus dem Jahr 20",
          "236333: Die Aufgaben, Erwartungshorizonte und Lösungen für die Abitur-Prüfung im Fach Informatik aus dem Jah",
          "167451: Die Aufgaben, Erwartungshorizonte und Lösungen für die Abitur-Prüfung im Fach Biologie aus dem Jahr ",
          "57430: Die Aufgaben, Erwartungshorizonte und Lösungen für die Abitur-Prüfung im Fach Chemie aus dem Jahr 20",
          "168571: Die Aufgaben, Erwartungshorizonte und Lösungen für die Abitur-Prüfung im Fach Erziehungswissenschaft",
          "271034: Die Prüfungen und Musterlösungen bzw. den Erwartungshorizont für die Abituraufgaben 2007-2021 in den",
          "186305: Detaillierte Vergabekriterien für das Deutschlandstipendium/den Bildungsfonds wie sie für das Förder",
          "167235: Die Aufgaben, Erwartungshorizonte und Lösungen für die Abitur-Prüfung im Fach Latein aus dem Jahr 20",
          "195943: Die Aufgaben, Erwartungshorizonte und Lösungen für die Abitur-Prüfung im Fach Deutsch aus dem Jahr 2",
          "174246: Informationen, Statistiken und Analysen zur Häufigkeit von Unterrichtsausfall an der Bertha-von-Sutt",
          "174939: die Prüfergebnisse zum Softwareupdate der Mercedes Benz Dieselfahrzeuge im Jahr 2019, die eine einwa",
          "251767: Die Aufgaben, Erwartungshorizonte und Lösungen für die Abitur-Prüfung im Fach Physik aus dem Jahr 20",
          "136301: Die Aufgaben, Erwartungshorizonte und Lösungen für die Abitur-Prüfung im Fach Deutsch aus dem Jahr 2",
          "165836: Die Aufgaben, Erwartungshorizonte und Lösungen für die Abitur-Prüfung im Fach Psychologie aus dem Ja",
          "135259: Die Aufgaben, Erwartungshorizonte und Lösungen für die Abitur-Prüfung im Fach Pädagogik aus dem Jahr",
          "243357: Die Aufgaben, Erwartungshorizonte und Lösungen für die Abitur-Prüfung im Fach Philosophie aus dem Ja",
          "147800: Alle zentral gestellten Klausuren der Fächer Deutsch und Biologie für die Jahrgangsstufen EF, Q1 und",
          "164606: Die Aufgaben, Erwartungshorizonte und Lösungen für die Abitur-Prüfung im Fach Philosophie aus dem Ja",
          "113322: Die Aufgaben, Erwartungshorizonte und Lösungen für die Abitur-Prüfung im Fach Biologie aus dem Jahr ",
          "3098: Studie \"Politisch Netzaktive und Politik in Deutschland\" von TNS Infratest, wie berichtet in http://",
          "9320: Die schriftlichen Abschlussprüfungen inkl. Lösung der vergangenen Jahre (ca. 2009-2014) zum IT-Syste",
          "50549: sämliche Rohdaten, wenn möglich in maschinenlesbarer Form, die im Rahmen des HStatG für das Winterse",
          null
         ],
         "marker": {
          "opacity": 0.5,
          "size": 5
         },
         "mode": "markers+text",
         "name": "4_abiturprfung_erwartungshorizonte_lsungen",
         "text": [
          "",
          "",
          "",
          "",
          "",
          "",
          "",
          "",
          "",
          "",
          "",
          "",
          "",
          "",
          "",
          "",
          "",
          "",
          "",
          "",
          "",
          "",
          "",
          "",
          "",
          "",
          "",
          "",
          "",
          "",
          "",
          "4_abiturprfung_erwartungshorizonte_lsungen"
         ],
         "textfont": {
          "size": 12
         },
         "type": "scattergl",
         "x": [
          -1.7841429710388184,
          -1.8304829597473145,
          -1.8094021081924438,
          -1.930979609489441,
          -1.7279342412948608,
          -2.0637025833129883,
          -2.1496081352233887,
          -1.848251223564148,
          -2.1389150619506836,
          -1.8375235795974731,
          -1.8027985095977783,
          -1.9140640497207642,
          -2.047470808029175,
          -2.090167284011841,
          -2.120870351791382,
          -1.7668200731277466,
          -1.865530252456665,
          -1.8568068742752075,
          -1.6201114654541016,
          -1.7789028882980347,
          -2.0344152450561523,
          -2.054708242416382,
          -2.058171272277832,
          -2.049760103225708,
          -1.810474157333374,
          -1.8412734270095825,
          -2.0278823375701904,
          -2.0519351959228516,
          -2.157554864883423,
          -1.795239806175232,
          -1.4879028797149658,
          -1.914638876914978
         ],
         "y": [
          13.54408073425293,
          13.550029754638672,
          13.563425064086914,
          13.579534530639648,
          13.867851257324219,
          13.527040481567383,
          13.180665969848633,
          13.484231948852539,
          13.215737342834473,
          13.506545066833496,
          13.599813461303711,
          13.500300407409668,
          14.266227722167969,
          14.324268341064453,
          14.343754768371582,
          13.049101829528809,
          13.621116638183594,
          13.484118461608887,
          12.468063354492188,
          13.832371711730957,
          14.252131462097168,
          14.28072452545166,
          14.291674613952637,
          14.269190788269043,
          13.598591804504395,
          13.309786796569824,
          14.246484756469727,
          14.271356582641602,
          13.142171859741211,
          13.858261108398438,
          13.361603736877441,
          13.690009117126465
         ]
        },
        {
         "hoverinfo": "text",
         "hovertext": [
          "197387: Wir von Familien in der Krise fragen uns, wie gehe ich damit um wenn mein Kind Kontakt Grad 1 eines ",
          "215385: Sämtliche beim BMG vorliegenden Informationen in Bezug auf Kontakte und Kontaktversuche des MdB Chri",
          "277582: Rechtsgrundlage, nach der entgegen §4 HWG für den Einsatz der Corona-Impfung der vorgeschriebene Sat",
          "225358: Ich habe am 16.März diesen Jahres einen Corona-Test im Testzentrum Schwertstrasse Krefeld machen las",
          "232111: Wie viele Tage fiel das Zivilpersonal des BMVg durch Krankheit \r\nim Jahr vor Einführung des Betriebl",
          "215918: Bitte teilen Sie mir die abschließenden Ergebnisse der Sequenzierungen mit, die aufgrund der positiv",
          "201676: Daten über Krankenhausbehandlungen von Corona-Positiven Menschen. Ich möchte hierzu die Daten über d",
          "168693: Am 13. Juli 2019 wurde dem Bundesgesundheitsministerium eine Petition \"Deutschland braucht keine Imp",
          "173119: es wird um vollständige Informationen nach dem  Gesetz zur Regelung des Zugangs zu Informationen des",
          "215481: Sämtliche beim BMG vorliegenden Informationen in Bezug auf Kontakte und Kontaktversuche des MdB Feli",
          "223186: versuche mir ein Bild über die Infektionslage vor Ort im zuständigen Gebiet des Gesundheitsamtes zu ",
          "219083: Ich würde gern mal wissen, ob ich von jedem meiner Patienten (welche mehrere Termine pro Woche bei m",
          "215491: Sämtliche beim BMG vorliegenden Informationen in Bezug auf Kontakte und Kontaktversuche des MdB Andr",
          "4982: am 27.9. antwortete mir Herr Kriminaloberkommissar Daniel Focke, wie folgt:\r\nZitat Anfang:\r\n\"vielen ",
          "62892: << Antragsteller:in >> Statistiken, die zeigen ob und wieviele sowie welche Komplikationen aus Impfu",
          "206897: Es werden aktuell von einigen wenigen Ärzten aus ideologischen Gründen im Zusammenhang mit der Coron",
          "256554: Am 30.1.2019 fand im Sportausschuss des Deutschen Bundestages eine nichtöffentliche Sitzung zum Them",
          "237512: §263a SGB V erlaubt den Krankenkassen, 2 Prozent Ihrer Finanzreserven anzulegen. Die Absicht der Kra",
          "230897: 1) Kosten der für das Wintersemester vorgesehenen Maßnahmen des Infektionsschutzes (Insbesondere Auf",
          "237517: §263a SGB V erlaubt den Krankenkassen, 2 Prozent Ihrer Finanzreserven anzulegen. Die Absicht der Kra",
          "235929: Antrag nach dem Informationsfreiheitsgesetz NRW\r\n\r\nSehr geehrte Damen und Herren,\r\n\r\nNach § 6 Abs. 1",
          null
         ],
         "marker": {
          "opacity": 0.5,
          "size": 5
         },
         "mode": "markers+text",
         "name": "5_bezug_mdb_senden",
         "text": [
          "",
          "",
          "",
          "",
          "",
          "",
          "",
          "",
          "",
          "",
          "",
          "",
          "",
          "",
          "",
          "",
          "",
          "",
          "",
          "",
          "",
          "5_bezug_mdb_senden"
         ],
         "textfont": {
          "size": 12
         },
         "type": "scattergl",
         "x": [
          -3.1396663188934326,
          -3.1314752101898193,
          -2.7675092220306396,
          -3.208592176437378,
          -3.0699446201324463,
          -3.1330902576446533,
          -3.192774772644043,
          -2.6943156719207764,
          -1.4691007137298584,
          -3.129274845123291,
          -3.0075924396514893,
          -3.216644048690796,
          -3.158141613006592,
          -2.1827592849731445,
          -2.7198636531829834,
          -3.1682016849517822,
          -2.292804718017578,
          -2.6996986865997314,
          -3.0374417304992676,
          -2.6971020698547363,
          -2.670177698135376,
          -2.8469605445861816
         ],
         "y": [
          10.829776763916016,
          10.761443138122559,
          10.720964431762695,
          10.834568977355957,
          10.703145980834961,
          10.798258781433105,
          10.835474014282227,
          10.74278450012207,
          10.909035682678223,
          10.778095245361328,
          10.777597427368164,
          10.84760570526123,
          10.783783912658691,
          10.682263374328613,
          10.652327537536621,
          10.794328689575195,
          10.817630767822266,
          10.844633102416992,
          10.758599281311035,
          10.822032928466797,
          10.758198738098145,
          10.783454895019531
         ]
        },
        {
         "hoverinfo": "text",
         "hovertext": [
          "206727: 1. Wann haben die beiden letzten lebensmittelrechtlichen Betriebsüberprüfungen im folgenden Betrieb ",
          "205955: 1. Wann haben die beiden letzten lebensmittelrechtlichen Betriebsüberprüfungen im folgenden Betrieb ",
          "163147: Bitte senden Sie mir wenn es möglich ist, die Abschlussfragen des Examnens der Physiotherapieschule ",
          "376: Sehr geehrtes Robert Koch Institut, mich würde sehr interessieren, mit welchem Laborkit von welcher ",
          "284636: 1. Wann haben die beiden letzten lebensmittelrechtlichen Betriebsüberprüfungen im folgenden Betrieb ",
          "256190: 1. Wann haben die beiden letzten lebensmittelrechtlichen Betriebsüberprüfungen im folgenden Betrieb ",
          "207236: 1. Wann haben die beiden letzten lebensmittelrechtlichen Betriebsüberprüfungen im folgenden Betrieb ",
          "210259: 1. Wann haben die beiden letzten lebensmittelrechtlichen Betriebsüberprüfungen im folgenden Betrieb ",
          "9069: Am 17.02.2014 berichtete die Hessische/Niedersächsische Allgemeine (HNA): \r\n\r\n„Das Jobcenter Waldeck",
          "6557: Betrieb: \r\nRestaurant Rosin\r\nHervester Strasse 18\r\n46286 Dorsten-Wulfen\r\n\r\nzu dem folgendem Vorgang:",
          "236107: 1. Wann haben in den vergangenen 5 Jahren lebensmittelrechtliche Betriebsüberprüfungen im folgenden ",
          "206539: 1. Wann haben die beiden letzten lebensmittelrechtlichen Betriebsüberprüfungen im folgenden Betrieb ",
          "209386: 1. Wann haben die beiden letzten lebensmittelrechtlichen Betriebsüberprüfungen im folgenden Betrieb ",
          "207513: 1. Wann haben die beiden letzten lebensmittelrechtlichen Betriebsüberprüfungen im folgenden Betrieb ",
          "206033: 1. Wann haben die beiden letzten lebensmittelrechtlichen Betriebsüberprüfungen im folgenden Betrieb ",
          "206075: 1. Wann haben die beiden letzten lebensmittelrechtlichen Betriebsüberprüfungen im folgenden Betrieb ",
          "206293: 1. Wann haben die beiden letzten lebensmittelrechtlichen Betriebsüberprüfungen im folgenden Betrieb ",
          "240577: 1. Wann haben die beiden letzten lebensmittelrechtlichen Betriebsüberprüfungen im folgenden Betrieb ",
          null
         ],
         "marker": {
          "opacity": 0.5,
          "size": 5
         },
         "mode": "markers+text",
         "name": "6_beanstandungen_betrieb_betriebsberprfungen",
         "text": [
          "",
          "",
          "",
          "",
          "",
          "",
          "",
          "",
          "",
          "",
          "",
          "",
          "",
          "",
          "",
          "",
          "",
          "",
          "6_beanstandungen_betrieb_betriebsberprfungen"
         ],
         "textfont": {
          "size": 12
         },
         "type": "scattergl",
         "x": [
          -0.29759520292282104,
          -0.1724451780319214,
          -1.9784550666809082,
          -0.3169243037700653,
          -0.1750417798757553,
          -0.2754278779029846,
          -0.2019740343093872,
          -0.18159465491771698,
          -0.2817034125328064,
          -0.27230024337768555,
          -0.2841718792915344,
          -0.2249685376882553,
          -0.27644452452659607,
          -0.2690378427505493,
          -0.1374468356370926,
          -0.23598937690258026,
          -0.09401528537273407,
          -0.16272753477096558,
          -0.32434794306755066
         ],
         "y": [
          6.1243085861206055,
          5.960178375244141,
          11.753303527832031,
          6.398470401763916,
          5.97528076171875,
          6.036255836486816,
          6.069068908691406,
          5.991440296173096,
          6.300790786743164,
          6.067447185516357,
          6.0821027755737305,
          6.0088276863098145,
          6.07921838760376,
          6.218422889709473,
          5.934343338012695,
          6.012095928192139,
          5.8884782791137695,
          5.959360122680664,
          6.381077289581299
         ]
        },
        {
         "hoverinfo": "text",
         "hovertext": [
          "230411: Protokoll des Steuerungskreises 1. Juli bis 31. August 2021",
          "245149: Der sogenannte Beraterbericht des BMF 2019 und 2020",
          "187528: 'Bitte teilen sie mir die Sterblichkeit bzw Übersterblichkeit des 1. Quartales der Jahre 2016-2020 m",
          "161636: die Sitzungsprotokolle des AStA der folgenden Sitzungen:\r\n\r\n25. Juli 2019\r\n18. Juli 2019\r\n11. Juli 2",
          "264322: Speisepläne der Kalenderwoche 7 des Jahres 2022 und 2021 in digitaler Form.",
          "236354: Stundenabrechnung der im Programm DigitalFirst (ITD-DF) eingesetzten Mitarbeiterinnen und Mitarbeite",
          "227848: Präsentation und Unterlagen zum Treffen der OZG-Themenfeldführer:innen im August 2021",
          "25404: - Eine Übersicht der Berichte von Beratungs- und Kontrollbesuchen der BfDI in den Jahren 2015 und 20",
          "209217: Die im Jahr 2020 veröffentlichten Verschollenheitslisten über die Todeserklärungen von Vermissten de",
          "231035: Geldübergabe betreffend Kosten der Rechtssache T-31/18 (Izuzquiza, Semsrott ./. Frontex) am 4. Oktob",
          "223830: Risikoplan / Risikomanagementplan dür das Programm Digital First",
          "19966: Das Protokoll der Sitzung des Zweckverbands Gewerbe- u. Industriegebiet Borgholzhausen / Versmold vo",
          null
         ],
         "marker": {
          "opacity": 0.5,
          "size": 5
         },
         "mode": "markers+text",
         "name": "7_2019_juli_juni",
         "text": [
          "",
          "",
          "",
          "",
          "",
          "",
          "",
          "",
          "",
          "",
          "",
          "",
          "7_2019_juli_juni"
         ],
         "textfont": {
          "size": 12
         },
         "type": "scattergl",
         "x": [
          -0.313916951417923,
          -0.32092684507369995,
          -0.7153564095497131,
          -0.3009898364543915,
          -0.6703144907951355,
          -0.6698029041290283,
          -0.3095340430736542,
          -0.2956818640232086,
          -0.7661845088005066,
          -0.028592269867658615,
          -0.686152458190918,
          -0.2815650403499603,
          -0.4465847909450531
         ],
         "y": [
          13.066431045532227,
          12.965780258178711,
          12.622917175292969,
          13.056450843811035,
          12.812663078308105,
          12.688323974609375,
          13.071478843688965,
          12.600561141967773,
          12.515593528747559,
          12.857060432434082,
          12.661725997924805,
          13.06234359741211,
          12.831778526306152
         ]
        },
        {
         "hoverinfo": "text",
         "hovertext": [
          "285023: Die Prüfberichte zu den 55 geprüften Besetzungsverfahren für Spitzenpersonal in den Ministerien und ",
          "250288: - die Entscheidungsgrundlage für die Wahl von Christian Schertz als Gutachter\r\n- den Vertrag zwische",
          "243917: Es geht in meiner Anfrage um Menschenrechtswidrige Zurückweisungspraxis\r\nEs gibt Fälle, in denen an ",
          "2763: Ich bitte um Übersendung des Gutachtens \"Rechtsfragen im Kontext der Abgeordnetenkorruption\" bevorzu",
          "1929: Ich bitte um Übersendung des Gutachtens \"Rechtsfragen im Kontext der Abgeordnetenkorruption\" bevorzu",
          "2340: Ich bitte um Übersendung des Gutachtens \"Rechtsfragen im Kontext der Abgeordnetenkorruption\" bevorzu",
          "165410: - den Erlass zum Löschmoratorium im November 2011\r\n\r\nIn einem Widerspruchsbescheid zu einer anderen ",
          "24889: Am Verwaltungsgericht Sigmaringen gab es eine möglicherweise sehr intransparente Verhandlung und ent",
          "265091: - alle Ihrer Behörde vorliegenden Gutachten zur Badener Wand / Battert, insbesondere zu Wanderfalken",
          "34104: Bundesfinanzhof zahlt Rundfunkbeiträge und ist Beitragsschuldner.\r\n\r\nBitte schicken Sie mir Informat",
          "2366: Ich bitte um Übersendung des Gutachtens \"Rechtsfragen im Kontext der Abgeordnetenkorruption\" bevorzu",
          null
         ],
         "marker": {
          "opacity": 0.5,
          "size": 5
         },
         "mode": "markers+text",
         "name": "8_dr_gutachtens_heer",
         "text": [
          "",
          "",
          "",
          "",
          "",
          "",
          "",
          "",
          "",
          "",
          "",
          "8_dr_gutachtens_heer"
         ],
         "textfont": {
          "size": 12
         },
         "type": "scattergl",
         "x": [
          -3.195385694503784,
          -3.1713879108428955,
          -3.1843748092651367,
          -3.2178101539611816,
          -3.2331905364990234,
          -3.2249162197113037,
          -3.214092254638672,
          -3.1692698001861572,
          -3.2429516315460205,
          0.10513170063495636,
          -3.2396702766418457,
          -2.9079926013946533
         ],
         "y": [
          8.112963676452637,
          8.140593528747559,
          8.065924644470215,
          8.084453582763672,
          8.070154190063477,
          8.079444885253906,
          8.097253799438477,
          8.141376495361328,
          8.06246280670166,
          9.473526954650879,
          8.061214447021484,
          8.217215538024902
         ]
        }
       ],
       "layout": {
        "annotations": [
         {
          "showarrow": false,
          "text": "D1",
          "x": -3.7293943762779236,
          "y": 10.138305604457855,
          "yshift": 10
         },
         {
          "showarrow": false,
          "text": "D2",
          "x": 5.747951728105545,
          "xshift": 10,
          "y": 16.49531798362732
         }
        ],
        "height": 750,
        "shapes": [
         {
          "line": {
           "color": "#CFD8DC",
           "width": 2
          },
          "type": "line",
          "x0": 5.747951728105545,
          "x1": 5.747951728105545,
          "y0": 3.7812932252883913,
          "y1": 16.49531798362732
         },
         {
          "line": {
           "color": "#9E9E9E",
           "width": 2
          },
          "type": "line",
          "x0": -3.7293943762779236,
          "x1": 15.225297832489014,
          "y0": 10.138305604457855,
          "y1": 10.138305604457855
         }
        ],
        "template": {
         "data": {
          "bar": [
           {
            "error_x": {
             "color": "rgb(36,36,36)"
            },
            "error_y": {
             "color": "rgb(36,36,36)"
            },
            "marker": {
             "line": {
              "color": "white",
              "width": 0.5
             },
             "pattern": {
              "fillmode": "overlay",
              "size": 10,
              "solidity": 0.2
             }
            },
            "type": "bar"
           }
          ],
          "barpolar": [
           {
            "marker": {
             "line": {
              "color": "white",
              "width": 0.5
             },
             "pattern": {
              "fillmode": "overlay",
              "size": 10,
              "solidity": 0.2
             }
            },
            "type": "barpolar"
           }
          ],
          "carpet": [
           {
            "aaxis": {
             "endlinecolor": "rgb(36,36,36)",
             "gridcolor": "white",
             "linecolor": "white",
             "minorgridcolor": "white",
             "startlinecolor": "rgb(36,36,36)"
            },
            "baxis": {
             "endlinecolor": "rgb(36,36,36)",
             "gridcolor": "white",
             "linecolor": "white",
             "minorgridcolor": "white",
             "startlinecolor": "rgb(36,36,36)"
            },
            "type": "carpet"
           }
          ],
          "choropleth": [
           {
            "colorbar": {
             "outlinewidth": 1,
             "tickcolor": "rgb(36,36,36)",
             "ticks": "outside"
            },
            "type": "choropleth"
           }
          ],
          "contour": [
           {
            "colorbar": {
             "outlinewidth": 1,
             "tickcolor": "rgb(36,36,36)",
             "ticks": "outside"
            },
            "colorscale": [
             [
              0,
              "#440154"
             ],
             [
              0.1111111111111111,
              "#482878"
             ],
             [
              0.2222222222222222,
              "#3e4989"
             ],
             [
              0.3333333333333333,
              "#31688e"
             ],
             [
              0.4444444444444444,
              "#26828e"
             ],
             [
              0.5555555555555556,
              "#1f9e89"
             ],
             [
              0.6666666666666666,
              "#35b779"
             ],
             [
              0.7777777777777778,
              "#6ece58"
             ],
             [
              0.8888888888888888,
              "#b5de2b"
             ],
             [
              1,
              "#fde725"
             ]
            ],
            "type": "contour"
           }
          ],
          "contourcarpet": [
           {
            "colorbar": {
             "outlinewidth": 1,
             "tickcolor": "rgb(36,36,36)",
             "ticks": "outside"
            },
            "type": "contourcarpet"
           }
          ],
          "heatmap": [
           {
            "colorbar": {
             "outlinewidth": 1,
             "tickcolor": "rgb(36,36,36)",
             "ticks": "outside"
            },
            "colorscale": [
             [
              0,
              "#440154"
             ],
             [
              0.1111111111111111,
              "#482878"
             ],
             [
              0.2222222222222222,
              "#3e4989"
             ],
             [
              0.3333333333333333,
              "#31688e"
             ],
             [
              0.4444444444444444,
              "#26828e"
             ],
             [
              0.5555555555555556,
              "#1f9e89"
             ],
             [
              0.6666666666666666,
              "#35b779"
             ],
             [
              0.7777777777777778,
              "#6ece58"
             ],
             [
              0.8888888888888888,
              "#b5de2b"
             ],
             [
              1,
              "#fde725"
             ]
            ],
            "type": "heatmap"
           }
          ],
          "heatmapgl": [
           {
            "colorbar": {
             "outlinewidth": 1,
             "tickcolor": "rgb(36,36,36)",
             "ticks": "outside"
            },
            "colorscale": [
             [
              0,
              "#440154"
             ],
             [
              0.1111111111111111,
              "#482878"
             ],
             [
              0.2222222222222222,
              "#3e4989"
             ],
             [
              0.3333333333333333,
              "#31688e"
             ],
             [
              0.4444444444444444,
              "#26828e"
             ],
             [
              0.5555555555555556,
              "#1f9e89"
             ],
             [
              0.6666666666666666,
              "#35b779"
             ],
             [
              0.7777777777777778,
              "#6ece58"
             ],
             [
              0.8888888888888888,
              "#b5de2b"
             ],
             [
              1,
              "#fde725"
             ]
            ],
            "type": "heatmapgl"
           }
          ],
          "histogram": [
           {
            "marker": {
             "line": {
              "color": "white",
              "width": 0.6
             }
            },
            "type": "histogram"
           }
          ],
          "histogram2d": [
           {
            "colorbar": {
             "outlinewidth": 1,
             "tickcolor": "rgb(36,36,36)",
             "ticks": "outside"
            },
            "colorscale": [
             [
              0,
              "#440154"
             ],
             [
              0.1111111111111111,
              "#482878"
             ],
             [
              0.2222222222222222,
              "#3e4989"
             ],
             [
              0.3333333333333333,
              "#31688e"
             ],
             [
              0.4444444444444444,
              "#26828e"
             ],
             [
              0.5555555555555556,
              "#1f9e89"
             ],
             [
              0.6666666666666666,
              "#35b779"
             ],
             [
              0.7777777777777778,
              "#6ece58"
             ],
             [
              0.8888888888888888,
              "#b5de2b"
             ],
             [
              1,
              "#fde725"
             ]
            ],
            "type": "histogram2d"
           }
          ],
          "histogram2dcontour": [
           {
            "colorbar": {
             "outlinewidth": 1,
             "tickcolor": "rgb(36,36,36)",
             "ticks": "outside"
            },
            "colorscale": [
             [
              0,
              "#440154"
             ],
             [
              0.1111111111111111,
              "#482878"
             ],
             [
              0.2222222222222222,
              "#3e4989"
             ],
             [
              0.3333333333333333,
              "#31688e"
             ],
             [
              0.4444444444444444,
              "#26828e"
             ],
             [
              0.5555555555555556,
              "#1f9e89"
             ],
             [
              0.6666666666666666,
              "#35b779"
             ],
             [
              0.7777777777777778,
              "#6ece58"
             ],
             [
              0.8888888888888888,
              "#b5de2b"
             ],
             [
              1,
              "#fde725"
             ]
            ],
            "type": "histogram2dcontour"
           }
          ],
          "mesh3d": [
           {
            "colorbar": {
             "outlinewidth": 1,
             "tickcolor": "rgb(36,36,36)",
             "ticks": "outside"
            },
            "type": "mesh3d"
           }
          ],
          "parcoords": [
           {
            "line": {
             "colorbar": {
              "outlinewidth": 1,
              "tickcolor": "rgb(36,36,36)",
              "ticks": "outside"
             }
            },
            "type": "parcoords"
           }
          ],
          "pie": [
           {
            "automargin": true,
            "type": "pie"
           }
          ],
          "scatter": [
           {
            "fillpattern": {
             "fillmode": "overlay",
             "size": 10,
             "solidity": 0.2
            },
            "type": "scatter"
           }
          ],
          "scatter3d": [
           {
            "line": {
             "colorbar": {
              "outlinewidth": 1,
              "tickcolor": "rgb(36,36,36)",
              "ticks": "outside"
             }
            },
            "marker": {
             "colorbar": {
              "outlinewidth": 1,
              "tickcolor": "rgb(36,36,36)",
              "ticks": "outside"
             }
            },
            "type": "scatter3d"
           }
          ],
          "scattercarpet": [
           {
            "marker": {
             "colorbar": {
              "outlinewidth": 1,
              "tickcolor": "rgb(36,36,36)",
              "ticks": "outside"
             }
            },
            "type": "scattercarpet"
           }
          ],
          "scattergeo": [
           {
            "marker": {
             "colorbar": {
              "outlinewidth": 1,
              "tickcolor": "rgb(36,36,36)",
              "ticks": "outside"
             }
            },
            "type": "scattergeo"
           }
          ],
          "scattergl": [
           {
            "marker": {
             "colorbar": {
              "outlinewidth": 1,
              "tickcolor": "rgb(36,36,36)",
              "ticks": "outside"
             }
            },
            "type": "scattergl"
           }
          ],
          "scattermapbox": [
           {
            "marker": {
             "colorbar": {
              "outlinewidth": 1,
              "tickcolor": "rgb(36,36,36)",
              "ticks": "outside"
             }
            },
            "type": "scattermapbox"
           }
          ],
          "scatterpolar": [
           {
            "marker": {
             "colorbar": {
              "outlinewidth": 1,
              "tickcolor": "rgb(36,36,36)",
              "ticks": "outside"
             }
            },
            "type": "scatterpolar"
           }
          ],
          "scatterpolargl": [
           {
            "marker": {
             "colorbar": {
              "outlinewidth": 1,
              "tickcolor": "rgb(36,36,36)",
              "ticks": "outside"
             }
            },
            "type": "scatterpolargl"
           }
          ],
          "scatterternary": [
           {
            "marker": {
             "colorbar": {
              "outlinewidth": 1,
              "tickcolor": "rgb(36,36,36)",
              "ticks": "outside"
             }
            },
            "type": "scatterternary"
           }
          ],
          "surface": [
           {
            "colorbar": {
             "outlinewidth": 1,
             "tickcolor": "rgb(36,36,36)",
             "ticks": "outside"
            },
            "colorscale": [
             [
              0,
              "#440154"
             ],
             [
              0.1111111111111111,
              "#482878"
             ],
             [
              0.2222222222222222,
              "#3e4989"
             ],
             [
              0.3333333333333333,
              "#31688e"
             ],
             [
              0.4444444444444444,
              "#26828e"
             ],
             [
              0.5555555555555556,
              "#1f9e89"
             ],
             [
              0.6666666666666666,
              "#35b779"
             ],
             [
              0.7777777777777778,
              "#6ece58"
             ],
             [
              0.8888888888888888,
              "#b5de2b"
             ],
             [
              1,
              "#fde725"
             ]
            ],
            "type": "surface"
           }
          ],
          "table": [
           {
            "cells": {
             "fill": {
              "color": "rgb(237,237,237)"
             },
             "line": {
              "color": "white"
             }
            },
            "header": {
             "fill": {
              "color": "rgb(217,217,217)"
             },
             "line": {
              "color": "white"
             }
            },
            "type": "table"
           }
          ]
         },
         "layout": {
          "annotationdefaults": {
           "arrowhead": 0,
           "arrowwidth": 1
          },
          "autotypenumbers": "strict",
          "coloraxis": {
           "colorbar": {
            "outlinewidth": 1,
            "tickcolor": "rgb(36,36,36)",
            "ticks": "outside"
           }
          },
          "colorscale": {
           "diverging": [
            [
             0,
             "rgb(103,0,31)"
            ],
            [
             0.1,
             "rgb(178,24,43)"
            ],
            [
             0.2,
             "rgb(214,96,77)"
            ],
            [
             0.3,
             "rgb(244,165,130)"
            ],
            [
             0.4,
             "rgb(253,219,199)"
            ],
            [
             0.5,
             "rgb(247,247,247)"
            ],
            [
             0.6,
             "rgb(209,229,240)"
            ],
            [
             0.7,
             "rgb(146,197,222)"
            ],
            [
             0.8,
             "rgb(67,147,195)"
            ],
            [
             0.9,
             "rgb(33,102,172)"
            ],
            [
             1,
             "rgb(5,48,97)"
            ]
           ],
           "sequential": [
            [
             0,
             "#440154"
            ],
            [
             0.1111111111111111,
             "#482878"
            ],
            [
             0.2222222222222222,
             "#3e4989"
            ],
            [
             0.3333333333333333,
             "#31688e"
            ],
            [
             0.4444444444444444,
             "#26828e"
            ],
            [
             0.5555555555555556,
             "#1f9e89"
            ],
            [
             0.6666666666666666,
             "#35b779"
            ],
            [
             0.7777777777777778,
             "#6ece58"
            ],
            [
             0.8888888888888888,
             "#b5de2b"
            ],
            [
             1,
             "#fde725"
            ]
           ],
           "sequentialminus": [
            [
             0,
             "#440154"
            ],
            [
             0.1111111111111111,
             "#482878"
            ],
            [
             0.2222222222222222,
             "#3e4989"
            ],
            [
             0.3333333333333333,
             "#31688e"
            ],
            [
             0.4444444444444444,
             "#26828e"
            ],
            [
             0.5555555555555556,
             "#1f9e89"
            ],
            [
             0.6666666666666666,
             "#35b779"
            ],
            [
             0.7777777777777778,
             "#6ece58"
            ],
            [
             0.8888888888888888,
             "#b5de2b"
            ],
            [
             1,
             "#fde725"
            ]
           ]
          },
          "colorway": [
           "#1F77B4",
           "#FF7F0E",
           "#2CA02C",
           "#D62728",
           "#9467BD",
           "#8C564B",
           "#E377C2",
           "#7F7F7F",
           "#BCBD22",
           "#17BECF"
          ],
          "font": {
           "color": "rgb(36,36,36)"
          },
          "geo": {
           "bgcolor": "white",
           "lakecolor": "white",
           "landcolor": "white",
           "showlakes": true,
           "showland": true,
           "subunitcolor": "white"
          },
          "hoverlabel": {
           "align": "left"
          },
          "hovermode": "closest",
          "mapbox": {
           "style": "light"
          },
          "paper_bgcolor": "white",
          "plot_bgcolor": "white",
          "polar": {
           "angularaxis": {
            "gridcolor": "rgb(232,232,232)",
            "linecolor": "rgb(36,36,36)",
            "showgrid": false,
            "showline": true,
            "ticks": "outside"
           },
           "bgcolor": "white",
           "radialaxis": {
            "gridcolor": "rgb(232,232,232)",
            "linecolor": "rgb(36,36,36)",
            "showgrid": false,
            "showline": true,
            "ticks": "outside"
           }
          },
          "scene": {
           "xaxis": {
            "backgroundcolor": "white",
            "gridcolor": "rgb(232,232,232)",
            "gridwidth": 2,
            "linecolor": "rgb(36,36,36)",
            "showbackground": true,
            "showgrid": false,
            "showline": true,
            "ticks": "outside",
            "zeroline": false,
            "zerolinecolor": "rgb(36,36,36)"
           },
           "yaxis": {
            "backgroundcolor": "white",
            "gridcolor": "rgb(232,232,232)",
            "gridwidth": 2,
            "linecolor": "rgb(36,36,36)",
            "showbackground": true,
            "showgrid": false,
            "showline": true,
            "ticks": "outside",
            "zeroline": false,
            "zerolinecolor": "rgb(36,36,36)"
           },
           "zaxis": {
            "backgroundcolor": "white",
            "gridcolor": "rgb(232,232,232)",
            "gridwidth": 2,
            "linecolor": "rgb(36,36,36)",
            "showbackground": true,
            "showgrid": false,
            "showline": true,
            "ticks": "outside",
            "zeroline": false,
            "zerolinecolor": "rgb(36,36,36)"
           }
          },
          "shapedefaults": {
           "fillcolor": "black",
           "line": {
            "width": 0
           },
           "opacity": 0.3
          },
          "ternary": {
           "aaxis": {
            "gridcolor": "rgb(232,232,232)",
            "linecolor": "rgb(36,36,36)",
            "showgrid": false,
            "showline": true,
            "ticks": "outside"
           },
           "baxis": {
            "gridcolor": "rgb(232,232,232)",
            "linecolor": "rgb(36,36,36)",
            "showgrid": false,
            "showline": true,
            "ticks": "outside"
           },
           "bgcolor": "white",
           "caxis": {
            "gridcolor": "rgb(232,232,232)",
            "linecolor": "rgb(36,36,36)",
            "showgrid": false,
            "showline": true,
            "ticks": "outside"
           }
          },
          "title": {
           "x": 0.05
          },
          "xaxis": {
           "automargin": true,
           "gridcolor": "rgb(232,232,232)",
           "linecolor": "rgb(36,36,36)",
           "showgrid": false,
           "showline": true,
           "ticks": "outside",
           "title": {
            "standoff": 15
           },
           "zeroline": false,
           "zerolinecolor": "rgb(36,36,36)"
          },
          "yaxis": {
           "automargin": true,
           "gridcolor": "rgb(232,232,232)",
           "linecolor": "rgb(36,36,36)",
           "showgrid": false,
           "showline": true,
           "ticks": "outside",
           "title": {
            "standoff": 15
           },
           "zeroline": false,
           "zerolinecolor": "rgb(36,36,36)"
          }
         }
        },
        "title": {
         "font": {
          "color": "Black",
          "size": 22
         },
         "text": "<b>Documents and Topics</b>",
         "x": 0.5,
         "xanchor": "center",
         "yanchor": "top"
        },
        "width": 1200,
        "xaxis": {
         "visible": false
        },
        "yaxis": {
         "visible": false
        }
       }
      }
     },
     "metadata": {},
     "output_type": "display_data"
    }
   ],
   "source": [
    "# Reduce dimensionality of embeddings, this step is optional but much faster to perform iteratively:\n",
    "reduced_embeddings = UMAP(n_neighbors=10, n_components=2, min_dist=0.0, metric='cosine').fit_transform(embeddings)\n",
    "topic_model.visualize_documents(hover_lst, reduced_embeddings=reduced_embeddings)"
   ]
  },
  {
   "cell_type": "code",
   "execution_count": 12,
   "metadata": {},
   "outputs": [
    {
     "name": "stderr",
     "output_type": "stream",
     "text": [
      "100%|██████████| 8/8 [00:00<00:00, 204.14it/s]\n"
     ]
    }
   ],
   "source": [
    "hierarchical_topics = topic_model.hierarchical_topics(docs)"
   ]
  },
  {
   "cell_type": "code",
   "execution_count": 13,
   "metadata": {},
   "outputs": [
    {
     "data": {
      "application/vnd.plotly.v1+json": {
       "config": {
        "plotlyServerURL": "https://plot.ly"
       },
       "data": [
        {
         "hoverinfo": "text",
         "marker": {
          "color": "rgb(61,153,112)"
         },
         "mode": "lines",
         "text": [
          "bezug_mdb_senden_ber_bmg",
          "",
          "",
          "bitte_antrag_abs_fr_ifg"
         ],
         "type": "scatter",
         "x": [
          0,
          0.6937950401148887,
          0.6937950401148887,
          0
         ],
         "xaxis": "x",
         "y": [
          -25,
          -25,
          -35,
          -35
         ],
         "yaxis": "y"
        },
        {
         "hoverinfo": "text",
         "marker": {
          "color": "rgb(61,153,112)"
         },
         "mode": "lines",
         "text": [
          "bitte_antrag_fr_abs_informationen",
          "",
          "",
          "viele_anzahl_wurden_vielen_wegen"
         ],
         "type": "scatter",
         "x": [
          0.6937950401148887,
          0.7564039227331187,
          0.7564039227331187,
          0
         ],
         "xaxis": "x",
         "y": [
          -30,
          -30,
          -45,
          -45
         ],
         "yaxis": "y"
        },
        {
         "hoverinfo": "text",
         "marker": {
          "color": "rgb(61,153,112)"
         },
         "mode": "lines",
         "text": [
          "dokumente_smtliche_jobcenter_benachrichtigung_postalischen",
          "",
          "",
          "bitte_fr_antrag_abs_informationen"
         ],
         "type": "scatter",
         "x": [
          0,
          0.8109088728604619,
          0.8109088728604619,
          0.7564039227331187
         ],
         "xaxis": "x",
         "y": [
          -15,
          -15,
          -37.5,
          -37.5
         ],
         "yaxis": "y"
        },
        {
         "hoverinfo": "text",
         "marker": {
          "color": "rgb(61,153,112)"
         },
         "mode": "lines",
         "text": [
          "energiebedarfsausweis_gebudes_sollten_uig_verweise",
          "",
          "",
          "bitte_fr_abs_informationen_antrag"
         ],
         "type": "scatter",
         "x": [
          0,
          0.9114179190687189,
          0.9114179190687189,
          0.8109088728604619
         ],
         "xaxis": "x",
         "y": [
          -5,
          -5,
          -26.25,
          -26.25
         ],
         "yaxis": "y"
        },
        {
         "hoverinfo": "text",
         "marker": {
          "color": "rgb(255,65,54)"
         },
         "mode": "lines",
         "text": [
          "dr_gutachtens_heer_gericht_reinhard",
          "",
          "",
          "abiturprfung_erwartungshorizonte_lsungen_fach_aufgaben"
         ],
         "type": "scatter",
         "x": [
          0,
          0.9095593008866886,
          0.9095593008866886,
          0
         ],
         "xaxis": "x",
         "y": [
          -55,
          -55,
          -65,
          -65
         ],
         "yaxis": "y"
        },
        {
         "hoverinfo": "text",
         "marker": {
          "color": "rgb(255,65,54)"
         },
         "mode": "lines",
         "text": [
          "dr_erwartungshorizonte_abiturprfung_jahr_lsungen",
          "",
          "",
          "2019_juli_juni_2021_mai"
         ],
         "type": "scatter",
         "x": [
          0.9095593008866886,
          0.9637037684632542,
          0.9637037684632542,
          0
         ],
         "xaxis": "x",
         "y": [
          -60,
          -60,
          -75,
          -75
         ],
         "yaxis": "y"
        },
        {
         "hoverinfo": "text",
         "marker": {
          "color": "rgb(0,116,217)"
         },
         "mode": "lines",
         "text": [
          "dr_jahr_abiturprfung_erwartungshorizonte_lsungen",
          "",
          "",
          "beanstandungen_betrieb_betriebsberprfungen_stattgefunden_kam"
         ],
         "type": "scatter",
         "x": [
          0.9637037684632542,
          1.0031232010594642,
          1.0031232010594642,
          0
         ],
         "xaxis": "x",
         "y": [
          -67.5,
          -67.5,
          -85,
          -85
         ],
         "yaxis": "y"
        },
        {
         "hoverinfo": "text",
         "marker": {
          "color": "rgb(0,116,217)"
         },
         "mode": "lines",
         "text": [
          "bitte_fr_abs_informationen_ber",
          "",
          "",
          "jahr_dr_erwartungshorizonte_abiturprfung_lsungen"
         ],
         "type": "scatter",
         "x": [
          0.9114179190687189,
          1.0727020000444256,
          1.0727020000444256,
          1.0031232010594642
         ],
         "xaxis": "x",
         "y": [
          -15.625,
          -15.625,
          -76.25,
          -76.25
         ],
         "yaxis": "y"
        },
        {
         "hoverinfo": "text",
         "hovertext": [
          "bitte_antrag_fr_abs_informationen",
          "dr_erwartungshorizonte_abiturprfung_jahr_lsungen",
          "dr_jahr_abiturprfung_erwartungshorizonte_lsungen",
          "bitte_fr_abs_informationen_ber"
         ],
         "marker": {
          "color": "black"
         },
         "mode": "markers",
         "showlegend": false,
         "type": "scatter",
         "x": [
          0.6937950401148887,
          0.9095593008866886,
          0.9637037684632542,
          0.9114179190687189
         ],
         "y": [
          -30,
          -60,
          -67.5,
          -15.625
         ]
        },
        {
         "hoverinfo": "text",
         "hovertext": [
          "bitte_fr_antrag_abs_informationen",
          "bitte_fr_abs_informationen_antrag",
          "jahr_dr_erwartungshorizonte_abiturprfung_lsungen"
         ],
         "marker": {
          "color": "black"
         },
         "mode": "markers",
         "showlegend": false,
         "type": "scatter",
         "x": [
          0.7564039227331187,
          0.8109088728604619,
          1.0031232010594642
         ],
         "y": [
          -37.5,
          -26.25,
          -76.25
         ]
        }
       ],
       "layout": {
        "autosize": false,
        "height": 335,
        "hoverlabel": {
         "bgcolor": "white",
         "font": {
          "family": "Rockwell",
          "size": 16
         }
        },
        "hovermode": "closest",
        "plot_bgcolor": "#ECEFF1",
        "showlegend": false,
        "template": {
         "data": {
          "bar": [
           {
            "error_x": {
             "color": "#2a3f5f"
            },
            "error_y": {
             "color": "#2a3f5f"
            },
            "marker": {
             "line": {
              "color": "white",
              "width": 0.5
             },
             "pattern": {
              "fillmode": "overlay",
              "size": 10,
              "solidity": 0.2
             }
            },
            "type": "bar"
           }
          ],
          "barpolar": [
           {
            "marker": {
             "line": {
              "color": "white",
              "width": 0.5
             },
             "pattern": {
              "fillmode": "overlay",
              "size": 10,
              "solidity": 0.2
             }
            },
            "type": "barpolar"
           }
          ],
          "carpet": [
           {
            "aaxis": {
             "endlinecolor": "#2a3f5f",
             "gridcolor": "#C8D4E3",
             "linecolor": "#C8D4E3",
             "minorgridcolor": "#C8D4E3",
             "startlinecolor": "#2a3f5f"
            },
            "baxis": {
             "endlinecolor": "#2a3f5f",
             "gridcolor": "#C8D4E3",
             "linecolor": "#C8D4E3",
             "minorgridcolor": "#C8D4E3",
             "startlinecolor": "#2a3f5f"
            },
            "type": "carpet"
           }
          ],
          "choropleth": [
           {
            "colorbar": {
             "outlinewidth": 0,
             "ticks": ""
            },
            "type": "choropleth"
           }
          ],
          "contour": [
           {
            "colorbar": {
             "outlinewidth": 0,
             "ticks": ""
            },
            "colorscale": [
             [
              0,
              "#0d0887"
             ],
             [
              0.1111111111111111,
              "#46039f"
             ],
             [
              0.2222222222222222,
              "#7201a8"
             ],
             [
              0.3333333333333333,
              "#9c179e"
             ],
             [
              0.4444444444444444,
              "#bd3786"
             ],
             [
              0.5555555555555556,
              "#d8576b"
             ],
             [
              0.6666666666666666,
              "#ed7953"
             ],
             [
              0.7777777777777778,
              "#fb9f3a"
             ],
             [
              0.8888888888888888,
              "#fdca26"
             ],
             [
              1,
              "#f0f921"
             ]
            ],
            "type": "contour"
           }
          ],
          "contourcarpet": [
           {
            "colorbar": {
             "outlinewidth": 0,
             "ticks": ""
            },
            "type": "contourcarpet"
           }
          ],
          "heatmap": [
           {
            "colorbar": {
             "outlinewidth": 0,
             "ticks": ""
            },
            "colorscale": [
             [
              0,
              "#0d0887"
             ],
             [
              0.1111111111111111,
              "#46039f"
             ],
             [
              0.2222222222222222,
              "#7201a8"
             ],
             [
              0.3333333333333333,
              "#9c179e"
             ],
             [
              0.4444444444444444,
              "#bd3786"
             ],
             [
              0.5555555555555556,
              "#d8576b"
             ],
             [
              0.6666666666666666,
              "#ed7953"
             ],
             [
              0.7777777777777778,
              "#fb9f3a"
             ],
             [
              0.8888888888888888,
              "#fdca26"
             ],
             [
              1,
              "#f0f921"
             ]
            ],
            "type": "heatmap"
           }
          ],
          "heatmapgl": [
           {
            "colorbar": {
             "outlinewidth": 0,
             "ticks": ""
            },
            "colorscale": [
             [
              0,
              "#0d0887"
             ],
             [
              0.1111111111111111,
              "#46039f"
             ],
             [
              0.2222222222222222,
              "#7201a8"
             ],
             [
              0.3333333333333333,
              "#9c179e"
             ],
             [
              0.4444444444444444,
              "#bd3786"
             ],
             [
              0.5555555555555556,
              "#d8576b"
             ],
             [
              0.6666666666666666,
              "#ed7953"
             ],
             [
              0.7777777777777778,
              "#fb9f3a"
             ],
             [
              0.8888888888888888,
              "#fdca26"
             ],
             [
              1,
              "#f0f921"
             ]
            ],
            "type": "heatmapgl"
           }
          ],
          "histogram": [
           {
            "marker": {
             "pattern": {
              "fillmode": "overlay",
              "size": 10,
              "solidity": 0.2
             }
            },
            "type": "histogram"
           }
          ],
          "histogram2d": [
           {
            "colorbar": {
             "outlinewidth": 0,
             "ticks": ""
            },
            "colorscale": [
             [
              0,
              "#0d0887"
             ],
             [
              0.1111111111111111,
              "#46039f"
             ],
             [
              0.2222222222222222,
              "#7201a8"
             ],
             [
              0.3333333333333333,
              "#9c179e"
             ],
             [
              0.4444444444444444,
              "#bd3786"
             ],
             [
              0.5555555555555556,
              "#d8576b"
             ],
             [
              0.6666666666666666,
              "#ed7953"
             ],
             [
              0.7777777777777778,
              "#fb9f3a"
             ],
             [
              0.8888888888888888,
              "#fdca26"
             ],
             [
              1,
              "#f0f921"
             ]
            ],
            "type": "histogram2d"
           }
          ],
          "histogram2dcontour": [
           {
            "colorbar": {
             "outlinewidth": 0,
             "ticks": ""
            },
            "colorscale": [
             [
              0,
              "#0d0887"
             ],
             [
              0.1111111111111111,
              "#46039f"
             ],
             [
              0.2222222222222222,
              "#7201a8"
             ],
             [
              0.3333333333333333,
              "#9c179e"
             ],
             [
              0.4444444444444444,
              "#bd3786"
             ],
             [
              0.5555555555555556,
              "#d8576b"
             ],
             [
              0.6666666666666666,
              "#ed7953"
             ],
             [
              0.7777777777777778,
              "#fb9f3a"
             ],
             [
              0.8888888888888888,
              "#fdca26"
             ],
             [
              1,
              "#f0f921"
             ]
            ],
            "type": "histogram2dcontour"
           }
          ],
          "mesh3d": [
           {
            "colorbar": {
             "outlinewidth": 0,
             "ticks": ""
            },
            "type": "mesh3d"
           }
          ],
          "parcoords": [
           {
            "line": {
             "colorbar": {
              "outlinewidth": 0,
              "ticks": ""
             }
            },
            "type": "parcoords"
           }
          ],
          "pie": [
           {
            "automargin": true,
            "type": "pie"
           }
          ],
          "scatter": [
           {
            "fillpattern": {
             "fillmode": "overlay",
             "size": 10,
             "solidity": 0.2
            },
            "type": "scatter"
           }
          ],
          "scatter3d": [
           {
            "line": {
             "colorbar": {
              "outlinewidth": 0,
              "ticks": ""
             }
            },
            "marker": {
             "colorbar": {
              "outlinewidth": 0,
              "ticks": ""
             }
            },
            "type": "scatter3d"
           }
          ],
          "scattercarpet": [
           {
            "marker": {
             "colorbar": {
              "outlinewidth": 0,
              "ticks": ""
             }
            },
            "type": "scattercarpet"
           }
          ],
          "scattergeo": [
           {
            "marker": {
             "colorbar": {
              "outlinewidth": 0,
              "ticks": ""
             }
            },
            "type": "scattergeo"
           }
          ],
          "scattergl": [
           {
            "marker": {
             "colorbar": {
              "outlinewidth": 0,
              "ticks": ""
             }
            },
            "type": "scattergl"
           }
          ],
          "scattermapbox": [
           {
            "marker": {
             "colorbar": {
              "outlinewidth": 0,
              "ticks": ""
             }
            },
            "type": "scattermapbox"
           }
          ],
          "scatterpolar": [
           {
            "marker": {
             "colorbar": {
              "outlinewidth": 0,
              "ticks": ""
             }
            },
            "type": "scatterpolar"
           }
          ],
          "scatterpolargl": [
           {
            "marker": {
             "colorbar": {
              "outlinewidth": 0,
              "ticks": ""
             }
            },
            "type": "scatterpolargl"
           }
          ],
          "scatterternary": [
           {
            "marker": {
             "colorbar": {
              "outlinewidth": 0,
              "ticks": ""
             }
            },
            "type": "scatterternary"
           }
          ],
          "surface": [
           {
            "colorbar": {
             "outlinewidth": 0,
             "ticks": ""
            },
            "colorscale": [
             [
              0,
              "#0d0887"
             ],
             [
              0.1111111111111111,
              "#46039f"
             ],
             [
              0.2222222222222222,
              "#7201a8"
             ],
             [
              0.3333333333333333,
              "#9c179e"
             ],
             [
              0.4444444444444444,
              "#bd3786"
             ],
             [
              0.5555555555555556,
              "#d8576b"
             ],
             [
              0.6666666666666666,
              "#ed7953"
             ],
             [
              0.7777777777777778,
              "#fb9f3a"
             ],
             [
              0.8888888888888888,
              "#fdca26"
             ],
             [
              1,
              "#f0f921"
             ]
            ],
            "type": "surface"
           }
          ],
          "table": [
           {
            "cells": {
             "fill": {
              "color": "#EBF0F8"
             },
             "line": {
              "color": "white"
             }
            },
            "header": {
             "fill": {
              "color": "#C8D4E3"
             },
             "line": {
              "color": "white"
             }
            },
            "type": "table"
           }
          ]
         },
         "layout": {
          "annotationdefaults": {
           "arrowcolor": "#2a3f5f",
           "arrowhead": 0,
           "arrowwidth": 1
          },
          "autotypenumbers": "strict",
          "coloraxis": {
           "colorbar": {
            "outlinewidth": 0,
            "ticks": ""
           }
          },
          "colorscale": {
           "diverging": [
            [
             0,
             "#8e0152"
            ],
            [
             0.1,
             "#c51b7d"
            ],
            [
             0.2,
             "#de77ae"
            ],
            [
             0.3,
             "#f1b6da"
            ],
            [
             0.4,
             "#fde0ef"
            ],
            [
             0.5,
             "#f7f7f7"
            ],
            [
             0.6,
             "#e6f5d0"
            ],
            [
             0.7,
             "#b8e186"
            ],
            [
             0.8,
             "#7fbc41"
            ],
            [
             0.9,
             "#4d9221"
            ],
            [
             1,
             "#276419"
            ]
           ],
           "sequential": [
            [
             0,
             "#0d0887"
            ],
            [
             0.1111111111111111,
             "#46039f"
            ],
            [
             0.2222222222222222,
             "#7201a8"
            ],
            [
             0.3333333333333333,
             "#9c179e"
            ],
            [
             0.4444444444444444,
             "#bd3786"
            ],
            [
             0.5555555555555556,
             "#d8576b"
            ],
            [
             0.6666666666666666,
             "#ed7953"
            ],
            [
             0.7777777777777778,
             "#fb9f3a"
            ],
            [
             0.8888888888888888,
             "#fdca26"
            ],
            [
             1,
             "#f0f921"
            ]
           ],
           "sequentialminus": [
            [
             0,
             "#0d0887"
            ],
            [
             0.1111111111111111,
             "#46039f"
            ],
            [
             0.2222222222222222,
             "#7201a8"
            ],
            [
             0.3333333333333333,
             "#9c179e"
            ],
            [
             0.4444444444444444,
             "#bd3786"
            ],
            [
             0.5555555555555556,
             "#d8576b"
            ],
            [
             0.6666666666666666,
             "#ed7953"
            ],
            [
             0.7777777777777778,
             "#fb9f3a"
            ],
            [
             0.8888888888888888,
             "#fdca26"
            ],
            [
             1,
             "#f0f921"
            ]
           ]
          },
          "colorway": [
           "#636efa",
           "#EF553B",
           "#00cc96",
           "#ab63fa",
           "#FFA15A",
           "#19d3f3",
           "#FF6692",
           "#B6E880",
           "#FF97FF",
           "#FECB52"
          ],
          "font": {
           "color": "#2a3f5f"
          },
          "geo": {
           "bgcolor": "white",
           "lakecolor": "white",
           "landcolor": "white",
           "showlakes": true,
           "showland": true,
           "subunitcolor": "#C8D4E3"
          },
          "hoverlabel": {
           "align": "left"
          },
          "hovermode": "closest",
          "mapbox": {
           "style": "light"
          },
          "paper_bgcolor": "white",
          "plot_bgcolor": "white",
          "polar": {
           "angularaxis": {
            "gridcolor": "#EBF0F8",
            "linecolor": "#EBF0F8",
            "ticks": ""
           },
           "bgcolor": "white",
           "radialaxis": {
            "gridcolor": "#EBF0F8",
            "linecolor": "#EBF0F8",
            "ticks": ""
           }
          },
          "scene": {
           "xaxis": {
            "backgroundcolor": "white",
            "gridcolor": "#DFE8F3",
            "gridwidth": 2,
            "linecolor": "#EBF0F8",
            "showbackground": true,
            "ticks": "",
            "zerolinecolor": "#EBF0F8"
           },
           "yaxis": {
            "backgroundcolor": "white",
            "gridcolor": "#DFE8F3",
            "gridwidth": 2,
            "linecolor": "#EBF0F8",
            "showbackground": true,
            "ticks": "",
            "zerolinecolor": "#EBF0F8"
           },
           "zaxis": {
            "backgroundcolor": "white",
            "gridcolor": "#DFE8F3",
            "gridwidth": 2,
            "linecolor": "#EBF0F8",
            "showbackground": true,
            "ticks": "",
            "zerolinecolor": "#EBF0F8"
           }
          },
          "shapedefaults": {
           "line": {
            "color": "#2a3f5f"
           }
          },
          "ternary": {
           "aaxis": {
            "gridcolor": "#DFE8F3",
            "linecolor": "#A2B1C6",
            "ticks": ""
           },
           "baxis": {
            "gridcolor": "#DFE8F3",
            "linecolor": "#A2B1C6",
            "ticks": ""
           },
           "bgcolor": "white",
           "caxis": {
            "gridcolor": "#DFE8F3",
            "linecolor": "#A2B1C6",
            "ticks": ""
           }
          },
          "title": {
           "x": 0.05
          },
          "xaxis": {
           "automargin": true,
           "gridcolor": "#EBF0F8",
           "linecolor": "#EBF0F8",
           "ticks": "",
           "title": {
            "standoff": 15
           },
           "zerolinecolor": "#EBF0F8",
           "zerolinewidth": 2
          },
          "yaxis": {
           "automargin": true,
           "gridcolor": "#EBF0F8",
           "linecolor": "#EBF0F8",
           "ticks": "",
           "title": {
            "standoff": 15
           },
           "zerolinecolor": "#EBF0F8",
           "zerolinewidth": 2
          }
         }
        },
        "title": {
         "font": {
          "color": "Black",
          "size": 22
         },
         "text": "<b>Hierarchical Clustering</b>",
         "x": 0.5,
         "xanchor": "center",
         "yanchor": "top"
        },
        "width": 1000,
        "xaxis": {
         "mirror": "allticks",
         "rangemode": "tozero",
         "showgrid": false,
         "showline": true,
         "showticklabels": true,
         "ticks": "outside",
         "type": "linear",
         "zeroline": false
        },
        "yaxis": {
         "mirror": "allticks",
         "range": [
          -90,
          0
         ],
         "rangemode": "tozero",
         "showgrid": false,
         "showline": true,
         "showticklabels": true,
         "tickmode": "array",
         "ticks": "outside",
         "ticktext": [
          "2_energiebedarfsausweis_geb...",
          "1_dokumente_smtliche_jobcen...",
          "5_bezug_mdb_senden",
          "0_bitte_antrag_abs",
          "3_viele_anzahl_wurden",
          "8_dr_gutachtens_heer",
          "4_abiturprfung_erwartungsho...",
          "7_2019_juli_juni",
          "6_beanstandungen_betrieb_be..."
         ],
         "tickvals": [
          -5,
          -15,
          -25,
          -35,
          -45,
          -55,
          -65,
          -75,
          -85
         ],
         "type": "linear",
         "zeroline": false
        }
       }
      }
     },
     "metadata": {},
     "output_type": "display_data"
    }
   ],
   "source": [
    "topic_model.visualize_hierarchy(hierarchical_topics=hierarchical_topics)\n"
   ]
  }
 ],
 "metadata": {
  "kernelspec": {
   "display_name": "venv",
   "language": "python",
   "name": "python3"
  },
  "language_info": {
   "codemirror_mode": {
    "name": "ipython",
    "version": 3
   },
   "file_extension": ".py",
   "mimetype": "text/x-python",
   "name": "python",
   "nbconvert_exporter": "python",
   "pygments_lexer": "ipython3",
   "version": "3.10.12"
  },
  "orig_nbformat": 4
 },
 "nbformat": 4,
 "nbformat_minor": 2
}
